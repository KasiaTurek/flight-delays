{
 "cells": [
  {
   "cell_type": "markdown",
   "metadata": {},
   "source": [
    " # Opis notatnika\n",
    " Analiza przygotowana w poprzednim kroku dotyczyłą roku 2019. Teraz dodam również dane z 2020 roku i dokonam analizy porównawczej.\n",
    "\n",
    " Ten notatnik skupia się na odpowiednim przygotowaniu bazy danych pod cele raportowe."
   ]
  },
  {
   "cell_type": "markdown",
   "metadata": {},
   "source": [
    " # Obszary raportowania odsetka opóźnień lotów\n",
    " 1. Wyświetlanie TOP 10 (w sensie najwyższego odsetka opóźnień) lotnisk na podstawie liczby odlotów, również informacja o liczbie przylotów - widok `top_airports_by_departure`.  \n",
    " 1. Wyświetlenie TOP 10 (w sensie najwyższego odsetka opóźnień) tras lotów. Przy czym istotna dla nas jest kolejność, przykładowo trasa (Warszawa, Paryż) jest inna niż (Paryż, Warszawa). Dodatkowym wymaganiem jest, aby minimalna liczba lotów odbytych na trasie wynosiła co najmniej 10000 przelotów - widok `top_reliability_roads`.  \n",
    " 1. Porównanie roku 2019 vs. 2020, aby śledzić wpływ COVID na realizację lotów. Interesują mnie podejścia:  \n",
    "     - miesiąc do miesiąca, przykładowo odsetek opoźnień styczeń 2019 vs. odsetek opoźnień styczeń 2020, odsetek opoźnień luty 2019 vs. odsetek opoźnień luty 2020 itd. - widok `year_to_year_comparision`,  \n",
    "     - dzień do dnia, przykładowo odsetek opoźnień wtorek 2019 vs. odsetek opoźnień wtorek 2020 - widok `day_to_day_comparision`.  \n",
    " 1. Dzienny, czyli jak danego dnia, globalnie wyglądał wskaźnik opóźnień lotów samolotu, tj. odsetek opóźnień 01-01-2019, odsetek opóźnień 02-01-2019 itd."
   ]
  },
  {
   "cell_type": "markdown",
   "metadata": {},
   "source": [
    " # Podejście techniczne\n",
    " Moim celem będzie odseparowanie warstwy przygotowania danych (logika raportu) od warstwy prezentacyjnej (wizualizacja), aby odpowiednie procesy zajmowały się tylko swoimi zadaniami. \n",
    " \n",
    " > W tym podejściu warstwa prezentacyjna (wykres/raport) nie implementuje logiki biznesowej w celu przetwarzania danych, czyli żeby przykładowo agregacja nie była wykonywana w momencie tworzenia wizualizacji.\n",
    "\n",
    " To podejście będzie spójne ze współczesnym sposobem projektowania aplikacji. Ma to też dodatkowy benefit - ze względu na wolumen danych na bazie, nie trzeba ich najpierw pobierać - warstwa logiczna je odpowiednio zagreguje i przekaże zdecydowanie mniejszą liczbę wierszy, co przyśpieszy działanie całości.\n",
    "\n",
    "  Na bazie danych, gdzie umieszczone są już dane, wszystko zawarte jest na schemacie `public`. Dlatego tworzę schemat dedykowany - `reporting` w którym stworzę konkretne widoki."
   ]
  },
  {
   "cell_type": "markdown",
   "metadata": {},
   "source": [
    " # Aktualizacja bazy danych"
   ]
  },
  {
   "cell_type": "markdown",
   "metadata": {},
   "source": [
    " Import wymaganych bibliotek"
   ]
  },
  {
   "cell_type": "code",
   "execution_count": 86,
   "metadata": {},
   "outputs": [],
   "source": [
    "import psycopg2"
   ]
  },
  {
   "cell_type": "markdown",
   "metadata": {},
   "source": [
    " ## Konfiguracja połączenia"
   ]
  },
  {
   "cell_type": "code",
   "execution_count": 87,
   "metadata": {},
   "outputs": [],
   "source": [
    "username = 'postgres'\n",
    "password = '****'\n",
    "\n",
    "host = 'localhost'\n",
    "database = 'airlines'\n",
    "port= '5432'"
   ]
  },
  {
   "cell_type": "markdown",
   "metadata": {},
   "source": [
    " Definiuję zmienną `con` oraz `cursor`"
   ]
  },
  {
   "cell_type": "code",
   "execution_count": 88,
   "metadata": {},
   "outputs": [],
   "source": [
    "con = psycopg2.connect(\n",
    "    host=host,\n",
    "    user=username,\n",
    "    password=password,\n",
    "    dbname=database,\n",
    "    port=port)\n",
    "\n",
    "cursor = con.cursor()"
   ]
  },
  {
   "cell_type": "code",
   "execution_count": 89,
   "metadata": {},
   "outputs": [],
   "source": [
    "con.autocommit = True"
   ]
  },
  {
   "cell_type": "code",
   "execution_count": 90,
   "metadata": {},
   "outputs": [
    {
     "name": "stdout",
     "output_type": "stream",
     "text": [
      "Połączenie jest otwarte.\n"
     ]
    }
   ],
   "source": [
    "if not con.closed:\n",
    "    print(\"Połączenie jest otwarte.\")\n",
    "else:\n",
    "    print(\"Połączenie jest zamknięte.\")"
   ]
  },
  {
   "cell_type": "markdown",
   "metadata": {},
   "source": [
    " ## Wczytanie pliku `reporting.sql`\n",
    " Z katalogu `sql` wczytuję plik `reporting.sql`"
   ]
  },
  {
   "cell_type": "markdown",
   "metadata": {},
   "source": [
    " Rozdzielam zawartość pliku `reporting.sql` na mniejsze kwerendy używając `;`"
   ]
  },
  {
   "cell_type": "code",
   "execution_count": 91,
   "metadata": {},
   "outputs": [
    {
     "name": "stdout",
     "output_type": "stream",
     "text": [
      "9\n",
      "Command 1:\n",
      "/*\n",
      "Tutaj zdefiniuj schemę `reporting`\n",
      "*/\n",
      "DROP SCHEMA IF EXISTS reporting CASCADE;\n",
      "--------------------\n",
      "Command 2:\n",
      "CREATE SCHEMA reporting;\n",
      "--------------------\n",
      "Command 3:\n",
      "/*\n",
      "Tutaj napisz definicję widoku reporting.flight, która:\n",
      "- będzie usuwać dane o lotach anulowanych `cancelled = 0`\n",
      "- będzie zawierać kolumnę `is_delayed`, zgodnie z wcześniejszą definicją tj. `is_delayed = 1 if dep_delay_new > 0 else 0` (zaimplementowana w SQL)\n",
      "\n",
      "Wskazówka:\n",
      "- SQL - analiza danych > Dzień 4 Proceduralny SQL > Wyrażenia warunkowe\n",
      "- SQL - analiza danych > Przygotowanie do zjazdu 2 > Widoki\n",
      "*/\n",
      "CREATE OR REPLACE VIEW reporting.flight as\n",
      "SELECT \n",
      "\t*\n",
      "\t, CASE \n",
      "\t\tWHEN dep_delay_new > 15 THEN 1 \n",
      "\t\tELSE 0\n",
      "\tEND AS is_delayed\n",
      "FROM public.flight \n",
      "WHERE cancelled = '0';\n",
      "--------------------\n",
      "Command 4:\n",
      "/*\n",
      "Tutaj tworzę widok którego nie ma w notatniku 6 a jest wspomniany w notatniku 5 -> top_airports_by_departure\n",
      "*/\n",
      "CREATE OR REPLACE VIEW reporting.top_airports_by_departure AS\n",
      "WITH cte_departure AS (\n",
      "\tSELECT\n",
      "\t\torigin_airport_id\n",
      "\t\t, f.year\n",
      "\t\t, COUNT(*) AS departures\n",
      "\t\t, AVG(is_delayed) AS reliability\n",
      "\tFROM reporting.flight AS f\n",
      "\tGROUP BY origin_airport_id, f.year\n",
      "\tORDER BY departures DESC\n",
      "\tLIMIT 10\n",
      "),\n",
      "cte_arrival AS (\n",
      "\tSELECT\n",
      "\t\tdest_airport_id\n",
      "\t\t, COUNT(*) AS arrivals\n",
      "\tFROM reporting.flight\n",
      "\tGROUP BY dest_airport_id\n",
      ")\n",
      "SELECT\n",
      "\tal.display_airport_name AS origin_airport_name\n",
      "\t, d.departures\n",
      "\t, COALESCE(aa.arrivals, 0) AS arrivals\n",
      "\t, d.year\n",
      "\t, d.reliability\n",
      "\t, DENSE_RANK() OVER(ORDER BY reliability DESC) AS nb\n",
      "FROM cte_departure AS d\n",
      "LEFT JOIN cte_arrival AS aa ON d.origin_airport_id = aa.dest_airport_id\n",
      "LEFT JOIN public.airport_list al ON d.origin_airport_id = al.origin_airport_id\n",
      "ORDER BY d.reliability DESC;\n",
      "--------------------\n",
      "Command 5:\n",
      "/*\n",
      "Tutaj napisz definicję widoku reporting.top_reliability_roads, która będzie zawierała następujące kolumny:\n",
      "- `origin_airport_id`,\n",
      "- `origin_airport_name`,\n",
      "- `dest_airport_id`,\n",
      "- `dest_airport_name`,\n",
      "- `year`,\n",
      "- `cnt` - jako liczba wykonananych lotów na danej trasie,\n",
      "- `reliability` - jako odsetek opóźnień na danej trasie,\n",
      "- `nb` - numerowane od 1, 2, 3 według kolumny `reliability`. W przypadku takich samych wartości powino zwrócić 1, 2, 2, 3... \n",
      "Pamiętaj o tym, że w wyniku powinny pojawić się takie trasy, na których odbyło się ponad 10000 lotów.\n",
      "\n",
      "Wskazówka:\n",
      "- SQL - analiza danych > Dzień 2 Relacje oraz JOIN > JOIN\n",
      "- SQL - analiza danych > Dzień 3 - Analiza danych > Grupowanie\n",
      "- SQL - analiza danych > Dzień 1 Podstawy SQL > Aliasowanie\n",
      "- SQL - analiza danych > Dzień 1 Podstawy SQL > Podzapytania\n",
      "*/\n",
      "CREATE OR REPLACE VIEW reporting.top_reliability_roads AS\n",
      "WITH cte AS (\n",
      "\tSELECT \n",
      "\t\tf.origin_airport_id\n",
      "\t\t, al.display_airport_name AS origin_airport_name\n",
      "\t\t, f.dest_airport_id\n",
      "\t\t, aal.display_airport_name AS dest_airport_name\n",
      "\t\t, f.year\n",
      "\t\t, COUNT(*) AS cnt\n",
      "\t\t, AVG(f.is_delayed) AS reliability\n",
      "\tFROM reporting.flight AS f\n",
      "\tLEFT JOIN public.airport_list AS al ON f.origin_airport_id = al.origin_airport_id\n",
      "\tLEFT JOIN public.airport_list AS aal ON f.dest_airport_id = aal.origin_airport_id\n",
      "\tGROUP BY f.origin_airport_id, origin_airport_name, f.dest_airport_id, dest_airport_name, f.year\n",
      ")\n",
      "SELECT\n",
      "\t*\n",
      "\t, DENSE_RANK() OVER(ORDER BY reliability DESC) AS nb\n",
      "FROM cte\n",
      "WHERE cnt > 10000;\n",
      "--------------------\n",
      "Command 6:\n",
      "/*\n",
      "Tutaj napisz definicję widoku reporting.year_to_year_comparision, która będzie zawierał następujące kolumny:\n",
      "- `year`\n",
      "- `month`,\n",
      "- `flights_amount`\n",
      "- `reliability`\n",
      "*/\n",
      "CREATE OR REPLACE VIEW reporting.year_to_year_comparision AS\n",
      "SELECT\n",
      "\tyear\n",
      "\t, month\n",
      "\t, COUNT(*) AS flights_amount\n",
      "\t, AVG(is_delayed) AS reliability\n",
      "FROM reporting.flight\n",
      "GROUP BY year, month;\n",
      "--------------------\n",
      "Command 7:\n",
      "/*\n",
      "Tutaj napisz definicję widoku reporting.day_to_day_comparision, który będzie zawierał następujące kolumny:\n",
      "- `year`\n",
      "- `day_of_week`\n",
      "- `flights_amount`\n",
      "*/\n",
      "CREATE OR REPLACE VIEW reporting.day_to_day_comparision AS\n",
      "SELECT\n",
      "\tyear\n",
      "\t, day_of_week\n",
      "\t, COUNT(*) AS flights_amount\n",
      "\t, AVG(is_delayed) AS reliability\n",
      "FROM reporting.flight\n",
      "GROUP BY year, day_of_week;\n",
      "--------------------\n",
      "Command 8:\n",
      "/*\n",
      "Tutaj napisz definicję widoku reporting.day_by_day_reliability, ktory będzie zawierał następujące kolumny:\n",
      "- `date` jako złożenie kolumn `year`, `month`, `day`, powinna być typu `date`\n",
      "- `reliability` jako odsetek opóźnień danego dnia\n",
      "\n",
      "Wskazówki:\n",
      "- formaty dat w postgresql: [klik](https://www.postgresql.org/docs/13/functions-formatting.html),\n",
      "- jeśli chcesz dodać zera na początek liczby np. `1` > `01`, posłuż się metodą `LPAD`: [przykład](https://stackoverflow.com/questions/26379446/padding-zeros-to-the-left-in-postgresql),\n",
      "- do konwertowania ciągu znaków na datę najwygodniej w Postgres użyć `to_date`: [przykład](https://www.postgresqltutorial.com/postgresql-date-functions/postgresql-to_date/)\n",
      "- do złączenia kilku kolumn / wartości typu string, używa się operatora `||`, przykładowo: SELECT 'a' || 'b' as example\n",
      "\n",
      "Uwaga: Nie dodawaj tutaj na końcu srednika - przy używaniu split, pojawi się pusta kwerenda, co będzie skutkowało późniejszym błędem przy próbie wykonania skryptu z poziomu notatnika.\n",
      "*/\n",
      "CREATE OR REPLACE VIEW reporting.day_by_day_reliability AS\n",
      "SELECT\n",
      "\tTO_DATE(CONCAT(year, LPAD(month::TEXT, 2, '0'), LPAD(day_of_month::TEXT, 2, '0')), 'YYYYMMDD') AS date\n",
      "\t, AVG(is_delayed) AS reliability\n",
      "FROM reporting.flight\n",
      "GROUP BY date;\n",
      "--------------------\n"
     ]
    }
   ],
   "source": [
    "commands = []\n",
    "\n",
    "with open(r\"..\\sql\\reporting.sql\", 'r', encoding='UTF-8') as file:\n",
    "    sql_text = file.read()\n",
    "    sql_commands = sql_text.split(';')\n",
    "    print(len(sql_commands))                            # jest tylko 8 kwarend, doszła jedna pusta pozycja na liście\n",
    "    for command in sql_commands:\n",
    "        if command:                                     # tu eliminuję jedną pustą pozycję na liście\n",
    "            commands.append(command.strip() + ';')      # oczyszczam z pustych wierszy i dodaje średnik, choć to niepotrzebne\n",
    "\n",
    "for index, command in enumerate(commands, start=1):\n",
    "    print(f\"Command {index}:\")\n",
    "    print(command)\n",
    "    print(\"--------------------\")"
   ]
  },
  {
   "cell_type": "markdown",
   "metadata": {},
   "source": [
    " W tym miejscu wykonuję każdą z kwerend, aby zainicjować strukturę bazy danych"
   ]
  },
  {
   "cell_type": "code",
   "execution_count": 92,
   "metadata": {},
   "outputs": [
    {
     "name": "stdout",
     "output_type": "stream",
     "text": [
      "Kwerenda 1 została przeprocesowana\n",
      "Kwerenda 2 została przeprocesowana\n",
      "Kwerenda 3 została przeprocesowana\n",
      "Kwerenda 4 została przeprocesowana\n",
      "Kwerenda 5 została przeprocesowana\n",
      "Kwerenda 6 została przeprocesowana\n",
      "Kwerenda 7 została przeprocesowana\n",
      "Kwerenda 8 została przeprocesowana\n"
     ]
    }
   ],
   "source": [
    "for i, command in enumerate(commands, start=1):\n",
    "    cursor.execute(command)\n",
    "    print(f\"Kwerenda {i} została przeprocesowana\")"
   ]
  },
  {
   "cell_type": "markdown",
   "metadata": {},
   "source": [
    " ### Sprawdzenie\n",
    " Kod poniżej sprawdza, czy ta część została poprawnie wykonana"
   ]
  },
  {
   "cell_type": "code",
   "execution_count": 94,
   "metadata": {},
   "outputs": [],
   "source": [
    "def check_if_table_exists(table_name):\n",
    "    msg = f\"Sprawdzam czy istnieje tabela {table_name}\"\n",
    "    print(msg)\n",
    "\n",
    "    query = f\"select 1 from {table_name}\"\n",
    "    # jeżeli tabela nie istnieje, ten krok zwróci wyjątek\n",
    "    cursor.execute(query)\n",
    "    print('OK!')"
   ]
  },
  {
   "cell_type": "code",
   "execution_count": 95,
   "metadata": {},
   "outputs": [],
   "source": [
    "views_to_test = [\n",
    "    'reporting.flight',\n",
    "    'reporting.top_reliability_roads',\n",
    "    'reporting.year_to_year_comparision',\n",
    "    'reporting.day_to_day_comparision',\n",
    "    'reporting.day_by_day_reliability'\n",
    "]"
   ]
  },
  {
   "cell_type": "code",
   "execution_count": 96,
   "metadata": {},
   "outputs": [
    {
     "name": "stdout",
     "output_type": "stream",
     "text": [
      "Sprawdzam czy istnieje tabela reporting.flight\n"
     ]
    },
    {
     "name": "stdout",
     "output_type": "stream",
     "text": [
      "OK!\n",
      "Sprawdzam czy istnieje tabela reporting.top_reliability_roads\n",
      "OK!\n",
      "Sprawdzam czy istnieje tabela reporting.year_to_year_comparision\n",
      "OK!\n",
      "Sprawdzam czy istnieje tabela reporting.day_to_day_comparision\n",
      "OK!\n",
      "Sprawdzam czy istnieje tabela reporting.day_by_day_reliability\n",
      "OK!\n"
     ]
    }
   ],
   "source": [
    "for view in views_to_test:\n",
    "    check_if_table_exists(view)"
   ]
  },
  {
   "cell_type": "code",
   "execution_count": null,
   "metadata": {},
   "outputs": [],
   "source": [
    "con.close()"
   ]
  },
  {
   "cell_type": "markdown",
   "metadata": {},
   "source": [
    " # Podsumownie\n",
    " W tym notatniku stworzyłam nowy schemat - `reporting`, którego zadaniem jest przygotowanie danych do wizualizacji. \n",
    " Dalsza część pracy będzie polegała na wyświetleniu w wizualnie atrakcyjny sposób danych w interaktywnym raporcie stworzonym z pomocą `Dash`."
   ]
  }
 ],
 "metadata": {
  "kernelspec": {
   "display_name": "Python 3 (ipykernel)",
   "language": "python",
   "name": "python3"
  },
  "language_info": {
   "codemirror_mode": {
    "name": "ipython",
    "version": 3
   },
   "file_extension": ".py",
   "mimetype": "text/x-python",
   "name": "python",
   "nbconvert_exporter": "python",
   "pygments_lexer": "ipython3",
   "version": "3.11.5"
  },
  "vscode": {
   "interpreter": {
    "hash": "38d75d0df746d7f75dd34c5d1915af59cb55786647bd68b8d9064425d7680b12"
   }
  }
 },
 "nbformat": 4,
 "nbformat_minor": 2
}
