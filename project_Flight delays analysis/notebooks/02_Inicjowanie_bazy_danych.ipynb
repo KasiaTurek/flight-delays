{
 "cells": [
  {
   "cell_type": "markdown",
   "metadata": {},
   "source": [
    " # Opis notatnika\n",
    " W tym notatniku tworzę bazę danych wraz ze strukturą tabel. Tabele będę uzupełniać danymi w kolejnej części (**03_Populacja_bazy_danych**).\n",
    " \n",
    " > Plik wraz ze strukturą bazy znajduje się w folderze `sql/database_schema.sql`. \n",
    "\n",
    " > W tej części konieczne jest posiadanie zainstalowanego `Postgres` na swoim komputrze."
   ]
  },
  {
   "cell_type": "markdown",
   "metadata": {},
   "source": [
    " Import wymaganych bibliotek"
   ]
  },
  {
   "cell_type": "code",
   "execution_count": 21,
   "metadata": {},
   "outputs": [],
   "source": [
    "import psycopg2"
   ]
  },
  {
   "cell_type": "markdown",
   "metadata": {},
   "source": [
    " ## Połączenie z bazą danych\n",
    " Konfiguracja połączenia"
   ]
  },
  {
   "cell_type": "code",
   "execution_count": 22,
   "metadata": {},
   "outputs": [],
   "source": [
    "username = 'postgres'\n",
    "password = '****'\n",
    "\n",
    "host = 'localhost'\n",
    "database = 'postgres' # defaultowa baza danych\n",
    "port= '5432'"
   ]
  },
  {
   "cell_type": "markdown",
   "metadata": {},
   "source": [
    "Definiuję zmienne `con` oraz `cursor`"
   ]
  },
  {
   "cell_type": "code",
   "execution_count": 23,
   "metadata": {},
   "outputs": [],
   "source": [
    "con = psycopg2.connect(\n",
    "    host=host,\n",
    "    user=username,\n",
    "    password=password,\n",
    "    dbname=database,\n",
    "    port=port)\n",
    "\n",
    "cursor = con.cursor()"
   ]
  },
  {
   "cell_type": "code",
   "execution_count": 24,
   "metadata": {},
   "outputs": [],
   "source": [
    "con.autocommit = True"
   ]
  },
  {
   "cell_type": "code",
   "execution_count": 25,
   "metadata": {},
   "outputs": [
    {
     "name": "stdout",
     "output_type": "stream",
     "text": [
      "Połączenie jest otwarte.\n"
     ]
    }
   ],
   "source": [
    "if not con.closed:\n",
    "    print(\"Połączenie jest otwarte.\")\n",
    "else:\n",
    "    print(\"Połączenie jest zamknięte.\")"
   ]
  },
  {
   "cell_type": "markdown",
   "metadata": {},
   "source": [
    " Tworzę bazę danych `airlines`."
   ]
  },
  {
   "cell_type": "code",
   "execution_count": 26,
   "metadata": {},
   "outputs": [],
   "source": [
    "db_creation = \"CREATE database airlines\"\n",
    "cursor.execute(db_creation)"
   ]
  },
  {
   "cell_type": "code",
   "execution_count": 27,
   "metadata": {},
   "outputs": [],
   "source": [
    "cursor.close()\n",
    "con.close()"
   ]
  },
  {
   "cell_type": "code",
   "execution_count": 28,
   "metadata": {},
   "outputs": [
    {
     "name": "stdout",
     "output_type": "stream",
     "text": [
      "Połączenie jest zamknięte.\n"
     ]
    }
   ],
   "source": [
    "if not con.closed:\n",
    "    print(\"Połączenie jest otwarte.\")\n",
    "else:\n",
    "    print(\"Połączenie jest zamknięte.\")"
   ]
  },
  {
   "cell_type": "markdown",
   "metadata": {},
   "source": [
    "Raz jeszcze konfiruracja połączenia, tym razem z bazą danych `airlines`, zdefiniowanie zmiennych `con` oraz `cursor`."
   ]
  },
  {
   "cell_type": "code",
   "execution_count": 29,
   "metadata": {},
   "outputs": [],
   "source": [
    "username = 'postgres'\n",
    "password = '****'\n",
    "\n",
    "host = 'localhost'\n",
    "database = 'airlines'\n",
    "port= '5432'\n",
    "\n",
    "con = psycopg2.connect(\n",
    "    host=host,\n",
    "    user=username,\n",
    "    password=password,\n",
    "    dbname=database,\n",
    "    port=port)\n",
    "\n",
    "cursor = con.cursor()\n",
    "\n",
    "con.autocommit = True"
   ]
  },
  {
   "cell_type": "code",
   "execution_count": 30,
   "metadata": {},
   "outputs": [
    {
     "name": "stdout",
     "output_type": "stream",
     "text": [
      "Połączenie jest otwarte.\n"
     ]
    }
   ],
   "source": [
    "if not con.closed:\n",
    "    print(\"Połączenie jest otwarte.\")\n",
    "else:\n",
    "    print(\"Połączenie jest zamknięte.\")"
   ]
  },
  {
   "cell_type": "markdown",
   "metadata": {},
   "source": [
    " ## Wczytanie pliku `database_schema.sql`\n",
    " Z katalogu `sql` wczytuję plik `database_schema.sql`"
   ]
  },
  {
   "cell_type": "markdown",
   "metadata": {},
   "source": [
    " Rozdzielam zawartość pliku `database_schema.sql` na mniejsze kwerendy używając `;`"
   ]
  },
  {
   "cell_type": "code",
   "execution_count": 31,
   "metadata": {},
   "outputs": [
    {
     "name": "stdout",
     "output_type": "stream",
     "text": [
      "12\n",
      "Command 1:\n",
      "DROP TABLE IF EXISTS public.aircraft CASCADE;\n",
      "--------------------\n",
      "Command 2:\n",
      "CREATE TABLE IF NOT EXISTS public.aircraft\n",
      "(\n",
      "    id serial,\n",
      "    manufacture_year bigint,\n",
      "    tail_num text,\n",
      "    number_of_seats double precision\n",
      ");\n",
      "--------------------\n",
      "Command 3:\n",
      "CREATE OR REPLACE VIEW public.v_aircraft_blocker AS\n",
      "SELECT 1 FROM public.aircraft LIMIT 1;\n",
      "--------------------\n",
      "Command 4:\n",
      "DROP TABLE IF EXISTS public.airport_weather CASCADE;\n",
      "--------------------\n",
      "Command 5:\n",
      "CREATE TABLE IF NOT EXISTS public.airport_weather\n",
      "(\n",
      "    id serial,\n",
      "    station text,\n",
      "    name text,\n",
      "    date text,\n",
      "    awnd double precision,\n",
      "    pgtm double precision,\n",
      "    prcp double precision,\n",
      "    snow double precision,\n",
      "    snwd double precision,\n",
      "    tavg double precision,\n",
      "    tmax double precision,\n",
      "    tmin double precision,\n",
      "    wdf2 double precision,\n",
      "    wdf5 double precision,\n",
      "    wsf2 double precision,\n",
      "    wsf5 double precision,\n",
      "    wt01 double precision,\n",
      "    wt02 double precision,\n",
      "    wt03 double precision,\n",
      "    wt04 double precision,\n",
      "    wt05 double precision,\n",
      "    wt06 double precision,\n",
      "    wt07 double precision,\n",
      "    wt08 double precision,\n",
      "    wt09 double precision,\n",
      "    wesd double precision,\n",
      "    wt10 double precision,\n",
      "    psun double precision,\n",
      "    tsun double precision,\n",
      "    sn32 double precision,\n",
      "    sx32 double precision,\n",
      "    tobs double precision,\n",
      "    wt11 double precision,\n",
      "    wt18 double precision\n",
      ");\n",
      "--------------------\n",
      "Command 6:\n",
      "/* BLOCKER TO FORCE USAGE if_exists in PANDAS REMOVE IF OBSTACLE*/\n",
      "CREATE OR REPLACE VIEW public.v_aircraft_weather_blocker AS\n",
      "SELECT 1 FROM public.airport_weather LIMIT 1;\n",
      "--------------------\n",
      "Command 7:\n",
      "DROP TABLE IF EXISTS public.flight CASCADE;\n",
      "--------------------\n",
      "Command 8:\n",
      "CREATE TABLE IF NOT EXISTS public.flight\n",
      "(\n",
      "    id serial,\n",
      "    month bigint,\n",
      "    day_of_month bigint,\n",
      "    day_of_week bigint,\n",
      "    op_unique_carrier text,\n",
      "    tail_num text,\n",
      "    op_carrier_fl_num bigint,\n",
      "    origin_airport_id bigint,\n",
      "    dest_airport_id bigint,\n",
      "    crs_dep_time bigint,\n",
      "    dep_time double precision,\n",
      "    dep_delay_new double precision,\n",
      "    dep_time_blk text,\n",
      "    crs_arr_time bigint,\n",
      "    arr_time double precision,\n",
      "    arr_delay_new double precision,\n",
      "    arr_time_blk text,\n",
      "    cancelled double precision,\n",
      "    crs_elapsed_time double precision,\n",
      "    actual_elapsed_time double precision,\n",
      "    distance double precision,\n",
      "    distance_group bigint,\n",
      "    carrier_delay double precision,\n",
      "    weather_delay double precision,\n",
      "    nas_delay double precision,\n",
      "    security_delay double precision,\n",
      "    late_aircraft_delay double precision,\n",
      "    year bigint\n",
      ");\n",
      "--------------------\n",
      "Command 9:\n",
      "/* BLOCKER TO FORCE USAGE if_exists in PANDAS REMOVE IF OBSTACLE*/\n",
      "CREATE OR REPLACE VIEW public.v_flight_blocker AS\n",
      "SELECT 1 FROM public.flight LIMIT 1;\n",
      "--------------------\n",
      "Command 10:\n",
      "DROP TABLE IF EXISTS public.airport_list CASCADE;\n",
      "--------------------\n",
      "Command 11:\n",
      "CREATE TABLE IF NOT EXISTS public.airport_list\n",
      "(\n",
      "    id serial,\n",
      "    origin_airport_id bigint,\n",
      "    display_airport_name text ,\n",
      "    origin_city_name text ,\n",
      "    name text \n",
      ");\n",
      "--------------------\n",
      "Command 12:\n",
      "CREATE OR REPLACE VIEW public.v_airport_list_blocker AS\n",
      "SELECT 1 FROM public.airport_list LIMIT 1;\n",
      "--------------------\n"
     ]
    }
   ],
   "source": [
    "commands = []\n",
    "\n",
    "with open(r\"..\\sql\\database_schema.sql\", 'r', encoding='UTF-8') as file:\n",
    "    sql_text = file.read()\n",
    "    sql_commands = sql_text.split(';')\n",
    "    print(len(sql_commands))                            \n",
    "    for command in sql_commands:\n",
    "        commands.append(command.strip() + ';')\n",
    "\n",
    "for index, command in enumerate(commands, start=1):\n",
    "    print(f\"Command {index}:\")\n",
    "    print(command)\n",
    "    print(\"--------------------\")"
   ]
  },
  {
   "cell_type": "markdown",
   "metadata": {},
   "source": [
    " W pętli wykonuję każdą z kwerend, aby zainicjować strukturę bazy danych"
   ]
  },
  {
   "cell_type": "code",
   "execution_count": 32,
   "metadata": {},
   "outputs": [
    {
     "name": "stdout",
     "output_type": "stream",
     "text": [
      "Kwerenda 1 została przeprocesowana\n",
      "Kwerenda 2 została przeprocesowana\n",
      "Kwerenda 3 została przeprocesowana\n",
      "Kwerenda 4 została przeprocesowana\n",
      "Kwerenda 5 została przeprocesowana\n",
      "Kwerenda 6 została przeprocesowana\n",
      "Kwerenda 7 została przeprocesowana\n",
      "Kwerenda 8 została przeprocesowana\n",
      "Kwerenda 9 została przeprocesowana\n",
      "Kwerenda 10 została przeprocesowana\n",
      "Kwerenda 11 została przeprocesowana\n",
      "Kwerenda 12 została przeprocesowana\n"
     ]
    }
   ],
   "source": [
    "for i, command in enumerate(commands, 1):\n",
    "    cursor.execute(command)\n",
    "    print(f\"Kwerenda {i} została przeprocesowana\")"
   ]
  },
  {
   "cell_type": "markdown",
   "metadata": {},
   "source": [
    " ## Sprawdzenie\n",
    " Kod poniżej sprawdza, czy ta część została poprawnie wykonana"
   ]
  },
  {
   "cell_type": "code",
   "execution_count": 34,
   "metadata": {},
   "outputs": [],
   "source": [
    "def check_if_table_exists(table_name):\n",
    "    msg = f\"Sprawdzam czy istnieje tabela {table_name}\"\n",
    "    print(msg)\n",
    "\n",
    "    query = f\"select 1 from {table_name}\"\n",
    "    # jeżeli tabela nie istnieje, ten krok zwróci wyjątek\n",
    "    cursor.execute(query)\n",
    "    print('OK!')\n"
   ]
  },
  {
   "cell_type": "code",
   "execution_count": 35,
   "metadata": {},
   "outputs": [],
   "source": [
    "tables_to_test = [\n",
    "    'aircraft',\n",
    "    'airport_weather',\n",
    "    'flight',\n",
    "    'airport_list'\n",
    "]"
   ]
  },
  {
   "cell_type": "code",
   "execution_count": 36,
   "metadata": {},
   "outputs": [
    {
     "name": "stdout",
     "output_type": "stream",
     "text": [
      "Sprawdzam czy istnieje tabela aircraft\n",
      "OK!\n",
      "Sprawdzam czy istnieje tabela airport_weather\n",
      "OK!\n",
      "Sprawdzam czy istnieje tabela flight\n",
      "OK!\n",
      "Sprawdzam czy istnieje tabela airport_list\n",
      "OK!\n"
     ]
    }
   ],
   "source": [
    "for table in tables_to_test:\n",
    "    check_if_table_exists(table)"
   ]
  },
  {
   "cell_type": "code",
   "execution_count": null,
   "metadata": {},
   "outputs": [],
   "source": [
    "con.close()"
   ]
  },
  {
   "cell_type": "markdown",
   "metadata": {},
   "source": [
    " # Podsumowanie\n",
    " Za pomocą tego notatnika docelowa baza danych została zbudowana w sposób automatyczny.\n",
    " W kolejnym notatniku załaduję dane do poszczególnych tabel."
   ]
  }
 ],
 "metadata": {
  "kernelspec": {
   "display_name": "Python 3 (ipykernel)",
   "language": "python",
   "name": "python3"
  },
  "language_info": {
   "codemirror_mode": {
    "name": "ipython",
    "version": 3
   },
   "file_extension": ".py",
   "mimetype": "text/x-python",
   "name": "python",
   "nbconvert_exporter": "python",
   "pygments_lexer": "ipython3",
   "version": "3.11.5"
  },
  "vscode": {
   "interpreter": {
    "hash": "38d75d0df746d7f75dd34c5d1915af59cb55786647bd68b8d9064425d7680b12"
   }
  }
 },
 "nbformat": 4,
 "nbformat_minor": 2
}
