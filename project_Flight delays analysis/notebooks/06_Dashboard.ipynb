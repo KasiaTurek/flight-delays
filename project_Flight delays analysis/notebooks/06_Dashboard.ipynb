{
 "cells": [
  {
   "cell_type": "markdown",
   "metadata": {},
   "source": [
    " # Opis notatnika\n",
    " W tym notatniku tworzę system analityczno-raportowy, mający wspomagać przyszłe decyzje biznesowe. Dzięki przeprowadzonej wcześniej analizie eksploracyjnej danych, stworzę następujące wizualizacje danych:\n",
    " - Wyświetlenie TOP 10 tras samolotów pod względem najniższego odsetka opóźnień, w formie tabeli,\n",
    " - Wyświetlenie TOP 10 tras lotów dla minimalnej liczby lotów 10000, w formie tabeli,\n",
    " - Wyświetlenie porównania roku 2019 oraz 2020 w formie wykresu słupkowego:\n",
    "     - miesiąc do miesiąca,\n",
    "     - dzień tygodnia do dnia tygodnia,\n",
    " - Wyświetlenie danych dzień po dniu w formie szeregu czasowego.\n",
    "\n",
    "Raport będzie się składać z trzech stron - `TOP report`, `Comparision` i `Day by day reliability`.\n",
    "\n",
    "Pracując na podstawie wcześniej zdefiniowanych widoków, nie musimy się tutaj martwić o przetwarzanie oraz procesowanie danych. Co więcej, wszystkie niuanse techniczne w postaci liczby wierszy, wykonywanych złączeń, filtracji są przeniesione na bazę danych. Z technicznego punktu widzenia, pomiędzy serwisem a bazą danych dochodzi do przesyłania mniejszej ilości danych.\n"
   ]
  },
  {
   "cell_type": "markdown",
   "metadata": {},
   "source": [
    " Import wymaganych bibliotek"
   ]
  },
  {
   "cell_type": "code",
   "execution_count": 1,
   "metadata": {},
   "outputs": [],
   "source": [
    "import pandas as pd\n",
    "from sqlalchemy import create_engine\n",
    "from sqlalchemy.engine import URL\n",
    "import matplotlib.pyplot as plt\n",
    "import plotly.express as px\n",
    "import plotly.graph_objects as go\n",
    "import numpy as np\n",
    "import threading\n",
    "import dash\n",
    "from dash import Dash, dcc, html, dash_table, Input, Output, State, callback\n",
    "from dash.dash_table import DataTable\n",
    "from dash.dash_table.Format import Format, Scheme, Format, Scheme, Sign, Symbol, Group\n",
    "from dash import Dash\n",
    "from dash.dash_table import DataTable, FormatTemplate"
   ]
  },
  {
   "cell_type": "markdown",
   "metadata": {},
   "source": [
    " ## Konfiguracja połączenia"
   ]
  },
  {
   "cell_type": "code",
   "execution_count": 2,
   "metadata": {},
   "outputs": [],
   "source": [
    "username = 'postgres'\n",
    "password = '****'\n",
    "\n",
    "host = 'localhost'\n",
    "database = 'airlines'\n",
    "port= '5432'"
   ]
  },
  {
   "cell_type": "markdown",
   "metadata": {},
   "source": [
    " Tworzę zmienne `url` oraz `engine`"
   ]
  },
  {
   "cell_type": "code",
   "execution_count": 3,
   "metadata": {},
   "outputs": [],
   "source": [
    "url = URL.create(\n",
    "    \"postgresql\",\n",
    "    username=username,\n",
    "    password=password,\n",
    "    host=host,\n",
    "    port=port,\n",
    "    database=database,\n",
    ")\n",
    "engine = create_engine(url)"
   ]
  },
  {
   "cell_type": "markdown",
   "metadata": {},
   "source": [
    " # Stworzenie tabeli dla `TOP 10 routes`\n",
    " W tym miejscu przygotuję tabelkę oraz komponent, który zostanie następnie umieszczony w raporcie. Tabela będzie się składać z następujących kolumn:\n",
    " - Origin,\n",
    " - Destination,\n",
    " - Year,\n",
    " - Reliability,\n",
    " - Rank."
   ]
  },
  {
   "cell_type": "markdown",
   "metadata": {},
   "source": [
    " Implementacja funkcji `read_sql_table`, która przyjmuje jeden argument:\n",
    " * `table_name` - nazwa ramki na bazie."
   ]
  },
  {
   "cell_type": "code",
   "execution_count": 4,
   "metadata": {},
   "outputs": [],
   "source": [
    "def read_sql_table(table_name):\n",
    "    df = pd.read_sql(f\"SELECT * FROM {table_name}\", engine)\n",
    "    return df"
   ]
  },
  {
   "cell_type": "markdown",
   "metadata": {},
   "source": [
    " Wczytuję tabelę z widoku `reporting.top_reliability_roads` używając funkcji `read_sql_table`"
   ]
  },
  {
   "cell_type": "code",
   "execution_count": 5,
   "metadata": {},
   "outputs": [],
   "source": [
    "top_routes_df = read_sql_table('reporting.top_reliability_roads')"
   ]
  },
  {
   "cell_type": "code",
   "execution_count": 6,
   "metadata": {},
   "outputs": [
    {
     "data": {
      "text/html": [
       "<div>\n",
       "<style scoped>\n",
       "    .dataframe tbody tr th:only-of-type {\n",
       "        vertical-align: middle;\n",
       "    }\n",
       "\n",
       "    .dataframe tbody tr th {\n",
       "        vertical-align: top;\n",
       "    }\n",
       "\n",
       "    .dataframe thead th {\n",
       "        text-align: right;\n",
       "    }\n",
       "</style>\n",
       "<table border=\"1\" class=\"dataframe\">\n",
       "  <thead>\n",
       "    <tr style=\"text-align: right;\">\n",
       "      <th></th>\n",
       "      <th>origin_airport_id</th>\n",
       "      <th>origin_airport_name</th>\n",
       "      <th>dest_airport_id</th>\n",
       "      <th>dest_airport_name</th>\n",
       "      <th>year</th>\n",
       "      <th>cnt</th>\n",
       "      <th>reliability</th>\n",
       "      <th>nb</th>\n",
       "    </tr>\n",
       "  </thead>\n",
       "  <tbody>\n",
       "    <tr>\n",
       "      <th>0</th>\n",
       "      <td>13930</td>\n",
       "      <td>Chicago O'Hare International</td>\n",
       "      <td>12953</td>\n",
       "      <td>LaGuardia</td>\n",
       "      <td>2019</td>\n",
       "      <td>14219</td>\n",
       "      <td>0.274140</td>\n",
       "      <td>1</td>\n",
       "    </tr>\n",
       "    <tr>\n",
       "      <th>1</th>\n",
       "      <td>12953</td>\n",
       "      <td>LaGuardia</td>\n",
       "      <td>13930</td>\n",
       "      <td>Chicago O'Hare International</td>\n",
       "      <td>2019</td>\n",
       "      <td>14203</td>\n",
       "      <td>0.238964</td>\n",
       "      <td>2</td>\n",
       "    </tr>\n",
       "    <tr>\n",
       "      <th>2</th>\n",
       "      <td>12892</td>\n",
       "      <td>Los Angeles International</td>\n",
       "      <td>14771</td>\n",
       "      <td>San Francisco International</td>\n",
       "      <td>2019</td>\n",
       "      <td>14096</td>\n",
       "      <td>0.234109</td>\n",
       "      <td>3</td>\n",
       "    </tr>\n",
       "    <tr>\n",
       "      <th>3</th>\n",
       "      <td>14771</td>\n",
       "      <td>San Francisco International</td>\n",
       "      <td>12892</td>\n",
       "      <td>Los Angeles International</td>\n",
       "      <td>2019</td>\n",
       "      <td>14088</td>\n",
       "      <td>0.199886</td>\n",
       "      <td>4</td>\n",
       "    </tr>\n",
       "    <tr>\n",
       "      <th>4</th>\n",
       "      <td>12892</td>\n",
       "      <td>Los Angeles International</td>\n",
       "      <td>12478</td>\n",
       "      <td>John F. Kennedy International</td>\n",
       "      <td>2019</td>\n",
       "      <td>12797</td>\n",
       "      <td>0.194499</td>\n",
       "      <td>5</td>\n",
       "    </tr>\n",
       "    <tr>\n",
       "      <th>5</th>\n",
       "      <td>12892</td>\n",
       "      <td>Los Angeles International</td>\n",
       "      <td>12889</td>\n",
       "      <td>McCarran International</td>\n",
       "      <td>2019</td>\n",
       "      <td>11628</td>\n",
       "      <td>0.179309</td>\n",
       "      <td>6</td>\n",
       "    </tr>\n",
       "    <tr>\n",
       "      <th>6</th>\n",
       "      <td>12889</td>\n",
       "      <td>McCarran International</td>\n",
       "      <td>12892</td>\n",
       "      <td>Los Angeles International</td>\n",
       "      <td>2019</td>\n",
       "      <td>11616</td>\n",
       "      <td>0.175275</td>\n",
       "      <td>7</td>\n",
       "    </tr>\n",
       "    <tr>\n",
       "      <th>7</th>\n",
       "      <td>12478</td>\n",
       "      <td>John F. Kennedy International</td>\n",
       "      <td>12892</td>\n",
       "      <td>Los Angeles International</td>\n",
       "      <td>2019</td>\n",
       "      <td>12736</td>\n",
       "      <td>0.138505</td>\n",
       "      <td>8</td>\n",
       "    </tr>\n",
       "    <tr>\n",
       "      <th>8</th>\n",
       "      <td>13830</td>\n",
       "      <td>Kahului Airport</td>\n",
       "      <td>12173</td>\n",
       "      <td>Hollywood-Burbank Midpoint</td>\n",
       "      <td>2019</td>\n",
       "      <td>10718</td>\n",
       "      <td>0.064191</td>\n",
       "      <td>9</td>\n",
       "    </tr>\n",
       "    <tr>\n",
       "      <th>9</th>\n",
       "      <td>12173</td>\n",
       "      <td>Hollywood-Burbank Midpoint</td>\n",
       "      <td>13830</td>\n",
       "      <td>Kahului Airport</td>\n",
       "      <td>2019</td>\n",
       "      <td>10725</td>\n",
       "      <td>0.054452</td>\n",
       "      <td>10</td>\n",
       "    </tr>\n",
       "  </tbody>\n",
       "</table>\n",
       "</div>"
      ],
      "text/plain": [
       "   origin_airport_id            origin_airport_name  dest_airport_id  \\\n",
       "0              13930   Chicago O'Hare International            12953   \n",
       "1              12953                      LaGuardia            13930   \n",
       "2              12892      Los Angeles International            14771   \n",
       "3              14771    San Francisco International            12892   \n",
       "4              12892      Los Angeles International            12478   \n",
       "5              12892      Los Angeles International            12889   \n",
       "6              12889         McCarran International            12892   \n",
       "7              12478  John F. Kennedy International            12892   \n",
       "8              13830                Kahului Airport            12173   \n",
       "9              12173     Hollywood-Burbank Midpoint            13830   \n",
       "\n",
       "               dest_airport_name  year    cnt  reliability  nb  \n",
       "0                      LaGuardia  2019  14219     0.274140   1  \n",
       "1   Chicago O'Hare International  2019  14203     0.238964   2  \n",
       "2    San Francisco International  2019  14096     0.234109   3  \n",
       "3      Los Angeles International  2019  14088     0.199886   4  \n",
       "4  John F. Kennedy International  2019  12797     0.194499   5  \n",
       "5         McCarran International  2019  11628     0.179309   6  \n",
       "6      Los Angeles International  2019  11616     0.175275   7  \n",
       "7      Los Angeles International  2019  12736     0.138505   8  \n",
       "8     Hollywood-Burbank Midpoint  2019  10718     0.064191   9  \n",
       "9                Kahului Airport  2019  10725     0.054452  10  "
      ]
     },
     "execution_count": 6,
     "metadata": {},
     "output_type": "execute_result"
    }
   ],
   "source": [
    "top_routes_df"
   ]
  },
  {
   "cell_type": "markdown",
   "metadata": {},
   "source": [
    " Aktualizuję format liczbowy dla kolumny `reliability`"
   ]
  },
  {
   "cell_type": "code",
   "execution_count": 7,
   "metadata": {},
   "outputs": [
    {
     "data": {
      "text/html": [
       "<div>\n",
       "<style scoped>\n",
       "    .dataframe tbody tr th:only-of-type {\n",
       "        vertical-align: middle;\n",
       "    }\n",
       "\n",
       "    .dataframe tbody tr th {\n",
       "        vertical-align: top;\n",
       "    }\n",
       "\n",
       "    .dataframe thead th {\n",
       "        text-align: right;\n",
       "    }\n",
       "</style>\n",
       "<table border=\"1\" class=\"dataframe\">\n",
       "  <thead>\n",
       "    <tr style=\"text-align: right;\">\n",
       "      <th></th>\n",
       "      <th>origin_airport_id</th>\n",
       "      <th>origin_airport_name</th>\n",
       "      <th>dest_airport_id</th>\n",
       "      <th>dest_airport_name</th>\n",
       "      <th>year</th>\n",
       "      <th>cnt</th>\n",
       "      <th>reliability</th>\n",
       "      <th>nb</th>\n",
       "    </tr>\n",
       "  </thead>\n",
       "  <tbody>\n",
       "    <tr>\n",
       "      <th>0</th>\n",
       "      <td>13930</td>\n",
       "      <td>Chicago O'Hare International</td>\n",
       "      <td>12953</td>\n",
       "      <td>LaGuardia</td>\n",
       "      <td>2019</td>\n",
       "      <td>14219</td>\n",
       "      <td>27.41%</td>\n",
       "      <td>1</td>\n",
       "    </tr>\n",
       "    <tr>\n",
       "      <th>1</th>\n",
       "      <td>12953</td>\n",
       "      <td>LaGuardia</td>\n",
       "      <td>13930</td>\n",
       "      <td>Chicago O'Hare International</td>\n",
       "      <td>2019</td>\n",
       "      <td>14203</td>\n",
       "      <td>23.90%</td>\n",
       "      <td>2</td>\n",
       "    </tr>\n",
       "    <tr>\n",
       "      <th>2</th>\n",
       "      <td>12892</td>\n",
       "      <td>Los Angeles International</td>\n",
       "      <td>14771</td>\n",
       "      <td>San Francisco International</td>\n",
       "      <td>2019</td>\n",
       "      <td>14096</td>\n",
       "      <td>23.41%</td>\n",
       "      <td>3</td>\n",
       "    </tr>\n",
       "    <tr>\n",
       "      <th>3</th>\n",
       "      <td>14771</td>\n",
       "      <td>San Francisco International</td>\n",
       "      <td>12892</td>\n",
       "      <td>Los Angeles International</td>\n",
       "      <td>2019</td>\n",
       "      <td>14088</td>\n",
       "      <td>19.99%</td>\n",
       "      <td>4</td>\n",
       "    </tr>\n",
       "    <tr>\n",
       "      <th>4</th>\n",
       "      <td>12892</td>\n",
       "      <td>Los Angeles International</td>\n",
       "      <td>12478</td>\n",
       "      <td>John F. Kennedy International</td>\n",
       "      <td>2019</td>\n",
       "      <td>12797</td>\n",
       "      <td>19.45%</td>\n",
       "      <td>5</td>\n",
       "    </tr>\n",
       "    <tr>\n",
       "      <th>5</th>\n",
       "      <td>12892</td>\n",
       "      <td>Los Angeles International</td>\n",
       "      <td>12889</td>\n",
       "      <td>McCarran International</td>\n",
       "      <td>2019</td>\n",
       "      <td>11628</td>\n",
       "      <td>17.93%</td>\n",
       "      <td>6</td>\n",
       "    </tr>\n",
       "    <tr>\n",
       "      <th>6</th>\n",
       "      <td>12889</td>\n",
       "      <td>McCarran International</td>\n",
       "      <td>12892</td>\n",
       "      <td>Los Angeles International</td>\n",
       "      <td>2019</td>\n",
       "      <td>11616</td>\n",
       "      <td>17.53%</td>\n",
       "      <td>7</td>\n",
       "    </tr>\n",
       "    <tr>\n",
       "      <th>7</th>\n",
       "      <td>12478</td>\n",
       "      <td>John F. Kennedy International</td>\n",
       "      <td>12892</td>\n",
       "      <td>Los Angeles International</td>\n",
       "      <td>2019</td>\n",
       "      <td>12736</td>\n",
       "      <td>13.85%</td>\n",
       "      <td>8</td>\n",
       "    </tr>\n",
       "    <tr>\n",
       "      <th>8</th>\n",
       "      <td>13830</td>\n",
       "      <td>Kahului Airport</td>\n",
       "      <td>12173</td>\n",
       "      <td>Hollywood-Burbank Midpoint</td>\n",
       "      <td>2019</td>\n",
       "      <td>10718</td>\n",
       "      <td>6.42%</td>\n",
       "      <td>9</td>\n",
       "    </tr>\n",
       "    <tr>\n",
       "      <th>9</th>\n",
       "      <td>12173</td>\n",
       "      <td>Hollywood-Burbank Midpoint</td>\n",
       "      <td>13830</td>\n",
       "      <td>Kahului Airport</td>\n",
       "      <td>2019</td>\n",
       "      <td>10725</td>\n",
       "      <td>5.45%</td>\n",
       "      <td>10</td>\n",
       "    </tr>\n",
       "  </tbody>\n",
       "</table>\n",
       "</div>"
      ],
      "text/plain": [
       "   origin_airport_id            origin_airport_name  dest_airport_id  \\\n",
       "0              13930   Chicago O'Hare International            12953   \n",
       "1              12953                      LaGuardia            13930   \n",
       "2              12892      Los Angeles International            14771   \n",
       "3              14771    San Francisco International            12892   \n",
       "4              12892      Los Angeles International            12478   \n",
       "5              12892      Los Angeles International            12889   \n",
       "6              12889         McCarran International            12892   \n",
       "7              12478  John F. Kennedy International            12892   \n",
       "8              13830                Kahului Airport            12173   \n",
       "9              12173     Hollywood-Burbank Midpoint            13830   \n",
       "\n",
       "               dest_airport_name  year    cnt reliability  nb  \n",
       "0                      LaGuardia  2019  14219      27.41%   1  \n",
       "1   Chicago O'Hare International  2019  14203      23.90%   2  \n",
       "2    San Francisco International  2019  14096      23.41%   3  \n",
       "3      Los Angeles International  2019  14088      19.99%   4  \n",
       "4  John F. Kennedy International  2019  12797      19.45%   5  \n",
       "5         McCarran International  2019  11628      17.93%   6  \n",
       "6      Los Angeles International  2019  11616      17.53%   7  \n",
       "7      Los Angeles International  2019  12736      13.85%   8  \n",
       "8     Hollywood-Burbank Midpoint  2019  10718       6.42%   9  \n",
       "9                Kahului Airport  2019  10725       5.45%  10  "
      ]
     },
     "execution_count": 7,
     "metadata": {},
     "output_type": "execute_result"
    }
   ],
   "source": [
    "top_routes_df['reliability'] = top_routes_df['reliability'].apply(lambda x: f\"{x:.2%}\")\n",
    "top_routes_df"
   ]
  },
  {
   "cell_type": "markdown",
   "metadata": {},
   "source": [
    " Zmieniam nazwy kolumn"
   ]
  },
  {
   "cell_type": "code",
   "execution_count": 8,
   "metadata": {},
   "outputs": [
    {
     "data": {
      "text/html": [
       "<div>\n",
       "<style scoped>\n",
       "    .dataframe tbody tr th:only-of-type {\n",
       "        vertical-align: middle;\n",
       "    }\n",
       "\n",
       "    .dataframe tbody tr th {\n",
       "        vertical-align: top;\n",
       "    }\n",
       "\n",
       "    .dataframe thead th {\n",
       "        text-align: right;\n",
       "    }\n",
       "</style>\n",
       "<table border=\"1\" class=\"dataframe\">\n",
       "  <thead>\n",
       "    <tr style=\"text-align: right;\">\n",
       "      <th></th>\n",
       "      <th>origin_airport_id</th>\n",
       "      <th>Origin</th>\n",
       "      <th>dest_airport_id</th>\n",
       "      <th>Destination</th>\n",
       "      <th>Year</th>\n",
       "      <th>cnt</th>\n",
       "      <th>Reliability</th>\n",
       "      <th>Rank</th>\n",
       "    </tr>\n",
       "  </thead>\n",
       "  <tbody>\n",
       "    <tr>\n",
       "      <th>0</th>\n",
       "      <td>13930</td>\n",
       "      <td>Chicago O'Hare International</td>\n",
       "      <td>12953</td>\n",
       "      <td>LaGuardia</td>\n",
       "      <td>2019</td>\n",
       "      <td>14219</td>\n",
       "      <td>27.41%</td>\n",
       "      <td>1</td>\n",
       "    </tr>\n",
       "    <tr>\n",
       "      <th>1</th>\n",
       "      <td>12953</td>\n",
       "      <td>LaGuardia</td>\n",
       "      <td>13930</td>\n",
       "      <td>Chicago O'Hare International</td>\n",
       "      <td>2019</td>\n",
       "      <td>14203</td>\n",
       "      <td>23.90%</td>\n",
       "      <td>2</td>\n",
       "    </tr>\n",
       "    <tr>\n",
       "      <th>2</th>\n",
       "      <td>12892</td>\n",
       "      <td>Los Angeles International</td>\n",
       "      <td>14771</td>\n",
       "      <td>San Francisco International</td>\n",
       "      <td>2019</td>\n",
       "      <td>14096</td>\n",
       "      <td>23.41%</td>\n",
       "      <td>3</td>\n",
       "    </tr>\n",
       "    <tr>\n",
       "      <th>3</th>\n",
       "      <td>14771</td>\n",
       "      <td>San Francisco International</td>\n",
       "      <td>12892</td>\n",
       "      <td>Los Angeles International</td>\n",
       "      <td>2019</td>\n",
       "      <td>14088</td>\n",
       "      <td>19.99%</td>\n",
       "      <td>4</td>\n",
       "    </tr>\n",
       "    <tr>\n",
       "      <th>4</th>\n",
       "      <td>12892</td>\n",
       "      <td>Los Angeles International</td>\n",
       "      <td>12478</td>\n",
       "      <td>John F. Kennedy International</td>\n",
       "      <td>2019</td>\n",
       "      <td>12797</td>\n",
       "      <td>19.45%</td>\n",
       "      <td>5</td>\n",
       "    </tr>\n",
       "    <tr>\n",
       "      <th>5</th>\n",
       "      <td>12892</td>\n",
       "      <td>Los Angeles International</td>\n",
       "      <td>12889</td>\n",
       "      <td>McCarran International</td>\n",
       "      <td>2019</td>\n",
       "      <td>11628</td>\n",
       "      <td>17.93%</td>\n",
       "      <td>6</td>\n",
       "    </tr>\n",
       "    <tr>\n",
       "      <th>6</th>\n",
       "      <td>12889</td>\n",
       "      <td>McCarran International</td>\n",
       "      <td>12892</td>\n",
       "      <td>Los Angeles International</td>\n",
       "      <td>2019</td>\n",
       "      <td>11616</td>\n",
       "      <td>17.53%</td>\n",
       "      <td>7</td>\n",
       "    </tr>\n",
       "    <tr>\n",
       "      <th>7</th>\n",
       "      <td>12478</td>\n",
       "      <td>John F. Kennedy International</td>\n",
       "      <td>12892</td>\n",
       "      <td>Los Angeles International</td>\n",
       "      <td>2019</td>\n",
       "      <td>12736</td>\n",
       "      <td>13.85%</td>\n",
       "      <td>8</td>\n",
       "    </tr>\n",
       "    <tr>\n",
       "      <th>8</th>\n",
       "      <td>13830</td>\n",
       "      <td>Kahului Airport</td>\n",
       "      <td>12173</td>\n",
       "      <td>Hollywood-Burbank Midpoint</td>\n",
       "      <td>2019</td>\n",
       "      <td>10718</td>\n",
       "      <td>6.42%</td>\n",
       "      <td>9</td>\n",
       "    </tr>\n",
       "    <tr>\n",
       "      <th>9</th>\n",
       "      <td>12173</td>\n",
       "      <td>Hollywood-Burbank Midpoint</td>\n",
       "      <td>13830</td>\n",
       "      <td>Kahului Airport</td>\n",
       "      <td>2019</td>\n",
       "      <td>10725</td>\n",
       "      <td>5.45%</td>\n",
       "      <td>10</td>\n",
       "    </tr>\n",
       "  </tbody>\n",
       "</table>\n",
       "</div>"
      ],
      "text/plain": [
       "   origin_airport_id                         Origin  dest_airport_id  \\\n",
       "0              13930   Chicago O'Hare International            12953   \n",
       "1              12953                      LaGuardia            13930   \n",
       "2              12892      Los Angeles International            14771   \n",
       "3              14771    San Francisco International            12892   \n",
       "4              12892      Los Angeles International            12478   \n",
       "5              12892      Los Angeles International            12889   \n",
       "6              12889         McCarran International            12892   \n",
       "7              12478  John F. Kennedy International            12892   \n",
       "8              13830                Kahului Airport            12173   \n",
       "9              12173     Hollywood-Burbank Midpoint            13830   \n",
       "\n",
       "                     Destination  Year    cnt Reliability  Rank  \n",
       "0                      LaGuardia  2019  14219      27.41%     1  \n",
       "1   Chicago O'Hare International  2019  14203      23.90%     2  \n",
       "2    San Francisco International  2019  14096      23.41%     3  \n",
       "3      Los Angeles International  2019  14088      19.99%     4  \n",
       "4  John F. Kennedy International  2019  12797      19.45%     5  \n",
       "5         McCarran International  2019  11628      17.93%     6  \n",
       "6      Los Angeles International  2019  11616      17.53%     7  \n",
       "7      Los Angeles International  2019  12736      13.85%     8  \n",
       "8     Hollywood-Burbank Midpoint  2019  10718       6.42%     9  \n",
       "9                Kahului Airport  2019  10725       5.45%    10  "
      ]
     },
     "execution_count": 8,
     "metadata": {},
     "output_type": "execute_result"
    }
   ],
   "source": [
    "top_routes_df.rename(columns = {'origin_airport_name' : 'Origin',\n",
    "                                'dest_airport_name' : 'Destination',\n",
    "                                'year' : 'Year',\n",
    "                                'reliability' : 'Reliability',\n",
    "                                'nb' : 'Rank'}, inplace=True)\n",
    "\n",
    "top_routes_df"
   ]
  },
  {
   "cell_type": "code",
   "execution_count": 9,
   "metadata": {},
   "outputs": [
    {
     "data": {
      "text/html": [
       "<div>\n",
       "<style scoped>\n",
       "    .dataframe tbody tr th:only-of-type {\n",
       "        vertical-align: middle;\n",
       "    }\n",
       "\n",
       "    .dataframe tbody tr th {\n",
       "        vertical-align: top;\n",
       "    }\n",
       "\n",
       "    .dataframe thead th {\n",
       "        text-align: right;\n",
       "    }\n",
       "</style>\n",
       "<table border=\"1\" class=\"dataframe\">\n",
       "  <thead>\n",
       "    <tr style=\"text-align: right;\">\n",
       "      <th></th>\n",
       "      <th>Origin</th>\n",
       "      <th>Destination</th>\n",
       "      <th>Year</th>\n",
       "      <th>Reliability</th>\n",
       "      <th>Rank</th>\n",
       "    </tr>\n",
       "  </thead>\n",
       "  <tbody>\n",
       "    <tr>\n",
       "      <th>0</th>\n",
       "      <td>Chicago O'Hare International</td>\n",
       "      <td>LaGuardia</td>\n",
       "      <td>2019</td>\n",
       "      <td>27.41%</td>\n",
       "      <td>1</td>\n",
       "    </tr>\n",
       "    <tr>\n",
       "      <th>1</th>\n",
       "      <td>LaGuardia</td>\n",
       "      <td>Chicago O'Hare International</td>\n",
       "      <td>2019</td>\n",
       "      <td>23.90%</td>\n",
       "      <td>2</td>\n",
       "    </tr>\n",
       "    <tr>\n",
       "      <th>2</th>\n",
       "      <td>Los Angeles International</td>\n",
       "      <td>San Francisco International</td>\n",
       "      <td>2019</td>\n",
       "      <td>23.41%</td>\n",
       "      <td>3</td>\n",
       "    </tr>\n",
       "    <tr>\n",
       "      <th>3</th>\n",
       "      <td>San Francisco International</td>\n",
       "      <td>Los Angeles International</td>\n",
       "      <td>2019</td>\n",
       "      <td>19.99%</td>\n",
       "      <td>4</td>\n",
       "    </tr>\n",
       "    <tr>\n",
       "      <th>4</th>\n",
       "      <td>Los Angeles International</td>\n",
       "      <td>John F. Kennedy International</td>\n",
       "      <td>2019</td>\n",
       "      <td>19.45%</td>\n",
       "      <td>5</td>\n",
       "    </tr>\n",
       "    <tr>\n",
       "      <th>5</th>\n",
       "      <td>Los Angeles International</td>\n",
       "      <td>McCarran International</td>\n",
       "      <td>2019</td>\n",
       "      <td>17.93%</td>\n",
       "      <td>6</td>\n",
       "    </tr>\n",
       "    <tr>\n",
       "      <th>6</th>\n",
       "      <td>McCarran International</td>\n",
       "      <td>Los Angeles International</td>\n",
       "      <td>2019</td>\n",
       "      <td>17.53%</td>\n",
       "      <td>7</td>\n",
       "    </tr>\n",
       "    <tr>\n",
       "      <th>7</th>\n",
       "      <td>John F. Kennedy International</td>\n",
       "      <td>Los Angeles International</td>\n",
       "      <td>2019</td>\n",
       "      <td>13.85%</td>\n",
       "      <td>8</td>\n",
       "    </tr>\n",
       "    <tr>\n",
       "      <th>8</th>\n",
       "      <td>Kahului Airport</td>\n",
       "      <td>Hollywood-Burbank Midpoint</td>\n",
       "      <td>2019</td>\n",
       "      <td>6.42%</td>\n",
       "      <td>9</td>\n",
       "    </tr>\n",
       "    <tr>\n",
       "      <th>9</th>\n",
       "      <td>Hollywood-Burbank Midpoint</td>\n",
       "      <td>Kahului Airport</td>\n",
       "      <td>2019</td>\n",
       "      <td>5.45%</td>\n",
       "      <td>10</td>\n",
       "    </tr>\n",
       "  </tbody>\n",
       "</table>\n",
       "</div>"
      ],
      "text/plain": [
       "                          Origin                    Destination  Year  \\\n",
       "0   Chicago O'Hare International                      LaGuardia  2019   \n",
       "1                      LaGuardia   Chicago O'Hare International  2019   \n",
       "2      Los Angeles International    San Francisco International  2019   \n",
       "3    San Francisco International      Los Angeles International  2019   \n",
       "4      Los Angeles International  John F. Kennedy International  2019   \n",
       "5      Los Angeles International         McCarran International  2019   \n",
       "6         McCarran International      Los Angeles International  2019   \n",
       "7  John F. Kennedy International      Los Angeles International  2019   \n",
       "8                Kahului Airport     Hollywood-Burbank Midpoint  2019   \n",
       "9     Hollywood-Burbank Midpoint                Kahului Airport  2019   \n",
       "\n",
       "  Reliability  Rank  \n",
       "0      27.41%     1  \n",
       "1      23.90%     2  \n",
       "2      23.41%     3  \n",
       "3      19.99%     4  \n",
       "4      19.45%     5  \n",
       "5      17.93%     6  \n",
       "6      17.53%     7  \n",
       "7      13.85%     8  \n",
       "8       6.42%     9  \n",
       "9       5.45%    10  "
      ]
     },
     "execution_count": 9,
     "metadata": {},
     "output_type": "execute_result"
    }
   ],
   "source": [
    "top_routes_df = top_routes_df[['Origin', 'Destination', 'Year', 'Reliability', 'Rank']]\n",
    "top_routes_df"
   ]
  },
  {
   "cell_type": "markdown",
   "metadata": {},
   "source": [
    "# Stworzenie tabeli dla `TOP 10 airports`"
   ]
  },
  {
   "cell_type": "markdown",
   "metadata": {},
   "source": [
    " Wczytuję tabelę z widoku `reporting.top_airports_by_departure` używając funkcji `read_sql_table`"
   ]
  },
  {
   "cell_type": "code",
   "execution_count": 10,
   "metadata": {},
   "outputs": [],
   "source": [
    "top_airports_df = read_sql_table('reporting.top_airports_by_departure')"
   ]
  },
  {
   "cell_type": "code",
   "execution_count": 11,
   "metadata": {},
   "outputs": [
    {
     "data": {
      "text/html": [
       "<div>\n",
       "<style scoped>\n",
       "    .dataframe tbody tr th:only-of-type {\n",
       "        vertical-align: middle;\n",
       "    }\n",
       "\n",
       "    .dataframe tbody tr th {\n",
       "        vertical-align: top;\n",
       "    }\n",
       "\n",
       "    .dataframe thead th {\n",
       "        text-align: right;\n",
       "    }\n",
       "</style>\n",
       "<table border=\"1\" class=\"dataframe\">\n",
       "  <thead>\n",
       "    <tr style=\"text-align: right;\">\n",
       "      <th></th>\n",
       "      <th>origin_airport_name</th>\n",
       "      <th>departures</th>\n",
       "      <th>arrivals</th>\n",
       "      <th>year</th>\n",
       "      <th>reliability</th>\n",
       "      <th>nb</th>\n",
       "    </tr>\n",
       "  </thead>\n",
       "  <tbody>\n",
       "    <tr>\n",
       "      <th>0</th>\n",
       "      <td>Chicago O'Hare International</td>\n",
       "      <td>105437</td>\n",
       "      <td>121579</td>\n",
       "      <td>2019</td>\n",
       "      <td>0.233210</td>\n",
       "      <td>1</td>\n",
       "    </tr>\n",
       "    <tr>\n",
       "      <th>1</th>\n",
       "      <td>Stapleton International</td>\n",
       "      <td>64525</td>\n",
       "      <td>79166</td>\n",
       "      <td>2019</td>\n",
       "      <td>0.220287</td>\n",
       "      <td>2</td>\n",
       "    </tr>\n",
       "    <tr>\n",
       "      <th>2</th>\n",
       "      <td>Dallas Fort Worth Regional</td>\n",
       "      <td>39511</td>\n",
       "      <td>48326</td>\n",
       "      <td>2019</td>\n",
       "      <td>0.220065</td>\n",
       "      <td>3</td>\n",
       "    </tr>\n",
       "    <tr>\n",
       "      <th>3</th>\n",
       "      <td>San Francisco International</td>\n",
       "      <td>63459</td>\n",
       "      <td>77157</td>\n",
       "      <td>2019</td>\n",
       "      <td>0.217463</td>\n",
       "      <td>4</td>\n",
       "    </tr>\n",
       "    <tr>\n",
       "      <th>4</th>\n",
       "      <td>Logan International</td>\n",
       "      <td>55989</td>\n",
       "      <td>69216</td>\n",
       "      <td>2019</td>\n",
       "      <td>0.213578</td>\n",
       "      <td>5</td>\n",
       "    </tr>\n",
       "    <tr>\n",
       "      <th>5</th>\n",
       "      <td>LaGuardia</td>\n",
       "      <td>57708</td>\n",
       "      <td>70252</td>\n",
       "      <td>2019</td>\n",
       "      <td>0.211028</td>\n",
       "      <td>6</td>\n",
       "    </tr>\n",
       "    <tr>\n",
       "      <th>6</th>\n",
       "      <td>McCarran International</td>\n",
       "      <td>38456</td>\n",
       "      <td>47743</td>\n",
       "      <td>2019</td>\n",
       "      <td>0.198981</td>\n",
       "      <td>7</td>\n",
       "    </tr>\n",
       "    <tr>\n",
       "      <th>7</th>\n",
       "      <td>Los Angeles International</td>\n",
       "      <td>93702</td>\n",
       "      <td>115161</td>\n",
       "      <td>2019</td>\n",
       "      <td>0.191490</td>\n",
       "      <td>8</td>\n",
       "    </tr>\n",
       "    <tr>\n",
       "      <th>8</th>\n",
       "      <td>Atlanta Municipal</td>\n",
       "      <td>123162</td>\n",
       "      <td>150816</td>\n",
       "      <td>2019</td>\n",
       "      <td>0.186056</td>\n",
       "      <td>9</td>\n",
       "    </tr>\n",
       "    <tr>\n",
       "      <th>9</th>\n",
       "      <td>Seattle International</td>\n",
       "      <td>50465</td>\n",
       "      <td>60815</td>\n",
       "      <td>2019</td>\n",
       "      <td>0.177291</td>\n",
       "      <td>10</td>\n",
       "    </tr>\n",
       "  </tbody>\n",
       "</table>\n",
       "</div>"
      ],
      "text/plain": [
       "            origin_airport_name  departures  arrivals  year  reliability  nb\n",
       "0  Chicago O'Hare International      105437    121579  2019     0.233210   1\n",
       "1       Stapleton International       64525     79166  2019     0.220287   2\n",
       "2    Dallas Fort Worth Regional       39511     48326  2019     0.220065   3\n",
       "3   San Francisco International       63459     77157  2019     0.217463   4\n",
       "4           Logan International       55989     69216  2019     0.213578   5\n",
       "5                     LaGuardia       57708     70252  2019     0.211028   6\n",
       "6        McCarran International       38456     47743  2019     0.198981   7\n",
       "7     Los Angeles International       93702    115161  2019     0.191490   8\n",
       "8             Atlanta Municipal      123162    150816  2019     0.186056   9\n",
       "9         Seattle International       50465     60815  2019     0.177291  10"
      ]
     },
     "execution_count": 11,
     "metadata": {},
     "output_type": "execute_result"
    }
   ],
   "source": [
    "top_airports_df"
   ]
  },
  {
   "cell_type": "markdown",
   "metadata": {},
   "source": [
    " Aktualizuję format liczbowy dla kolumny `reliability`"
   ]
  },
  {
   "cell_type": "code",
   "execution_count": 12,
   "metadata": {},
   "outputs": [
    {
     "data": {
      "text/html": [
       "<div>\n",
       "<style scoped>\n",
       "    .dataframe tbody tr th:only-of-type {\n",
       "        vertical-align: middle;\n",
       "    }\n",
       "\n",
       "    .dataframe tbody tr th {\n",
       "        vertical-align: top;\n",
       "    }\n",
       "\n",
       "    .dataframe thead th {\n",
       "        text-align: right;\n",
       "    }\n",
       "</style>\n",
       "<table border=\"1\" class=\"dataframe\">\n",
       "  <thead>\n",
       "    <tr style=\"text-align: right;\">\n",
       "      <th></th>\n",
       "      <th>origin_airport_name</th>\n",
       "      <th>departures</th>\n",
       "      <th>arrivals</th>\n",
       "      <th>year</th>\n",
       "      <th>reliability</th>\n",
       "      <th>nb</th>\n",
       "    </tr>\n",
       "  </thead>\n",
       "  <tbody>\n",
       "    <tr>\n",
       "      <th>0</th>\n",
       "      <td>Chicago O'Hare International</td>\n",
       "      <td>105437</td>\n",
       "      <td>121579</td>\n",
       "      <td>2019</td>\n",
       "      <td>23.32%</td>\n",
       "      <td>1</td>\n",
       "    </tr>\n",
       "    <tr>\n",
       "      <th>1</th>\n",
       "      <td>Stapleton International</td>\n",
       "      <td>64525</td>\n",
       "      <td>79166</td>\n",
       "      <td>2019</td>\n",
       "      <td>22.03%</td>\n",
       "      <td>2</td>\n",
       "    </tr>\n",
       "    <tr>\n",
       "      <th>2</th>\n",
       "      <td>Dallas Fort Worth Regional</td>\n",
       "      <td>39511</td>\n",
       "      <td>48326</td>\n",
       "      <td>2019</td>\n",
       "      <td>22.01%</td>\n",
       "      <td>3</td>\n",
       "    </tr>\n",
       "    <tr>\n",
       "      <th>3</th>\n",
       "      <td>San Francisco International</td>\n",
       "      <td>63459</td>\n",
       "      <td>77157</td>\n",
       "      <td>2019</td>\n",
       "      <td>21.75%</td>\n",
       "      <td>4</td>\n",
       "    </tr>\n",
       "    <tr>\n",
       "      <th>4</th>\n",
       "      <td>Logan International</td>\n",
       "      <td>55989</td>\n",
       "      <td>69216</td>\n",
       "      <td>2019</td>\n",
       "      <td>21.36%</td>\n",
       "      <td>5</td>\n",
       "    </tr>\n",
       "    <tr>\n",
       "      <th>5</th>\n",
       "      <td>LaGuardia</td>\n",
       "      <td>57708</td>\n",
       "      <td>70252</td>\n",
       "      <td>2019</td>\n",
       "      <td>21.10%</td>\n",
       "      <td>6</td>\n",
       "    </tr>\n",
       "    <tr>\n",
       "      <th>6</th>\n",
       "      <td>McCarran International</td>\n",
       "      <td>38456</td>\n",
       "      <td>47743</td>\n",
       "      <td>2019</td>\n",
       "      <td>19.90%</td>\n",
       "      <td>7</td>\n",
       "    </tr>\n",
       "    <tr>\n",
       "      <th>7</th>\n",
       "      <td>Los Angeles International</td>\n",
       "      <td>93702</td>\n",
       "      <td>115161</td>\n",
       "      <td>2019</td>\n",
       "      <td>19.15%</td>\n",
       "      <td>8</td>\n",
       "    </tr>\n",
       "    <tr>\n",
       "      <th>8</th>\n",
       "      <td>Atlanta Municipal</td>\n",
       "      <td>123162</td>\n",
       "      <td>150816</td>\n",
       "      <td>2019</td>\n",
       "      <td>18.61%</td>\n",
       "      <td>9</td>\n",
       "    </tr>\n",
       "    <tr>\n",
       "      <th>9</th>\n",
       "      <td>Seattle International</td>\n",
       "      <td>50465</td>\n",
       "      <td>60815</td>\n",
       "      <td>2019</td>\n",
       "      <td>17.73%</td>\n",
       "      <td>10</td>\n",
       "    </tr>\n",
       "  </tbody>\n",
       "</table>\n",
       "</div>"
      ],
      "text/plain": [
       "            origin_airport_name  departures  arrivals  year reliability  nb\n",
       "0  Chicago O'Hare International      105437    121579  2019      23.32%   1\n",
       "1       Stapleton International       64525     79166  2019      22.03%   2\n",
       "2    Dallas Fort Worth Regional       39511     48326  2019      22.01%   3\n",
       "3   San Francisco International       63459     77157  2019      21.75%   4\n",
       "4           Logan International       55989     69216  2019      21.36%   5\n",
       "5                     LaGuardia       57708     70252  2019      21.10%   6\n",
       "6        McCarran International       38456     47743  2019      19.90%   7\n",
       "7     Los Angeles International       93702    115161  2019      19.15%   8\n",
       "8             Atlanta Municipal      123162    150816  2019      18.61%   9\n",
       "9         Seattle International       50465     60815  2019      17.73%  10"
      ]
     },
     "execution_count": 12,
     "metadata": {},
     "output_type": "execute_result"
    }
   ],
   "source": [
    "top_airports_df['reliability'] = top_airports_df['reliability'].apply(lambda x: f\"{x:.2%}\")\n",
    "top_airports_df"
   ]
  },
  {
   "cell_type": "markdown",
   "metadata": {},
   "source": [
    "Zmieniam nazwy kolumn"
   ]
  },
  {
   "cell_type": "code",
   "execution_count": 13,
   "metadata": {},
   "outputs": [
    {
     "data": {
      "text/html": [
       "<div>\n",
       "<style scoped>\n",
       "    .dataframe tbody tr th:only-of-type {\n",
       "        vertical-align: middle;\n",
       "    }\n",
       "\n",
       "    .dataframe tbody tr th {\n",
       "        vertical-align: top;\n",
       "    }\n",
       "\n",
       "    .dataframe thead th {\n",
       "        text-align: right;\n",
       "    }\n",
       "</style>\n",
       "<table border=\"1\" class=\"dataframe\">\n",
       "  <thead>\n",
       "    <tr style=\"text-align: right;\">\n",
       "      <th></th>\n",
       "      <th>Origin</th>\n",
       "      <th>Departures</th>\n",
       "      <th>Arrivals</th>\n",
       "      <th>Year</th>\n",
       "      <th>Reliability</th>\n",
       "      <th>Rank</th>\n",
       "    </tr>\n",
       "  </thead>\n",
       "  <tbody>\n",
       "    <tr>\n",
       "      <th>0</th>\n",
       "      <td>Chicago O'Hare International</td>\n",
       "      <td>105437</td>\n",
       "      <td>121579</td>\n",
       "      <td>2019</td>\n",
       "      <td>23.32%</td>\n",
       "      <td>1</td>\n",
       "    </tr>\n",
       "    <tr>\n",
       "      <th>1</th>\n",
       "      <td>Stapleton International</td>\n",
       "      <td>64525</td>\n",
       "      <td>79166</td>\n",
       "      <td>2019</td>\n",
       "      <td>22.03%</td>\n",
       "      <td>2</td>\n",
       "    </tr>\n",
       "    <tr>\n",
       "      <th>2</th>\n",
       "      <td>Dallas Fort Worth Regional</td>\n",
       "      <td>39511</td>\n",
       "      <td>48326</td>\n",
       "      <td>2019</td>\n",
       "      <td>22.01%</td>\n",
       "      <td>3</td>\n",
       "    </tr>\n",
       "    <tr>\n",
       "      <th>3</th>\n",
       "      <td>San Francisco International</td>\n",
       "      <td>63459</td>\n",
       "      <td>77157</td>\n",
       "      <td>2019</td>\n",
       "      <td>21.75%</td>\n",
       "      <td>4</td>\n",
       "    </tr>\n",
       "    <tr>\n",
       "      <th>4</th>\n",
       "      <td>Logan International</td>\n",
       "      <td>55989</td>\n",
       "      <td>69216</td>\n",
       "      <td>2019</td>\n",
       "      <td>21.36%</td>\n",
       "      <td>5</td>\n",
       "    </tr>\n",
       "    <tr>\n",
       "      <th>5</th>\n",
       "      <td>LaGuardia</td>\n",
       "      <td>57708</td>\n",
       "      <td>70252</td>\n",
       "      <td>2019</td>\n",
       "      <td>21.10%</td>\n",
       "      <td>6</td>\n",
       "    </tr>\n",
       "    <tr>\n",
       "      <th>6</th>\n",
       "      <td>McCarran International</td>\n",
       "      <td>38456</td>\n",
       "      <td>47743</td>\n",
       "      <td>2019</td>\n",
       "      <td>19.90%</td>\n",
       "      <td>7</td>\n",
       "    </tr>\n",
       "    <tr>\n",
       "      <th>7</th>\n",
       "      <td>Los Angeles International</td>\n",
       "      <td>93702</td>\n",
       "      <td>115161</td>\n",
       "      <td>2019</td>\n",
       "      <td>19.15%</td>\n",
       "      <td>8</td>\n",
       "    </tr>\n",
       "    <tr>\n",
       "      <th>8</th>\n",
       "      <td>Atlanta Municipal</td>\n",
       "      <td>123162</td>\n",
       "      <td>150816</td>\n",
       "      <td>2019</td>\n",
       "      <td>18.61%</td>\n",
       "      <td>9</td>\n",
       "    </tr>\n",
       "    <tr>\n",
       "      <th>9</th>\n",
       "      <td>Seattle International</td>\n",
       "      <td>50465</td>\n",
       "      <td>60815</td>\n",
       "      <td>2019</td>\n",
       "      <td>17.73%</td>\n",
       "      <td>10</td>\n",
       "    </tr>\n",
       "  </tbody>\n",
       "</table>\n",
       "</div>"
      ],
      "text/plain": [
       "                         Origin  Departures  Arrivals  Year Reliability  Rank\n",
       "0  Chicago O'Hare International      105437    121579  2019      23.32%     1\n",
       "1       Stapleton International       64525     79166  2019      22.03%     2\n",
       "2    Dallas Fort Worth Regional       39511     48326  2019      22.01%     3\n",
       "3   San Francisco International       63459     77157  2019      21.75%     4\n",
       "4           Logan International       55989     69216  2019      21.36%     5\n",
       "5                     LaGuardia       57708     70252  2019      21.10%     6\n",
       "6        McCarran International       38456     47743  2019      19.90%     7\n",
       "7     Los Angeles International       93702    115161  2019      19.15%     8\n",
       "8             Atlanta Municipal      123162    150816  2019      18.61%     9\n",
       "9         Seattle International       50465     60815  2019      17.73%    10"
      ]
     },
     "execution_count": 13,
     "metadata": {},
     "output_type": "execute_result"
    }
   ],
   "source": [
    "top_airports_df.rename(columns = {'origin_airport_name' : 'Origin',\n",
    "                                'departures' : 'Departures',\n",
    "                                'arrivals' : 'Arrivals',\n",
    "                                'year' : 'Year',\n",
    "                                'reliability' : 'Reliability',\n",
    "                                'nb' : 'Rank'}, inplace=True)\n",
    "\n",
    "top_airports_df"
   ]
  },
  {
   "cell_type": "markdown",
   "metadata": {},
   "source": [
    " # Porównanie rok do roku (YoY) 2019 vs. 2020"
   ]
  },
  {
   "cell_type": "markdown",
   "metadata": {},
   "source": [
    " Wczytuję tabelę z widoku `reporting.year_to_year_comparision` dane do ramki `yoy_comparision_df`"
   ]
  },
  {
   "cell_type": "code",
   "execution_count": 14,
   "metadata": {},
   "outputs": [
    {
     "data": {
      "text/html": [
       "<div>\n",
       "<style scoped>\n",
       "    .dataframe tbody tr th:only-of-type {\n",
       "        vertical-align: middle;\n",
       "    }\n",
       "\n",
       "    .dataframe tbody tr th {\n",
       "        vertical-align: top;\n",
       "    }\n",
       "\n",
       "    .dataframe thead th {\n",
       "        text-align: right;\n",
       "    }\n",
       "</style>\n",
       "<table border=\"1\" class=\"dataframe\">\n",
       "  <thead>\n",
       "    <tr style=\"text-align: right;\">\n",
       "      <th></th>\n",
       "      <th>year</th>\n",
       "      <th>month</th>\n",
       "      <th>flights_amount</th>\n",
       "      <th>reliability</th>\n",
       "    </tr>\n",
       "  </thead>\n",
       "  <tbody>\n",
       "    <tr>\n",
       "      <th>0</th>\n",
       "      <td>2019</td>\n",
       "      <td>1</td>\n",
       "      <td>86826</td>\n",
       "      <td>0.180787</td>\n",
       "    </tr>\n",
       "    <tr>\n",
       "      <th>1</th>\n",
       "      <td>2019</td>\n",
       "      <td>2</td>\n",
       "      <td>79514</td>\n",
       "      <td>0.218565</td>\n",
       "    </tr>\n",
       "    <tr>\n",
       "      <th>2</th>\n",
       "      <td>2019</td>\n",
       "      <td>3</td>\n",
       "      <td>91789</td>\n",
       "      <td>0.176056</td>\n",
       "    </tr>\n",
       "    <tr>\n",
       "      <th>3</th>\n",
       "      <td>2019</td>\n",
       "      <td>4</td>\n",
       "      <td>89505</td>\n",
       "      <td>0.182794</td>\n",
       "    </tr>\n",
       "    <tr>\n",
       "      <th>4</th>\n",
       "      <td>2019</td>\n",
       "      <td>5</td>\n",
       "      <td>94256</td>\n",
       "      <td>0.204687</td>\n",
       "    </tr>\n",
       "    <tr>\n",
       "      <th>5</th>\n",
       "      <td>2019</td>\n",
       "      <td>6</td>\n",
       "      <td>92823</td>\n",
       "      <td>0.247622</td>\n",
       "    </tr>\n",
       "    <tr>\n",
       "      <th>6</th>\n",
       "      <td>2019</td>\n",
       "      <td>7</td>\n",
       "      <td>95971</td>\n",
       "      <td>0.216690</td>\n",
       "    </tr>\n",
       "    <tr>\n",
       "      <th>7</th>\n",
       "      <td>2019</td>\n",
       "      <td>8</td>\n",
       "      <td>98725</td>\n",
       "      <td>0.210322</td>\n",
       "    </tr>\n",
       "    <tr>\n",
       "      <th>8</th>\n",
       "      <td>2019</td>\n",
       "      <td>9</td>\n",
       "      <td>90789</td>\n",
       "      <td>0.147661</td>\n",
       "    </tr>\n",
       "    <tr>\n",
       "      <th>9</th>\n",
       "      <td>2019</td>\n",
       "      <td>10</td>\n",
       "      <td>95901</td>\n",
       "      <td>0.163460</td>\n",
       "    </tr>\n",
       "    <tr>\n",
       "      <th>10</th>\n",
       "      <td>2019</td>\n",
       "      <td>11</td>\n",
       "      <td>88993</td>\n",
       "      <td>0.139236</td>\n",
       "    </tr>\n",
       "    <tr>\n",
       "      <th>11</th>\n",
       "      <td>2019</td>\n",
       "      <td>12</td>\n",
       "      <td>90650</td>\n",
       "      <td>0.207854</td>\n",
       "    </tr>\n",
       "    <tr>\n",
       "      <th>12</th>\n",
       "      <td>2020</td>\n",
       "      <td>1</td>\n",
       "      <td>90102</td>\n",
       "      <td>0.125757</td>\n",
       "    </tr>\n",
       "    <tr>\n",
       "      <th>13</th>\n",
       "      <td>2020</td>\n",
       "      <td>2</td>\n",
       "      <td>84936</td>\n",
       "      <td>0.134419</td>\n",
       "    </tr>\n",
       "    <tr>\n",
       "      <th>14</th>\n",
       "      <td>2020</td>\n",
       "      <td>3</td>\n",
       "      <td>76177</td>\n",
       "      <td>0.092797</td>\n",
       "    </tr>\n",
       "  </tbody>\n",
       "</table>\n",
       "</div>"
      ],
      "text/plain": [
       "    year  month  flights_amount  reliability\n",
       "0   2019      1           86826     0.180787\n",
       "1   2019      2           79514     0.218565\n",
       "2   2019      3           91789     0.176056\n",
       "3   2019      4           89505     0.182794\n",
       "4   2019      5           94256     0.204687\n",
       "5   2019      6           92823     0.247622\n",
       "6   2019      7           95971     0.216690\n",
       "7   2019      8           98725     0.210322\n",
       "8   2019      9           90789     0.147661\n",
       "9   2019     10           95901     0.163460\n",
       "10  2019     11           88993     0.139236\n",
       "11  2019     12           90650     0.207854\n",
       "12  2020      1           90102     0.125757\n",
       "13  2020      2           84936     0.134419\n",
       "14  2020      3           76177     0.092797"
      ]
     },
     "execution_count": 14,
     "metadata": {},
     "output_type": "execute_result"
    }
   ],
   "source": [
    "yoy_comparision_df = read_sql_table('reporting.year_to_year_comparision')\n",
    "yoy_comparision_df"
   ]
  },
  {
   "cell_type": "markdown",
   "metadata": {},
   "source": [
    " Przekształcam tabelkę do formy tabeli przestawnej"
   ]
  },
  {
   "cell_type": "code",
   "execution_count": 15,
   "metadata": {},
   "outputs": [
    {
     "data": {
      "text/html": [
       "<div>\n",
       "<style scoped>\n",
       "    .dataframe tbody tr th:only-of-type {\n",
       "        vertical-align: middle;\n",
       "    }\n",
       "\n",
       "    .dataframe tbody tr th {\n",
       "        vertical-align: top;\n",
       "    }\n",
       "\n",
       "    .dataframe thead tr th {\n",
       "        text-align: left;\n",
       "    }\n",
       "\n",
       "    .dataframe thead tr:last-of-type th {\n",
       "        text-align: right;\n",
       "    }\n",
       "</style>\n",
       "<table border=\"1\" class=\"dataframe\">\n",
       "  <thead>\n",
       "    <tr>\n",
       "      <th></th>\n",
       "      <th colspan=\"2\" halign=\"left\">reliability</th>\n",
       "    </tr>\n",
       "    <tr>\n",
       "      <th>year</th>\n",
       "      <th>2019</th>\n",
       "      <th>2020</th>\n",
       "    </tr>\n",
       "    <tr>\n",
       "      <th>month</th>\n",
       "      <th></th>\n",
       "      <th></th>\n",
       "    </tr>\n",
       "  </thead>\n",
       "  <tbody>\n",
       "    <tr>\n",
       "      <th>1</th>\n",
       "      <td>0.180787</td>\n",
       "      <td>0.125757</td>\n",
       "    </tr>\n",
       "    <tr>\n",
       "      <th>2</th>\n",
       "      <td>0.218565</td>\n",
       "      <td>0.134419</td>\n",
       "    </tr>\n",
       "    <tr>\n",
       "      <th>3</th>\n",
       "      <td>0.176056</td>\n",
       "      <td>0.092797</td>\n",
       "    </tr>\n",
       "    <tr>\n",
       "      <th>4</th>\n",
       "      <td>0.182794</td>\n",
       "      <td>NaN</td>\n",
       "    </tr>\n",
       "    <tr>\n",
       "      <th>5</th>\n",
       "      <td>0.204687</td>\n",
       "      <td>NaN</td>\n",
       "    </tr>\n",
       "    <tr>\n",
       "      <th>6</th>\n",
       "      <td>0.247622</td>\n",
       "      <td>NaN</td>\n",
       "    </tr>\n",
       "    <tr>\n",
       "      <th>7</th>\n",
       "      <td>0.216690</td>\n",
       "      <td>NaN</td>\n",
       "    </tr>\n",
       "    <tr>\n",
       "      <th>8</th>\n",
       "      <td>0.210322</td>\n",
       "      <td>NaN</td>\n",
       "    </tr>\n",
       "    <tr>\n",
       "      <th>9</th>\n",
       "      <td>0.147661</td>\n",
       "      <td>NaN</td>\n",
       "    </tr>\n",
       "    <tr>\n",
       "      <th>10</th>\n",
       "      <td>0.163460</td>\n",
       "      <td>NaN</td>\n",
       "    </tr>\n",
       "    <tr>\n",
       "      <th>11</th>\n",
       "      <td>0.139236</td>\n",
       "      <td>NaN</td>\n",
       "    </tr>\n",
       "    <tr>\n",
       "      <th>12</th>\n",
       "      <td>0.207854</td>\n",
       "      <td>NaN</td>\n",
       "    </tr>\n",
       "  </tbody>\n",
       "</table>\n",
       "</div>"
      ],
      "text/plain": [
       "      reliability          \n",
       "year         2019      2020\n",
       "month                      \n",
       "1        0.180787  0.125757\n",
       "2        0.218565  0.134419\n",
       "3        0.176056  0.092797\n",
       "4        0.182794       NaN\n",
       "5        0.204687       NaN\n",
       "6        0.247622       NaN\n",
       "7        0.216690       NaN\n",
       "8        0.210322       NaN\n",
       "9        0.147661       NaN\n",
       "10       0.163460       NaN\n",
       "11       0.139236       NaN\n",
       "12       0.207854       NaN"
      ]
     },
     "execution_count": 15,
     "metadata": {},
     "output_type": "execute_result"
    }
   ],
   "source": [
    "yoy_comparision_to_plot_df = pd.pivot(data=yoy_comparision_df,\n",
    "                                            index=['month'],\n",
    "                                            columns=['year'],\n",
    "                                            values=['reliability'],\n",
    "                                            )\n",
    "yoy_comparision_to_plot_df"
   ]
  },
  {
   "cell_type": "code",
   "execution_count": 16,
   "metadata": {},
   "outputs": [
    {
     "data": {
      "text/plain": [
       "MultiIndex([('reliability', 2019),\n",
       "            ('reliability', 2020)],\n",
       "           names=[None, 'year'])"
      ]
     },
     "execution_count": 16,
     "metadata": {},
     "output_type": "execute_result"
    }
   ],
   "source": [
    "yoy_comparision_to_plot_df.columns"
   ]
  },
  {
   "cell_type": "code",
   "execution_count": 17,
   "metadata": {},
   "outputs": [
    {
     "data": {
      "text/plain": [
       "[2019, 2020]"
      ]
     },
     "execution_count": 17,
     "metadata": {},
     "output_type": "execute_result"
    }
   ],
   "source": [
    "columns = [yoy_comparision_to_plot_df.columns[0][1], yoy_comparision_to_plot_df.columns[1][1]]\n",
    "columns"
   ]
  },
  {
   "cell_type": "code",
   "execution_count": 18,
   "metadata": {},
   "outputs": [
    {
     "data": {
      "text/plain": [
       "array([[0.18078686, 0.12575747],\n",
       "       [0.21856528, 0.13441886],\n",
       "       [0.17605595, 0.09279704],\n",
       "       [0.18279426,        nan],\n",
       "       [0.20468723,        nan],\n",
       "       [0.24762182,        nan],\n",
       "       [0.21669046,        nan],\n",
       "       [0.2103216 ,        nan],\n",
       "       [0.14766106,        nan],\n",
       "       [0.16346024,        nan],\n",
       "       [0.13923567,        nan],\n",
       "       [0.20785438,        nan]])"
      ]
     },
     "execution_count": 18,
     "metadata": {},
     "output_type": "execute_result"
    }
   ],
   "source": [
    "yoy_comparision_to_plot_df.values"
   ]
  },
  {
   "cell_type": "code",
   "execution_count": 19,
   "metadata": {},
   "outputs": [
    {
     "data": {
      "text/plain": [
       "0.24762181786841622"
      ]
     },
     "execution_count": 19,
     "metadata": {},
     "output_type": "execute_result"
    }
   ],
   "source": [
    "max_value = np.nanmax(yoy_comparision_to_plot_df.values)\n",
    "max_value"
   ]
  },
  {
   "cell_type": "code",
   "execution_count": 20,
   "metadata": {},
   "outputs": [
    {
     "data": {
      "text/plain": [
       "0.1807868610784788"
      ]
     },
     "execution_count": 20,
     "metadata": {},
     "output_type": "execute_result"
    }
   ],
   "source": [
    "yoy_comparision_to_plot_df.values[0][0]"
   ]
  },
  {
   "cell_type": "code",
   "execution_count": 21,
   "metadata": {},
   "outputs": [
    {
     "data": {
      "text/plain": [
       "Index([1, 2, 3, 4, 5, 6, 7, 8, 9, 10, 11, 12], dtype='int64', name='month')"
      ]
     },
     "execution_count": 21,
     "metadata": {},
     "output_type": "execute_result"
    }
   ],
   "source": [
    "yoy_comparision_to_plot_df.index"
   ]
  },
  {
   "cell_type": "code",
   "execution_count": 22,
   "metadata": {},
   "outputs": [
    {
     "data": {
      "text/plain": [
       "<Axes: xlabel='month'>"
      ]
     },
     "execution_count": 22,
     "metadata": {},
     "output_type": "execute_result"
    },
    {
     "data": {
      "image/png": "[encoded data removed]",
      "text/plain": [
       "<Figure size 640x480 with 1 Axes>"
      ]
     },
     "metadata": {},
     "output_type": "display_data"
    }
   ],
   "source": [
    "yoy_comparision_to_plot_df.plot(kind='bar')"
   ]
  },
  {
   "cell_type": "markdown",
   "metadata": {},
   "source": [
    " Tworzę wykres słupkowy, zapisuję go do zmiennej `yoy_comparision_fig`."
   ]
  },
  {
   "cell_type": "code",
   "execution_count": 23,
   "metadata": {},
   "outputs": [
    {
     "name": "stderr",
     "output_type": "stream",
     "text": [
      "c:\\Users\\ktkat\\pyver\\py383\\Lib\\site-packages\\plotly\\express\\_core.py:2065: FutureWarning: When grouping with a length-1 list-like, you will need to pass a length-1 tuple to get_group in a future version of pandas. Pass `(name,)` instead of `name` to silence this warning.\n",
      "  sf: grouped.get_group(s if len(s) > 1 else s[0])\n"
     ]
    },
    {
     "data": {
      "application/vnd.plotly.v1+json": {
       "config": {
        "plotlyServerURL": "https://plot.ly"
       },
       "data": [
        {
         "alignmentgroup": "True",
         "hovertemplate": "Month: <b>%{x}</b> <br>Percentage of delay (%): <b>%{y}</b> <br>Year: <b>%{fullData.name}</b>",
         "legendgroup": "wide_variable_0",
         "marker": {
          "color": "#5995ED",
          "pattern": {
           "shape": ""
          }
         },
         "name": "2019",
         "offsetgroup": "wide_variable_0",
         "orientation": "v",
         "showlegend": true,
         "textposition": "auto",
         "texttemplate": "<span style=\"font-size: 13px;\"><b>%{y:.2%}</b></span>",
         "type": "bar",
         "x": [
          1,
          2,
          3,
          4,
          5,
          6,
          7,
          8,
          9,
          10,
          11,
          12
         ],
         "xaxis": "x",
         "y": [
          0.1807868610784788,
          0.21856528410091305,
          0.17605595441719596,
          0.18279425730406124,
          0.20468723476489561,
          0.24762181786841622,
          0.21669045857602817,
          0.21032160040516587,
          0.14766106026060427,
          0.16346023503404553,
          0.13923567022125335,
          0.20785438499724215
         ],
         "yaxis": "y"
        },
        {
         "alignmentgroup": "True",
         "hovertemplate": "Month: <b>%{x}</b> <br>Percentage of delay (%): <b>%{y}</b> <br>Year: <b>%{fullData.name}</b>",
         "legendgroup": "wide_variable_1",
         "marker": {
          "color": "#FF9F1C",
          "pattern": {
           "shape": ""
          }
         },
         "name": "2020",
         "offsetgroup": "wide_variable_1",
         "orientation": "v",
         "showlegend": true,
         "textposition": "auto",
         "texttemplate": "<span style=\"font-size: 13px;\"><b>%{y:.2%}</b></span>",
         "type": "bar",
         "x": [
          1,
          2,
          3,
          4,
          5,
          6,
          7,
          8,
          9,
          10,
          11,
          12
         ],
         "xaxis": "x",
         "y": [
          0.12575747486182326,
          0.13441885655081473,
          0.09279703847618047,
          null,
          null,
          null,
          null,
          null,
          null,
          null,
          null,
          null
         ],
         "yaxis": "y"
        }
       ],
       "layout": {
        "barmode": "group",
        "height": 600,
        "legend": {
         "title": {
          "text": "Year"
         },
         "tracegroupgap": 0
        },
        "plot_bgcolor": "#E4EEF1",
        "template": {
         "data": {
          "bar": [
           {
            "error_x": {
             "color": "#2a3f5f"
            },
            "error_y": {
             "color": "#2a3f5f"
            },
            "marker": {
             "line": {
              "color": "#E5ECF6",
              "width": 0.5
             },
             "pattern": {
              "fillmode": "overlay",
              "size": 10,
              "solidity": 0.2
             }
            },
            "type": "bar"
           }
          ],
          "barpolar": [
           {
            "marker": {
             "line": {
              "color": "#E5ECF6",
              "width": 0.5
             },
             "pattern": {
              "fillmode": "overlay",
              "size": 10,
              "solidity": 0.2
             }
            },
            "type": "barpolar"
           }
          ],
          "carpet": [
           {
            "aaxis": {
             "endlinecolor": "#2a3f5f",
             "gridcolor": "white",
             "linecolor": "white",
             "minorgridcolor": "white",
             "startlinecolor": "#2a3f5f"
            },
            "baxis": {
             "endlinecolor": "#2a3f5f",
             "gridcolor": "white",
             "linecolor": "white",
             "minorgridcolor": "white",
             "startlinecolor": "#2a3f5f"
            },
            "type": "carpet"
           }
          ],
          "choropleth": [
           {
            "colorbar": {
             "outlinewidth": 0,
             "ticks": ""
            },
            "type": "choropleth"
           }
          ],
          "contour": [
           {
            "colorbar": {
             "outlinewidth": 0,
             "ticks": ""
            },
            "colorscale": [
             [
              0,
              "#0d0887"
             ],
             [
              0.1111111111111111,
              "#46039f"
             ],
             [
              0.2222222222222222,
              "#7201a8"
             ],
             [
              0.3333333333333333,
              "#9c179e"
             ],
             [
              0.4444444444444444,
              "#bd3786"
             ],
             [
              0.5555555555555556,
              "#d8576b"
             ],
             [
              0.6666666666666666,
              "#ed7953"
             ],
             [
              0.7777777777777778,
              "#fb9f3a"
             ],
             [
              0.8888888888888888,
              "#fdca26"
             ],
             [
              1,
              "#f0f921"
             ]
            ],
            "type": "contour"
           }
          ],
          "contourcarpet": [
           {
            "colorbar": {
             "outlinewidth": 0,
             "ticks": ""
            },
            "type": "contourcarpet"
           }
          ],
          "heatmap": [
           {
            "colorbar": {
             "outlinewidth": 0,
             "ticks": ""
            },
            "colorscale": [
             [
              0,
              "#0d0887"
             ],
             [
              0.1111111111111111,
              "#46039f"
             ],
             [
              0.2222222222222222,
              "#7201a8"
             ],
             [
              0.3333333333333333,
              "#9c179e"
             ],
             [
              0.4444444444444444,
              "#bd3786"
             ],
             [
              0.5555555555555556,
              "#d8576b"
             ],
             [
              0.6666666666666666,
              "#ed7953"
             ],
             [
              0.7777777777777778,
              "#fb9f3a"
             ],
             [
              0.8888888888888888,
              "#fdca26"
             ],
             [
              1,
              "#f0f921"
             ]
            ],
            "type": "heatmap"
           }
          ],
          "heatmapgl": [
           {
            "colorbar": {
             "outlinewidth": 0,
             "ticks": ""
            },
            "colorscale": [
             [
              0,
              "#0d0887"
             ],
             [
              0.1111111111111111,
              "#46039f"
             ],
             [
              0.2222222222222222,
              "#7201a8"
             ],
             [
              0.3333333333333333,
              "#9c179e"
             ],
             [
              0.4444444444444444,
              "#bd3786"
             ],
             [
              0.5555555555555556,
              "#d8576b"
             ],
             [
              0.6666666666666666,
              "#ed7953"
             ],
             [
              0.7777777777777778,
              "#fb9f3a"
             ],
             [
              0.8888888888888888,
              "#fdca26"
             ],
             [
              1,
              "#f0f921"
             ]
            ],
            "type": "heatmapgl"
           }
          ],
          "histogram": [
           {
            "marker": {
             "pattern": {
              "fillmode": "overlay",
              "size": 10,
              "solidity": 0.2
             }
            },
            "type": "histogram"
           }
          ],
          "histogram2d": [
           {
            "colorbar": {
             "outlinewidth": 0,
             "ticks": ""
            },
            "colorscale": [
             [
              0,
              "#0d0887"
             ],
             [
              0.1111111111111111,
              "#46039f"
             ],
             [
              0.2222222222222222,
              "#7201a8"
             ],
             [
              0.3333333333333333,
              "#9c179e"
             ],
             [
              0.4444444444444444,
              "#bd3786"
             ],
             [
              0.5555555555555556,
              "#d8576b"
             ],
             [
              0.6666666666666666,
              "#ed7953"
             ],
             [
              0.7777777777777778,
              "#fb9f3a"
             ],
             [
              0.8888888888888888,
              "#fdca26"
             ],
             [
              1,
              "#f0f921"
             ]
            ],
            "type": "histogram2d"
           }
          ],
          "histogram2dcontour": [
           {
            "colorbar": {
             "outlinewidth": 0,
             "ticks": ""
            },
            "colorscale": [
             [
              0,
              "#0d0887"
             ],
             [
              0.1111111111111111,
              "#46039f"
             ],
             [
              0.2222222222222222,
              "#7201a8"
             ],
             [
              0.3333333333333333,
              "#9c179e"
             ],
             [
              0.4444444444444444,
              "#bd3786"
             ],
             [
              0.5555555555555556,
              "#d8576b"
             ],
             [
              0.6666666666666666,
              "#ed7953"
             ],
             [
              0.7777777777777778,
              "#fb9f3a"
             ],
             [
              0.8888888888888888,
              "#fdca26"
             ],
             [
              1,
              "#f0f921"
             ]
            ],
            "type": "histogram2dcontour"
           }
          ],
          "mesh3d": [
           {
            "colorbar": {
             "outlinewidth": 0,
             "ticks": ""
            },
            "type": "mesh3d"
           }
          ],
          "parcoords": [
           {
            "line": {
             "colorbar": {
              "outlinewidth": 0,
              "ticks": ""
             }
            },
            "type": "parcoords"
           }
          ],
          "pie": [
           {
            "automargin": true,
            "type": "pie"
           }
          ],
          "scatter": [
           {
            "fillpattern": {
             "fillmode": "overlay",
             "size": 10,
             "solidity": 0.2
            },
            "type": "scatter"
           }
          ],
          "scatter3d": [
           {
            "line": {
             "colorbar": {
              "outlinewidth": 0,
              "ticks": ""
             }
            },
            "marker": {
             "colorbar": {
              "outlinewidth": 0,
              "ticks": ""
             }
            },
            "type": "scatter3d"
           }
          ],
          "scattercarpet": [
           {
            "marker": {
             "colorbar": {
              "outlinewidth": 0,
              "ticks": ""
             }
            },
            "type": "scattercarpet"
           }
          ],
          "scattergeo": [
           {
            "marker": {
             "colorbar": {
              "outlinewidth": 0,
              "ticks": ""
             }
            },
            "type": "scattergeo"
           }
          ],
          "scattergl": [
           {
            "marker": {
             "colorbar": {
              "outlinewidth": 0,
              "ticks": ""
             }
            },
            "type": "scattergl"
           }
          ],
          "scattermapbox": [
           {
            "marker": {
             "colorbar": {
              "outlinewidth": 0,
              "ticks": ""
             }
            },
            "type": "scattermapbox"
           }
          ],
          "scatterpolar": [
           {
            "marker": {
             "colorbar": {
              "outlinewidth": 0,
              "ticks": ""
             }
            },
            "type": "scatterpolar"
           }
          ],
          "scatterpolargl": [
           {
            "marker": {
             "colorbar": {
              "outlinewidth": 0,
              "ticks": ""
             }
            },
            "type": "scatterpolargl"
           }
          ],
          "scatterternary": [
           {
            "marker": {
             "colorbar": {
              "outlinewidth": 0,
              "ticks": ""
             }
            },
            "type": "scatterternary"
           }
          ],
          "surface": [
           {
            "colorbar": {
             "outlinewidth": 0,
             "ticks": ""
            },
            "colorscale": [
             [
              0,
              "#0d0887"
             ],
             [
              0.1111111111111111,
              "#46039f"
             ],
             [
              0.2222222222222222,
              "#7201a8"
             ],
             [
              0.3333333333333333,
              "#9c179e"
             ],
             [
              0.4444444444444444,
              "#bd3786"
             ],
             [
              0.5555555555555556,
              "#d8576b"
             ],
             [
              0.6666666666666666,
              "#ed7953"
             ],
             [
              0.7777777777777778,
              "#fb9f3a"
             ],
             [
              0.8888888888888888,
              "#fdca26"
             ],
             [
              1,
              "#f0f921"
             ]
            ],
            "type": "surface"
           }
          ],
          "table": [
           {
            "cells": {
             "fill": {
              "color": "#EBF0F8"
             },
             "line": {
              "color": "white"
             }
            },
            "header": {
             "fill": {
              "color": "#C8D4E3"
             },
             "line": {
              "color": "white"
             }
            },
            "type": "table"
           }
          ]
         },
         "layout": {
          "annotationdefaults": {
           "arrowcolor": "#2a3f5f",
           "arrowhead": 0,
           "arrowwidth": 1
          },
          "autotypenumbers": "strict",
          "coloraxis": {
           "colorbar": {
            "outlinewidth": 0,
            "ticks": ""
           }
          },
          "colorscale": {
           "diverging": [
            [
             0,
             "#8e0152"
            ],
            [
             0.1,
             "#c51b7d"
            ],
            [
             0.2,
             "#de77ae"
            ],
            [
             0.3,
             "#f1b6da"
            ],
            [
             0.4,
             "#fde0ef"
            ],
            [
             0.5,
             "#f7f7f7"
            ],
            [
             0.6,
             "#e6f5d0"
            ],
            [
             0.7,
             "#b8e186"
            ],
            [
             0.8,
             "#7fbc41"
            ],
            [
             0.9,
             "#4d9221"
            ],
            [
             1,
             "#276419"
            ]
           ],
           "sequential": [
            [
             0,
             "#0d0887"
            ],
            [
             0.1111111111111111,
             "#46039f"
            ],
            [
             0.2222222222222222,
             "#7201a8"
            ],
            [
             0.3333333333333333,
             "#9c179e"
            ],
            [
             0.4444444444444444,
             "#bd3786"
            ],
            [
             0.5555555555555556,
             "#d8576b"
            ],
            [
             0.6666666666666666,
             "#ed7953"
            ],
            [
             0.7777777777777778,
             "#fb9f3a"
            ],
            [
             0.8888888888888888,
             "#fdca26"
            ],
            [
             1,
             "#f0f921"
            ]
           ],
           "sequentialminus": [
            [
             0,
             "#0d0887"
            ],
            [
             0.1111111111111111,
             "#46039f"
            ],
            [
             0.2222222222222222,
             "#7201a8"
            ],
            [
             0.3333333333333333,
             "#9c179e"
            ],
            [
             0.4444444444444444,
             "#bd3786"
            ],
            [
             0.5555555555555556,
             "#d8576b"
            ],
            [
             0.6666666666666666,
             "#ed7953"
            ],
            [
             0.7777777777777778,
             "#fb9f3a"
            ],
            [
             0.8888888888888888,
             "#fdca26"
            ],
            [
             1,
             "#f0f921"
            ]
           ]
          },
          "colorway": [
           "#636efa",
           "#EF553B",
           "#00cc96",
           "#ab63fa",
           "#FFA15A",
           "#19d3f3",
           "#FF6692",
           "#B6E880",
           "#FF97FF",
           "#FECB52"
          ],
          "font": {
           "color": "#2a3f5f"
          },
          "geo": {
           "bgcolor": "white",
           "lakecolor": "white",
           "landcolor": "#E5ECF6",
           "showlakes": true,
           "showland": true,
           "subunitcolor": "white"
          },
          "hoverlabel": {
           "align": "left"
          },
          "hovermode": "closest",
          "mapbox": {
           "style": "light"
          },
          "paper_bgcolor": "white",
          "plot_bgcolor": "#E5ECF6",
          "polar": {
           "angularaxis": {
            "gridcolor": "white",
            "linecolor": "white",
            "ticks": ""
           },
           "bgcolor": "#E5ECF6",
           "radialaxis": {
            "gridcolor": "white",
            "linecolor": "white",
            "ticks": ""
           }
          },
          "scene": {
           "xaxis": {
            "backgroundcolor": "#E5ECF6",
            "gridcolor": "white",
            "gridwidth": 2,
            "linecolor": "white",
            "showbackground": true,
            "ticks": "",
            "zerolinecolor": "white"
           },
           "yaxis": {
            "backgroundcolor": "#E5ECF6",
            "gridcolor": "white",
            "gridwidth": 2,
            "linecolor": "white",
            "showbackground": true,
            "ticks": "",
            "zerolinecolor": "white"
           },
           "zaxis": {
            "backgroundcolor": "#E5ECF6",
            "gridcolor": "white",
            "gridwidth": 2,
            "linecolor": "white",
            "showbackground": true,
            "ticks": "",
            "zerolinecolor": "white"
           }
          },
          "shapedefaults": {
           "line": {
            "color": "#2a3f5f"
           }
          },
          "ternary": {
           "aaxis": {
            "gridcolor": "white",
            "linecolor": "white",
            "ticks": ""
           },
           "baxis": {
            "gridcolor": "white",
            "linecolor": "white",
            "ticks": ""
           },
           "bgcolor": "#E5ECF6",
           "caxis": {
            "gridcolor": "white",
            "linecolor": "white",
            "ticks": ""
           }
          },
          "title": {
           "x": 0.05
          },
          "xaxis": {
           "automargin": true,
           "gridcolor": "white",
           "linecolor": "white",
           "ticks": "",
           "title": {
            "standoff": 15
           },
           "zerolinecolor": "white",
           "zerolinewidth": 2
          },
          "yaxis": {
           "automargin": true,
           "gridcolor": "white",
           "linecolor": "white",
           "ticks": "",
           "title": {
            "standoff": 15
           },
           "zerolinecolor": "white",
           "zerolinewidth": 2
          }
         }
        },
        "title": {
         "font": {
          "size": 24
         },
         "text": "<b>Comparison of Reliability between 2019 and 2020 by Month"
        },
        "width": 1400,
        "xaxis": {
         "anchor": "y",
         "domain": [
          0,
          1
         ],
         "tickfont": {
          "size": 14
         },
         "ticklen": 2,
         "ticks": "outside",
         "tickson": "boundaries",
         "ticktext": [
          "January",
          "February",
          "March",
          "April",
          "May",
          "June",
          "July",
          "August",
          "September",
          "October",
          "November",
          "December"
         ],
         "tickvals": [
          1,
          2,
          3,
          4,
          5,
          6,
          7,
          8,
          9,
          10,
          11,
          12
         ],
         "tickwidth": 80,
         "title": {
          "font": {
           "size": 14
          },
          "text": "<b>Month"
         }
        },
        "yaxis": {
         "anchor": "x",
         "domain": [
          0,
          1
         ],
         "range": [
          0,
          0.29762181786841624
         ],
         "tickcolor": "white",
         "tickfont": {
          "size": 14
         },
         "tickformat": ".0%",
         "ticklen": 15,
         "ticks": "outside",
         "tickson": "boundaries",
         "tickwidth": 1,
         "title": {
          "font": {
           "size": 14
          },
          "text": "<br><b>Percentage of delays (%)"
         }
        }
       }
      }
     },
     "metadata": {},
     "output_type": "display_data"
    }
   ],
   "source": [
    "yoy_comparision_fig = px.bar(   yoy_comparision_to_plot_df, \n",
    "                                x=yoy_comparision_to_plot_df.index,\n",
    "                                y=[[yoy_comparision_to_plot_df.values[i][0] for i in range(0,12)], [yoy_comparision_to_plot_df.values[i][1] for i in range(0,12)]],\n",
    "                                barmode='group',\n",
    "                                height=600, \n",
    "                                width=1400,\n",
    "                                title='<b>Comparison of Reliability between 2019 and 2020 by Month',\n",
    "                                text_auto=True,\n",
    "                                color_discrete_map={'wide_variable_0': '#5995ED', 'wide_variable_1': '#FF9F1C'},\n",
    "\n",
    "                                )\n",
    "\n",
    "month = ['January', 'February', 'March', 'April', 'May', 'June', 'July',\n",
    "         'August', 'September', 'October', 'November', 'December']\n",
    "\n",
    "yoy_comparision_fig.update_layout(  xaxis = dict(   \n",
    "                                                    title='<b>Month',\n",
    "                                                    titlefont=dict(size=14),\n",
    "                                                    tickvals = [i for i in range(1,13)],\n",
    "                                                    ticktext = month,\n",
    "                                                    tickson=\"boundaries\",\n",
    "                                                    ticks=\"outside\", \n",
    "                                                    ticklen=2,\n",
    "                                                    tickwidth=80,\n",
    "                                                    tickfont=dict(size=14),\n",
    "                                                                    ),\n",
    "                                    yaxis = dict(\n",
    "                                                    title='<br><b>Percentage of delays (%)',\n",
    "                                                    titlefont=dict(size=14),\n",
    "                                                    range=[0, max_value+0.05], \n",
    "                                                    tickformat=\".0%\",\n",
    "                                                    tickson=\"boundaries\",\n",
    "                                                    ticks=\"outside\",\n",
    "                                                    ticklen=15,\n",
    "                                                    tickwidth=1,\n",
    "                                                    tickcolor='white',\n",
    "                                                    tickfont=dict(size=14),\n",
    "                                                    ),\n",
    "                                    legend_title=\"Year\",\n",
    "                                    titlefont=dict(size=24),\n",
    "                                    plot_bgcolor=\"#E4EEF1\"\n",
    "                                    )\n",
    "yoy_comparision_fig.update_traces(hovertemplate=\"Month: <b>%{x}</b> <br>Percentage of delay (%): <b>%{y}</b> <br>Year: <b>%{fullData.name}</b>\", \n",
    "                                  texttemplate='<span style=\"font-size: 13px;\"><b>%{y:.2%}</b></span>',\n",
    "                                  )\n",
    "\n",
    "yoy_comparision_fig.for_each_trace(lambda t: t.update(name=\"2019\" if t.name == \"wide_variable_0\" else \"2020\"))\n",
    "\n",
    "yoy_comparision_fig.show()"
   ]
  },
  {
   "cell_type": "markdown",
   "metadata": {},
   "source": [
    " # Porównanie dzień tygodnia do dnia tygodnia (WKoWK) 2019 vs. 2020"
   ]
  },
  {
   "cell_type": "markdown",
   "metadata": {},
   "source": [
    " Wczytuję tabelę z widoku `reporting.day_to_day_comparision` dane do ramki `day_to_day_comparision_df`"
   ]
  },
  {
   "cell_type": "code",
   "execution_count": 24,
   "metadata": {},
   "outputs": [
    {
     "data": {
      "text/html": [
       "<div>\n",
       "<style scoped>\n",
       "    .dataframe tbody tr th:only-of-type {\n",
       "        vertical-align: middle;\n",
       "    }\n",
       "\n",
       "    .dataframe tbody tr th {\n",
       "        vertical-align: top;\n",
       "    }\n",
       "\n",
       "    .dataframe thead th {\n",
       "        text-align: right;\n",
       "    }\n",
       "</style>\n",
       "<table border=\"1\" class=\"dataframe\">\n",
       "  <thead>\n",
       "    <tr style=\"text-align: right;\">\n",
       "      <th></th>\n",
       "      <th>year</th>\n",
       "      <th>day_of_week</th>\n",
       "      <th>flights_amount</th>\n",
       "      <th>reliability</th>\n",
       "    </tr>\n",
       "  </thead>\n",
       "  <tbody>\n",
       "    <tr>\n",
       "      <th>0</th>\n",
       "      <td>2019</td>\n",
       "      <td>1</td>\n",
       "      <td>164325</td>\n",
       "      <td>0.201266</td>\n",
       "    </tr>\n",
       "    <tr>\n",
       "      <th>1</th>\n",
       "      <td>2019</td>\n",
       "      <td>2</td>\n",
       "      <td>162265</td>\n",
       "      <td>0.174751</td>\n",
       "    </tr>\n",
       "    <tr>\n",
       "      <th>2</th>\n",
       "      <td>2019</td>\n",
       "      <td>3</td>\n",
       "      <td>160092</td>\n",
       "      <td>0.182782</td>\n",
       "    </tr>\n",
       "    <tr>\n",
       "      <th>3</th>\n",
       "      <td>2019</td>\n",
       "      <td>4</td>\n",
       "      <td>162989</td>\n",
       "      <td>0.212168</td>\n",
       "    </tr>\n",
       "    <tr>\n",
       "      <th>4</th>\n",
       "      <td>2019</td>\n",
       "      <td>5</td>\n",
       "      <td>165283</td>\n",
       "      <td>0.203227</td>\n",
       "    </tr>\n",
       "    <tr>\n",
       "      <th>5</th>\n",
       "      <td>2019</td>\n",
       "      <td>6</td>\n",
       "      <td>127682</td>\n",
       "      <td>0.167831</td>\n",
       "    </tr>\n",
       "    <tr>\n",
       "      <th>6</th>\n",
       "      <td>2019</td>\n",
       "      <td>7</td>\n",
       "      <td>153106</td>\n",
       "      <td>0.192409</td>\n",
       "    </tr>\n",
       "    <tr>\n",
       "      <th>7</th>\n",
       "      <td>2020</td>\n",
       "      <td>1</td>\n",
       "      <td>37713</td>\n",
       "      <td>0.099250</td>\n",
       "    </tr>\n",
       "    <tr>\n",
       "      <th>8</th>\n",
       "      <td>2020</td>\n",
       "      <td>2</td>\n",
       "      <td>36396</td>\n",
       "      <td>0.088389</td>\n",
       "    </tr>\n",
       "    <tr>\n",
       "      <th>9</th>\n",
       "      <td>2020</td>\n",
       "      <td>3</td>\n",
       "      <td>37532</td>\n",
       "      <td>0.096504</td>\n",
       "    </tr>\n",
       "    <tr>\n",
       "      <th>10</th>\n",
       "      <td>2020</td>\n",
       "      <td>4</td>\n",
       "      <td>38472</td>\n",
       "      <td>0.161884</td>\n",
       "    </tr>\n",
       "    <tr>\n",
       "      <th>11</th>\n",
       "      <td>2020</td>\n",
       "      <td>5</td>\n",
       "      <td>38133</td>\n",
       "      <td>0.150788</td>\n",
       "    </tr>\n",
       "    <tr>\n",
       "      <th>12</th>\n",
       "      <td>2020</td>\n",
       "      <td>6</td>\n",
       "      <td>28415</td>\n",
       "      <td>0.117297</td>\n",
       "    </tr>\n",
       "    <tr>\n",
       "      <th>13</th>\n",
       "      <td>2020</td>\n",
       "      <td>7</td>\n",
       "      <td>34554</td>\n",
       "      <td>0.113561</td>\n",
       "    </tr>\n",
       "  </tbody>\n",
       "</table>\n",
       "</div>"
      ],
      "text/plain": [
       "    year  day_of_week  flights_amount  reliability\n",
       "0   2019            1          164325     0.201266\n",
       "1   2019            2          162265     0.174751\n",
       "2   2019            3          160092     0.182782\n",
       "3   2019            4          162989     0.212168\n",
       "4   2019            5          165283     0.203227\n",
       "5   2019            6          127682     0.167831\n",
       "6   2019            7          153106     0.192409\n",
       "7   2020            1           37713     0.099250\n",
       "8   2020            2           36396     0.088389\n",
       "9   2020            3           37532     0.096504\n",
       "10  2020            4           38472     0.161884\n",
       "11  2020            5           38133     0.150788\n",
       "12  2020            6           28415     0.117297\n",
       "13  2020            7           34554     0.113561"
      ]
     },
     "execution_count": 24,
     "metadata": {},
     "output_type": "execute_result"
    }
   ],
   "source": [
    "day_to_day_comparision_df = read_sql_table('reporting.day_to_day_comparision')\n",
    "day_to_day_comparision_df"
   ]
  },
  {
   "cell_type": "markdown",
   "metadata": {},
   "source": [
    " Przekształcam tabelkę do formy tabeli przestawnej"
   ]
  },
  {
   "cell_type": "code",
   "execution_count": 25,
   "metadata": {},
   "outputs": [
    {
     "data": {
      "text/html": [
       "<div>\n",
       "<style scoped>\n",
       "    .dataframe tbody tr th:only-of-type {\n",
       "        vertical-align: middle;\n",
       "    }\n",
       "\n",
       "    .dataframe tbody tr th {\n",
       "        vertical-align: top;\n",
       "    }\n",
       "\n",
       "    .dataframe thead tr th {\n",
       "        text-align: left;\n",
       "    }\n",
       "\n",
       "    .dataframe thead tr:last-of-type th {\n",
       "        text-align: right;\n",
       "    }\n",
       "</style>\n",
       "<table border=\"1\" class=\"dataframe\">\n",
       "  <thead>\n",
       "    <tr>\n",
       "      <th></th>\n",
       "      <th colspan=\"2\" halign=\"left\">reliability</th>\n",
       "    </tr>\n",
       "    <tr>\n",
       "      <th>year</th>\n",
       "      <th>2019</th>\n",
       "      <th>2020</th>\n",
       "    </tr>\n",
       "    <tr>\n",
       "      <th>day_of_week</th>\n",
       "      <th></th>\n",
       "      <th></th>\n",
       "    </tr>\n",
       "  </thead>\n",
       "  <tbody>\n",
       "    <tr>\n",
       "      <th>1</th>\n",
       "      <td>0.201266</td>\n",
       "      <td>0.099250</td>\n",
       "    </tr>\n",
       "    <tr>\n",
       "      <th>2</th>\n",
       "      <td>0.174751</td>\n",
       "      <td>0.088389</td>\n",
       "    </tr>\n",
       "    <tr>\n",
       "      <th>3</th>\n",
       "      <td>0.182782</td>\n",
       "      <td>0.096504</td>\n",
       "    </tr>\n",
       "    <tr>\n",
       "      <th>4</th>\n",
       "      <td>0.212168</td>\n",
       "      <td>0.161884</td>\n",
       "    </tr>\n",
       "    <tr>\n",
       "      <th>5</th>\n",
       "      <td>0.203227</td>\n",
       "      <td>0.150788</td>\n",
       "    </tr>\n",
       "    <tr>\n",
       "      <th>6</th>\n",
       "      <td>0.167831</td>\n",
       "      <td>0.117297</td>\n",
       "    </tr>\n",
       "    <tr>\n",
       "      <th>7</th>\n",
       "      <td>0.192409</td>\n",
       "      <td>0.113561</td>\n",
       "    </tr>\n",
       "  </tbody>\n",
       "</table>\n",
       "</div>"
      ],
      "text/plain": [
       "            reliability          \n",
       "year               2019      2020\n",
       "day_of_week                      \n",
       "1              0.201266  0.099250\n",
       "2              0.174751  0.088389\n",
       "3              0.182782  0.096504\n",
       "4              0.212168  0.161884\n",
       "5              0.203227  0.150788\n",
       "6              0.167831  0.117297\n",
       "7              0.192409  0.113561"
      ]
     },
     "execution_count": 25,
     "metadata": {},
     "output_type": "execute_result"
    }
   ],
   "source": [
    "day_to_day_comparision_to_plot_df = pd.pivot(   data=day_to_day_comparision_df,\n",
    "                                                index=['day_of_week'],\n",
    "                                                columns=['year'],\n",
    "                                                values=['reliability'],\n",
    "                                                )\n",
    "day_to_day_comparision_to_plot_df"
   ]
  },
  {
   "cell_type": "code",
   "execution_count": 26,
   "metadata": {},
   "outputs": [
    {
     "data": {
      "text/plain": [
       "MultiIndex([('reliability', 2019),\n",
       "            ('reliability', 2020)],\n",
       "           names=[None, 'year'])"
      ]
     },
     "execution_count": 26,
     "metadata": {},
     "output_type": "execute_result"
    }
   ],
   "source": [
    "day_to_day_comparision_to_plot_df.columns"
   ]
  },
  {
   "cell_type": "code",
   "execution_count": 27,
   "metadata": {},
   "outputs": [
    {
     "data": {
      "text/plain": [
       "[2019, 2020]"
      ]
     },
     "execution_count": 27,
     "metadata": {},
     "output_type": "execute_result"
    }
   ],
   "source": [
    "columns = [day_to_day_comparision_to_plot_df.columns[0][1], day_to_day_comparision_to_plot_df.columns[1][1]]\n",
    "columns"
   ]
  },
  {
   "cell_type": "code",
   "execution_count": 28,
   "metadata": {},
   "outputs": [
    {
     "data": {
      "text/plain": [
       "array([[0.20126578, 0.0992496 ],\n",
       "       [0.17475118, 0.08838883],\n",
       "       [0.1827824 , 0.09650432],\n",
       "       [0.21216769, 0.16188397],\n",
       "       [0.20322719, 0.15078803],\n",
       "       [0.16783102, 0.1172972 ],\n",
       "       [0.19240918, 0.11356138]])"
      ]
     },
     "execution_count": 28,
     "metadata": {},
     "output_type": "execute_result"
    }
   ],
   "source": [
    "day_to_day_comparision_to_plot_df.values"
   ]
  },
  {
   "cell_type": "code",
   "execution_count": 29,
   "metadata": {},
   "outputs": [
    {
     "data": {
      "text/plain": [
       "0.21216769229825325"
      ]
     },
     "execution_count": 29,
     "metadata": {},
     "output_type": "execute_result"
    }
   ],
   "source": [
    "max_value = np.nanmax(day_to_day_comparision_to_plot_df.values)\n",
    "max_value"
   ]
  },
  {
   "cell_type": "code",
   "execution_count": 30,
   "metadata": {},
   "outputs": [
    {
     "data": {
      "text/plain": [
       "Index([1, 2, 3, 4, 5, 6, 7], dtype='int64', name='day_of_week')"
      ]
     },
     "execution_count": 30,
     "metadata": {},
     "output_type": "execute_result"
    }
   ],
   "source": [
    "day_to_day_comparision_to_plot_df.index"
   ]
  },
  {
   "cell_type": "code",
   "execution_count": 31,
   "metadata": {},
   "outputs": [
    {
     "data": {
      "text/plain": [
       "<Axes: xlabel='day_of_week'>"
      ]
     },
     "execution_count": 31,
     "metadata": {},
     "output_type": "execute_result"
    },
    {
     "data": {
      "image/png": "[encoded data removed]",
      "text/plain": [
       "<Figure size 640x480 with 1 Axes>"
      ]
     },
     "metadata": {},
     "output_type": "display_data"
    }
   ],
   "source": [
    "day_to_day_comparision_to_plot_df.plot(kind='bar')"
   ]
  },
  {
   "cell_type": "markdown",
   "metadata": {},
   "source": [
    " Tworzę wykres słupkowy, zapisuję go do zmiennej `day_to_day_comparision_fig`."
   ]
  },
  {
   "cell_type": "code",
   "execution_count": 32,
   "metadata": {},
   "outputs": [
    {
     "name": "stderr",
     "output_type": "stream",
     "text": [
      "c:\\Users\\ktkat\\pyver\\py383\\Lib\\site-packages\\plotly\\express\\_core.py:2065: FutureWarning:\n",
      "\n",
      "When grouping with a length-1 list-like, you will need to pass a length-1 tuple to get_group in a future version of pandas. Pass `(name,)` instead of `name` to silence this warning.\n",
      "\n"
     ]
    },
    {
     "data": {
      "application/vnd.plotly.v1+json": {
       "config": {
        "plotlyServerURL": "https://plot.ly"
       },
       "data": [
        {
         "alignmentgroup": "True",
         "hovertemplate": "Day of week: <b>%{x}</b> <br>Percentage of delay (%): <b>%{y}</b> <br>Year: <b>%{fullData.name}</b>",
         "legendgroup": "wide_variable_0",
         "marker": {
          "color": "#5995ED",
          "pattern": {
           "shape": ""
          }
         },
         "name": "2019",
         "offsetgroup": "wide_variable_0",
         "orientation": "v",
         "showlegend": true,
         "textposition": "auto",
         "texttemplate": "<span style=\"font-size: 13px;\"><b>%{y:.2%}</b></span>",
         "type": "bar",
         "x": [
          1,
          2,
          3,
          4,
          5,
          6,
          7
         ],
         "xaxis": "x",
         "y": [
          0.20126578426897915,
          0.17475117862755368,
          0.18278240011993105,
          0.21216769229825325,
          0.20322719214922286,
          0.16783101768456007,
          0.19240918056771125
         ],
         "yaxis": "y"
        },
        {
         "alignmentgroup": "True",
         "hovertemplate": "Day of week: <b>%{x}</b> <br>Percentage of delay (%): <b>%{y}</b> <br>Year: <b>%{fullData.name}</b>",
         "legendgroup": "wide_variable_1",
         "marker": {
          "color": "#FF9F1C",
          "pattern": {
           "shape": ""
          }
         },
         "name": "2020",
         "offsetgroup": "wide_variable_1",
         "orientation": "v",
         "showlegend": true,
         "textposition": "auto",
         "texttemplate": "<span style=\"font-size: 13px;\"><b>%{y:.2%}</b></span>",
         "type": "bar",
         "x": [
          1,
          2,
          3,
          4,
          5,
          6,
          7
         ],
         "xaxis": "x",
         "y": [
          0.09924959563015406,
          0.08838883393779536,
          0.09650431631674304,
          0.16188396756082346,
          0.15078803136391053,
          0.11729720218194616,
          0.11356138218440702
         ],
         "yaxis": "y"
        }
       ],
       "layout": {
        "barmode": "group",
        "height": 600,
        "legend": {
         "title": {
          "text": "Year"
         },
         "tracegroupgap": 0
        },
        "plot_bgcolor": "#E4EEF1",
        "template": {
         "data": {
          "bar": [
           {
            "error_x": {
             "color": "#2a3f5f"
            },
            "error_y": {
             "color": "#2a3f5f"
            },
            "marker": {
             "line": {
              "color": "#E5ECF6",
              "width": 0.5
             },
             "pattern": {
              "fillmode": "overlay",
              "size": 10,
              "solidity": 0.2
             }
            },
            "type": "bar"
           }
          ],
          "barpolar": [
           {
            "marker": {
             "line": {
              "color": "#E5ECF6",
              "width": 0.5
             },
             "pattern": {
              "fillmode": "overlay",
              "size": 10,
              "solidity": 0.2
             }
            },
            "type": "barpolar"
           }
          ],
          "carpet": [
           {
            "aaxis": {
             "endlinecolor": "#2a3f5f",
             "gridcolor": "white",
             "linecolor": "white",
             "minorgridcolor": "white",
             "startlinecolor": "#2a3f5f"
            },
            "baxis": {
             "endlinecolor": "#2a3f5f",
             "gridcolor": "white",
             "linecolor": "white",
             "minorgridcolor": "white",
             "startlinecolor": "#2a3f5f"
            },
            "type": "carpet"
           }
          ],
          "choropleth": [
           {
            "colorbar": {
             "outlinewidth": 0,
             "ticks": ""
            },
            "type": "choropleth"
           }
          ],
          "contour": [
           {
            "colorbar": {
             "outlinewidth": 0,
             "ticks": ""
            },
            "colorscale": [
             [
              0,
              "#0d0887"
             ],
             [
              0.1111111111111111,
              "#46039f"
             ],
             [
              0.2222222222222222,
              "#7201a8"
             ],
             [
              0.3333333333333333,
              "#9c179e"
             ],
             [
              0.4444444444444444,
              "#bd3786"
             ],
             [
              0.5555555555555556,
              "#d8576b"
             ],
             [
              0.6666666666666666,
              "#ed7953"
             ],
             [
              0.7777777777777778,
              "#fb9f3a"
             ],
             [
              0.8888888888888888,
              "#fdca26"
             ],
             [
              1,
              "#f0f921"
             ]
            ],
            "type": "contour"
           }
          ],
          "contourcarpet": [
           {
            "colorbar": {
             "outlinewidth": 0,
             "ticks": ""
            },
            "type": "contourcarpet"
           }
          ],
          "heatmap": [
           {
            "colorbar": {
             "outlinewidth": 0,
             "ticks": ""
            },
            "colorscale": [
             [
              0,
              "#0d0887"
             ],
             [
              0.1111111111111111,
              "#46039f"
             ],
             [
              0.2222222222222222,
              "#7201a8"
             ],
             [
              0.3333333333333333,
              "#9c179e"
             ],
             [
              0.4444444444444444,
              "#bd3786"
             ],
             [
              0.5555555555555556,
              "#d8576b"
             ],
             [
              0.6666666666666666,
              "#ed7953"
             ],
             [
              0.7777777777777778,
              "#fb9f3a"
             ],
             [
              0.8888888888888888,
              "#fdca26"
             ],
             [
              1,
              "#f0f921"
             ]
            ],
            "type": "heatmap"
           }
          ],
          "heatmapgl": [
           {
            "colorbar": {
             "outlinewidth": 0,
             "ticks": ""
            },
            "colorscale": [
             [
              0,
              "#0d0887"
             ],
             [
              0.1111111111111111,
              "#46039f"
             ],
             [
              0.2222222222222222,
              "#7201a8"
             ],
             [
              0.3333333333333333,
              "#9c179e"
             ],
             [
              0.4444444444444444,
              "#bd3786"
             ],
             [
              0.5555555555555556,
              "#d8576b"
             ],
             [
              0.6666666666666666,
              "#ed7953"
             ],
             [
              0.7777777777777778,
              "#fb9f3a"
             ],
             [
              0.8888888888888888,
              "#fdca26"
             ],
             [
              1,
              "#f0f921"
             ]
            ],
            "type": "heatmapgl"
           }
          ],
          "histogram": [
           {
            "marker": {
             "pattern": {
              "fillmode": "overlay",
              "size": 10,
              "solidity": 0.2
             }
            },
            "type": "histogram"
           }
          ],
          "histogram2d": [
           {
            "colorbar": {
             "outlinewidth": 0,
             "ticks": ""
            },
            "colorscale": [
             [
              0,
              "#0d0887"
             ],
             [
              0.1111111111111111,
              "#46039f"
             ],
             [
              0.2222222222222222,
              "#7201a8"
             ],
             [
              0.3333333333333333,
              "#9c179e"
             ],
             [
              0.4444444444444444,
              "#bd3786"
             ],
             [
              0.5555555555555556,
              "#d8576b"
             ],
             [
              0.6666666666666666,
              "#ed7953"
             ],
             [
              0.7777777777777778,
              "#fb9f3a"
             ],
             [
              0.8888888888888888,
              "#fdca26"
             ],
             [
              1,
              "#f0f921"
             ]
            ],
            "type": "histogram2d"
           }
          ],
          "histogram2dcontour": [
           {
            "colorbar": {
             "outlinewidth": 0,
             "ticks": ""
            },
            "colorscale": [
             [
              0,
              "#0d0887"
             ],
             [
              0.1111111111111111,
              "#46039f"
             ],
             [
              0.2222222222222222,
              "#7201a8"
             ],
             [
              0.3333333333333333,
              "#9c179e"
             ],
             [
              0.4444444444444444,
              "#bd3786"
             ],
             [
              0.5555555555555556,
              "#d8576b"
             ],
             [
              0.6666666666666666,
              "#ed7953"
             ],
             [
              0.7777777777777778,
              "#fb9f3a"
             ],
             [
              0.8888888888888888,
              "#fdca26"
             ],
             [
              1,
              "#f0f921"
             ]
            ],
            "type": "histogram2dcontour"
           }
          ],
          "mesh3d": [
           {
            "colorbar": {
             "outlinewidth": 0,
             "ticks": ""
            },
            "type": "mesh3d"
           }
          ],
          "parcoords": [
           {
            "line": {
             "colorbar": {
              "outlinewidth": 0,
              "ticks": ""
             }
            },
            "type": "parcoords"
           }
          ],
          "pie": [
           {
            "automargin": true,
            "type": "pie"
           }
          ],
          "scatter": [
           {
            "fillpattern": {
             "fillmode": "overlay",
             "size": 10,
             "solidity": 0.2
            },
            "type": "scatter"
           }
          ],
          "scatter3d": [
           {
            "line": {
             "colorbar": {
              "outlinewidth": 0,
              "ticks": ""
             }
            },
            "marker": {
             "colorbar": {
              "outlinewidth": 0,
              "ticks": ""
             }
            },
            "type": "scatter3d"
           }
          ],
          "scattercarpet": [
           {
            "marker": {
             "colorbar": {
              "outlinewidth": 0,
              "ticks": ""
             }
            },
            "type": "scattercarpet"
           }
          ],
          "scattergeo": [
           {
            "marker": {
             "colorbar": {
              "outlinewidth": 0,
              "ticks": ""
             }
            },
            "type": "scattergeo"
           }
          ],
          "scattergl": [
           {
            "marker": {
             "colorbar": {
              "outlinewidth": 0,
              "ticks": ""
             }
            },
            "type": "scattergl"
           }
          ],
          "scattermapbox": [
           {
            "marker": {
             "colorbar": {
              "outlinewidth": 0,
              "ticks": ""
             }
            },
            "type": "scattermapbox"
           }
          ],
          "scatterpolar": [
           {
            "marker": {
             "colorbar": {
              "outlinewidth": 0,
              "ticks": ""
             }
            },
            "type": "scatterpolar"
           }
          ],
          "scatterpolargl": [
           {
            "marker": {
             "colorbar": {
              "outlinewidth": 0,
              "ticks": ""
             }
            },
            "type": "scatterpolargl"
           }
          ],
          "scatterternary": [
           {
            "marker": {
             "colorbar": {
              "outlinewidth": 0,
              "ticks": ""
             }
            },
            "type": "scatterternary"
           }
          ],
          "surface": [
           {
            "colorbar": {
             "outlinewidth": 0,
             "ticks": ""
            },
            "colorscale": [
             [
              0,
              "#0d0887"
             ],
             [
              0.1111111111111111,
              "#46039f"
             ],
             [
              0.2222222222222222,
              "#7201a8"
             ],
             [
              0.3333333333333333,
              "#9c179e"
             ],
             [
              0.4444444444444444,
              "#bd3786"
             ],
             [
              0.5555555555555556,
              "#d8576b"
             ],
             [
              0.6666666666666666,
              "#ed7953"
             ],
             [
              0.7777777777777778,
              "#fb9f3a"
             ],
             [
              0.8888888888888888,
              "#fdca26"
             ],
             [
              1,
              "#f0f921"
             ]
            ],
            "type": "surface"
           }
          ],
          "table": [
           {
            "cells": {
             "fill": {
              "color": "#EBF0F8"
             },
             "line": {
              "color": "white"
             }
            },
            "header": {
             "fill": {
              "color": "#C8D4E3"
             },
             "line": {
              "color": "white"
             }
            },
            "type": "table"
           }
          ]
         },
         "layout": {
          "annotationdefaults": {
           "arrowcolor": "#2a3f5f",
           "arrowhead": 0,
           "arrowwidth": 1
          },
          "autotypenumbers": "strict",
          "coloraxis": {
           "colorbar": {
            "outlinewidth": 0,
            "ticks": ""
           }
          },
          "colorscale": {
           "diverging": [
            [
             0,
             "#8e0152"
            ],
            [
             0.1,
             "#c51b7d"
            ],
            [
             0.2,
             "#de77ae"
            ],
            [
             0.3,
             "#f1b6da"
            ],
            [
             0.4,
             "#fde0ef"
            ],
            [
             0.5,
             "#f7f7f7"
            ],
            [
             0.6,
             "#e6f5d0"
            ],
            [
             0.7,
             "#b8e186"
            ],
            [
             0.8,
             "#7fbc41"
            ],
            [
             0.9,
             "#4d9221"
            ],
            [
             1,
             "#276419"
            ]
           ],
           "sequential": [
            [
             0,
             "#0d0887"
            ],
            [
             0.1111111111111111,
             "#46039f"
            ],
            [
             0.2222222222222222,
             "#7201a8"
            ],
            [
             0.3333333333333333,
             "#9c179e"
            ],
            [
             0.4444444444444444,
             "#bd3786"
            ],
            [
             0.5555555555555556,
             "#d8576b"
            ],
            [
             0.6666666666666666,
             "#ed7953"
            ],
            [
             0.7777777777777778,
             "#fb9f3a"
            ],
            [
             0.8888888888888888,
             "#fdca26"
            ],
            [
             1,
             "#f0f921"
            ]
           ],
           "sequentialminus": [
            [
             0,
             "#0d0887"
            ],
            [
             0.1111111111111111,
             "#46039f"
            ],
            [
             0.2222222222222222,
             "#7201a8"
            ],
            [
             0.3333333333333333,
             "#9c179e"
            ],
            [
             0.4444444444444444,
             "#bd3786"
            ],
            [
             0.5555555555555556,
             "#d8576b"
            ],
            [
             0.6666666666666666,
             "#ed7953"
            ],
            [
             0.7777777777777778,
             "#fb9f3a"
            ],
            [
             0.8888888888888888,
             "#fdca26"
            ],
            [
             1,
             "#f0f921"
            ]
           ]
          },
          "colorway": [
           "#636efa",
           "#EF553B",
           "#00cc96",
           "#ab63fa",
           "#FFA15A",
           "#19d3f3",
           "#FF6692",
           "#B6E880",
           "#FF97FF",
           "#FECB52"
          ],
          "font": {
           "color": "#2a3f5f"
          },
          "geo": {
           "bgcolor": "white",
           "lakecolor": "white",
           "landcolor": "#E5ECF6",
           "showlakes": true,
           "showland": true,
           "subunitcolor": "white"
          },
          "hoverlabel": {
           "align": "left"
          },
          "hovermode": "closest",
          "mapbox": {
           "style": "light"
          },
          "paper_bgcolor": "white",
          "plot_bgcolor": "#E5ECF6",
          "polar": {
           "angularaxis": {
            "gridcolor": "white",
            "linecolor": "white",
            "ticks": ""
           },
           "bgcolor": "#E5ECF6",
           "radialaxis": {
            "gridcolor": "white",
            "linecolor": "white",
            "ticks": ""
           }
          },
          "scene": {
           "xaxis": {
            "backgroundcolor": "#E5ECF6",
            "gridcolor": "white",
            "gridwidth": 2,
            "linecolor": "white",
            "showbackground": true,
            "ticks": "",
            "zerolinecolor": "white"
           },
           "yaxis": {
            "backgroundcolor": "#E5ECF6",
            "gridcolor": "white",
            "gridwidth": 2,
            "linecolor": "white",
            "showbackground": true,
            "ticks": "",
            "zerolinecolor": "white"
           },
           "zaxis": {
            "backgroundcolor": "#E5ECF6",
            "gridcolor": "white",
            "gridwidth": 2,
            "linecolor": "white",
            "showbackground": true,
            "ticks": "",
            "zerolinecolor": "white"
           }
          },
          "shapedefaults": {
           "line": {
            "color": "#2a3f5f"
           }
          },
          "ternary": {
           "aaxis": {
            "gridcolor": "white",
            "linecolor": "white",
            "ticks": ""
           },
           "baxis": {
            "gridcolor": "white",
            "linecolor": "white",
            "ticks": ""
           },
           "bgcolor": "#E5ECF6",
           "caxis": {
            "gridcolor": "white",
            "linecolor": "white",
            "ticks": ""
           }
          },
          "title": {
           "x": 0.05
          },
          "xaxis": {
           "automargin": true,
           "gridcolor": "white",
           "linecolor": "white",
           "ticks": "",
           "title": {
            "standoff": 15
           },
           "zerolinecolor": "white",
           "zerolinewidth": 2
          },
          "yaxis": {
           "automargin": true,
           "gridcolor": "white",
           "linecolor": "white",
           "ticks": "",
           "title": {
            "standoff": 15
           },
           "zerolinecolor": "white",
           "zerolinewidth": 2
          }
         }
        },
        "title": {
         "font": {
          "size": 24
         },
         "text": "<b>Comparison of Reliability between 2019 and 2020 by Day of week"
        },
        "width": 1400,
        "xaxis": {
         "anchor": "y",
         "domain": [
          0,
          1
         ],
         "tickfont": {
          "size": 14
         },
         "ticklen": 2,
         "ticks": "outside",
         "tickson": "boundaries",
         "ticktext": [
          "Monday",
          "Tuesday",
          "Wednesday",
          "Thursday",
          "Friday",
          "Saturday",
          "Sunday"
         ],
         "tickvals": [
          1,
          2,
          3,
          4,
          5,
          6,
          7
         ],
         "tickwidth": 135,
         "title": {
          "font": {
           "size": 14
          },
          "text": "<b>Day of week"
         }
        },
        "yaxis": {
         "anchor": "x",
         "domain": [
          0,
          1
         ],
         "range": [
          0,
          0.26216769229825326
         ],
         "tickcolor": "white",
         "tickfont": {
          "size": 14
         },
         "tickformat": ".0%",
         "ticklen": 15,
         "ticks": "outside",
         "tickson": "boundaries",
         "tickwidth": 1,
         "title": {
          "font": {
           "size": 14
          },
          "text": "<br><b>Percentage of delays (%)"
         }
        }
       }
      }
     },
     "metadata": {},
     "output_type": "display_data"
    }
   ],
   "source": [
    "day_to_day_comparision_fig = px.bar(    day_to_day_comparision_to_plot_df, \n",
    "                                        x=day_to_day_comparision_to_plot_df.index,\n",
    "                                        y=[[day_to_day_comparision_to_plot_df.values[i][0] for i in range(0,7)], [day_to_day_comparision_to_plot_df.values[i][1] for i in range(0,7)]],\n",
    "                                        barmode='group',\n",
    "                                        height=600, \n",
    "                                        width=1400,\n",
    "                                        title='<b>Comparison of Reliability between 2019 and 2020 by Day of week',\n",
    "                                        text_auto=True,\n",
    "                                        color_discrete_map={'wide_variable_0': '#5995ED', 'wide_variable_1': '#FF9F1C'},\n",
    "                                        )\n",
    "\n",
    "day_of_week = ['Monday', 'Tuesday', 'Wednesday', 'Thursday', 'Friday', 'Saturday', 'Sunday']\n",
    "\n",
    "day_to_day_comparision_fig.update_layout(xaxis = dict(  \n",
    "                                                        title='<b>Day of week',\n",
    "                                                        titlefont=dict(size=14),\n",
    "                                                        tickvals = [i for i in range(1,8)],\n",
    "                                                        ticktext = day_of_week,\n",
    "                                                        tickson=\"boundaries\",\n",
    "                                                        ticks=\"outside\",\n",
    "                                                        ticklen=2,\n",
    "                                                        tickwidth=135,\n",
    "                                                        tickfont=dict(size=14),\n",
    "                                                        ),\n",
    "                                         yaxis = dict(\n",
    "                                                        title='<br><b>Percentage of delays (%)',\n",
    "                                                        titlefont=dict(size=14),\n",
    "                                                        range=[0, max_value+0.05], \n",
    "                                                        tickformat=\".0%\",\n",
    "                                                        tickson=\"boundaries\",\n",
    "                                                        ticks=\"outside\",\n",
    "                                                        ticklen=15,  \n",
    "                                                        tickwidth=1,\n",
    "                                                        tickcolor='white',\n",
    "                                                        tickfont=dict(size=14),\n",
    "                                                        ),\n",
    "                                         legend_title=\"Year\",\n",
    "                                         titlefont=dict(size=24),\n",
    "                                         plot_bgcolor=\"#E4EEF1\"\n",
    "                                        )\n",
    "day_to_day_comparision_fig.update_traces(hovertemplate=\"Day of week: <b>%{x}</b> <br>Percentage of delay (%): <b>%{y}</b> <br>Year: <b>%{fullData.name}</b>\",\n",
    "                                        texttemplate='<span style=\"font-size: 13px;\"><b>%{y:.2%}</b></span>',\n",
    "                                        )\n",
    "\n",
    "day_to_day_comparision_fig.for_each_trace(lambda t: t.update(name=\"2019\" if t.name == \"wide_variable_0\" else \"2020\"))\n",
    "\n",
    "day_to_day_comparision_fig.show()"
   ]
  },
  {
   "cell_type": "markdown",
   "metadata": {},
   "source": [
    " # Stworzenie szeregu czasowego\n",
    " Tworzę wykres w formie szeregu czasowego, który zostanie umieszcony w raporcie. Wykres będzie przedstawiać dane w formie szeregu czasowego (dzień po dniu) dla lat 2019 oraz 2020. Dla możliwości identyfikacji poszczególnych lat, nadam inny koloru dla roku 2019 oraz 2020."
   ]
  },
  {
   "cell_type": "markdown",
   "metadata": {},
   "source": [
    " Wczytuję tabelę z widoku `reporting.day_by_day_reliability` dane do ramki `day_by_day_reliability_df`."
   ]
  },
  {
   "cell_type": "code",
   "execution_count": 33,
   "metadata": {},
   "outputs": [
    {
     "data": {
      "text/html": [
       "<div>\n",
       "<style scoped>\n",
       "    .dataframe tbody tr th:only-of-type {\n",
       "        vertical-align: middle;\n",
       "    }\n",
       "\n",
       "    .dataframe tbody tr th {\n",
       "        vertical-align: top;\n",
       "    }\n",
       "\n",
       "    .dataframe thead th {\n",
       "        text-align: right;\n",
       "    }\n",
       "</style>\n",
       "<table border=\"1\" class=\"dataframe\">\n",
       "  <thead>\n",
       "    <tr style=\"text-align: right;\">\n",
       "      <th></th>\n",
       "      <th>date</th>\n",
       "      <th>reliability</th>\n",
       "    </tr>\n",
       "  </thead>\n",
       "  <tbody>\n",
       "    <tr>\n",
       "      <th>0</th>\n",
       "      <td>2019-01-01</td>\n",
       "      <td>0.186556</td>\n",
       "    </tr>\n",
       "    <tr>\n",
       "      <th>1</th>\n",
       "      <td>2019-01-02</td>\n",
       "      <td>0.215106</td>\n",
       "    </tr>\n",
       "    <tr>\n",
       "      <th>2</th>\n",
       "      <td>2019-01-03</td>\n",
       "      <td>0.145952</td>\n",
       "    </tr>\n",
       "    <tr>\n",
       "      <th>3</th>\n",
       "      <td>2019-01-04</td>\n",
       "      <td>0.114245</td>\n",
       "    </tr>\n",
       "    <tr>\n",
       "      <th>4</th>\n",
       "      <td>2019-01-05</td>\n",
       "      <td>0.188235</td>\n",
       "    </tr>\n",
       "  </tbody>\n",
       "</table>\n",
       "</div>"
      ],
      "text/plain": [
       "         date  reliability\n",
       "0  2019-01-01     0.186556\n",
       "1  2019-01-02     0.215106\n",
       "2  2019-01-03     0.145952\n",
       "3  2019-01-04     0.114245\n",
       "4  2019-01-05     0.188235"
      ]
     },
     "execution_count": 33,
     "metadata": {},
     "output_type": "execute_result"
    }
   ],
   "source": [
    "day_by_day_reliability_df = read_sql_table('reporting.day_by_day_reliability')\n",
    "day_by_day_reliability_df.head()"
   ]
  },
  {
   "cell_type": "code",
   "execution_count": 34,
   "metadata": {},
   "outputs": [],
   "source": [
    "day_by_day_reliability_df['date'] = pd.to_datetime(day_by_day_reliability_df['date'])"
   ]
  },
  {
   "cell_type": "markdown",
   "metadata": {},
   "source": [
    " Tworzę wykres liniowy na podstawie pobranych danych. Wynik zapisuję do zmiennej `day_by_day_reliability_fig`."
   ]
  },
  {
   "cell_type": "code",
   "execution_count": 35,
   "metadata": {},
   "outputs": [
    {
     "data": {
      "text/plain": [
       "DatetimeIndex(['2019-01-01', '2019-02-01', '2019-03-01', '2019-04-01',\n",
       "               '2019-05-01', '2019-06-01', '2019-07-01', '2019-08-01',\n",
       "               '2019-09-01', '2019-10-01', '2019-11-01', '2019-12-01',\n",
       "               '2020-01-01', '2020-02-01', '2020-03-01', '2020-04-01'],\n",
       "              dtype='datetime64[ns]', freq='MS')"
      ]
     },
     "execution_count": 35,
     "metadata": {},
     "output_type": "execute_result"
    }
   ],
   "source": [
    "first_day_of_month_list = pd.date_range(start=day_by_day_reliability_df['date'].min(), \n",
    "                                        end=day_by_day_reliability_df['date'].max() + pd.DateOffset(months=1), # równie dobrze może być + relativedelta(months =+ 1),\n",
    "                                        freq='MS')\n",
    "first_day_of_month_list"
   ]
  },
  {
   "cell_type": "code",
   "execution_count": 36,
   "metadata": {},
   "outputs": [
    {
     "data": {
      "text/plain": [
       "[1, 2, 3, 4, 5, 6, 7, 8, 9, 10, 11, 12, 13, 14, 15, 16]"
      ]
     },
     "execution_count": 36,
     "metadata": {},
     "output_type": "execute_result"
    }
   ],
   "source": [
    "[i for i in range(1, len(first_day_of_month_list) + 1)]"
   ]
  },
  {
   "cell_type": "code",
   "execution_count": 37,
   "metadata": {},
   "outputs": [
    {
     "name": "stderr",
     "output_type": "stream",
     "text": [
      "c:\\Users\\ktkat\\pyver\\py383\\Lib\\site-packages\\plotly\\express\\_core.py:2065: FutureWarning:\n",
      "\n",
      "When grouping with a length-1 list-like, you will need to pass a length-1 tuple to get_group in a future version of pandas. Pass `(name,)` instead of `name` to silence this warning.\n",
      "\n"
     ]
    },
    {
     "data": {
      "application/vnd.plotly.v1+json": {
       "config": {
        "plotlyServerURL": "https://plot.ly"
       },
       "data": [
        {
         "hovertemplate": "Date: <b>%{x}</b> <br>Percentage of delays (%): <b>%{y:.2%}</b>",
         "legendgroup": "2019",
         "line": {
          "color": "#5995ED",
          "dash": "solid"
         },
         "marker": {
          "symbol": "circle"
         },
         "mode": "lines",
         "name": "2019",
         "orientation": "v",
         "showlegend": true,
         "type": "scatter",
         "x": [
          "2019-01-01T00:00:00",
          "2019-01-02T00:00:00",
          "2019-01-03T00:00:00",
          "2019-01-04T00:00:00",
          "2019-01-05T00:00:00",
          "2019-01-06T00:00:00",
          "2019-01-07T00:00:00",
          "2019-01-08T00:00:00",
          "2019-01-09T00:00:00",
          "2019-01-10T00:00:00",
          "2019-01-11T00:00:00",
          "2019-01-12T00:00:00",
          "2019-01-13T00:00:00",
          "2019-01-14T00:00:00",
          "2019-01-15T00:00:00",
          "2019-01-16T00:00:00",
          "2019-01-17T00:00:00",
          "2019-01-18T00:00:00",
          "2019-01-19T00:00:00",
          "2019-01-20T00:00:00",
          "2019-01-21T00:00:00",
          "2019-01-22T00:00:00",
          "2019-01-23T00:00:00",
          "2019-01-24T00:00:00",
          "2019-01-25T00:00:00",
          "2019-01-26T00:00:00",
          "2019-01-27T00:00:00",
          "2019-01-28T00:00:00",
          "2019-01-29T00:00:00",
          "2019-01-30T00:00:00",
          "2019-01-31T00:00:00",
          "2019-02-01T00:00:00",
          "2019-02-02T00:00:00",
          "2019-02-03T00:00:00",
          "2019-02-04T00:00:00",
          "2019-02-05T00:00:00",
          "2019-02-06T00:00:00",
          "2019-02-07T00:00:00",
          "2019-02-08T00:00:00",
          "2019-02-09T00:00:00",
          "2019-02-10T00:00:00",
          "2019-02-11T00:00:00",
          "2019-02-12T00:00:00",
          "2019-02-13T00:00:00",
          "2019-02-14T00:00:00",
          "2019-02-15T00:00:00",
          "2019-02-16T00:00:00",
          "2019-02-17T00:00:00",
          "2019-02-18T00:00:00",
          "2019-02-19T00:00:00",
          "2019-02-20T00:00:00",
          "2019-02-21T00:00:00",
          "2019-02-22T00:00:00",
          "2019-02-23T00:00:00",
          "2019-02-24T00:00:00",
          "2019-02-25T00:00:00",
          "2019-02-26T00:00:00",
          "2019-02-27T00:00:00",
          "2019-02-28T00:00:00",
          "2019-03-01T00:00:00",
          "2019-03-02T00:00:00",
          "2019-03-03T00:00:00",
          "2019-03-04T00:00:00",
          "2019-03-05T00:00:00",
          "2019-03-06T00:00:00",
          "2019-03-07T00:00:00",
          "2019-03-08T00:00:00",
          "2019-03-09T00:00:00",
          "2019-03-10T00:00:00",
          "2019-03-11T00:00:00",
          "2019-03-12T00:00:00",
          "2019-03-13T00:00:00",
          "2019-03-14T00:00:00",
          "2019-03-15T00:00:00",
          "2019-03-16T00:00:00",
          "2019-03-17T00:00:00",
          "2019-03-18T00:00:00",
          "2019-03-19T00:00:00",
          "2019-03-20T00:00:00",
          "2019-03-21T00:00:00",
          "2019-03-22T00:00:00",
          "2019-03-23T00:00:00",
          "2019-03-24T00:00:00",
          "2019-03-25T00:00:00",
          "2019-03-26T00:00:00",
          "2019-03-27T00:00:00",
          "2019-03-28T00:00:00",
          "2019-03-29T00:00:00",
          "2019-03-30T00:00:00",
          "2019-03-31T00:00:00",
          "2019-04-01T00:00:00",
          "2019-04-02T00:00:00",
          "2019-04-03T00:00:00",
          "2019-04-04T00:00:00",
          "2019-04-05T00:00:00",
          "2019-04-06T00:00:00",
          "2019-04-07T00:00:00",
          "2019-04-08T00:00:00",
          "2019-04-09T00:00:00",
          "2019-04-10T00:00:00",
          "2019-04-11T00:00:00",
          "2019-04-12T00:00:00",
          "2019-04-13T00:00:00",
          "2019-04-14T00:00:00",
          "2019-04-15T00:00:00",
          "2019-04-16T00:00:00",
          "2019-04-17T00:00:00",
          "2019-04-18T00:00:00",
          "2019-04-19T00:00:00",
          "2019-04-20T00:00:00",
          "2019-04-21T00:00:00",
          "2019-04-22T00:00:00",
          "2019-04-23T00:00:00",
          "2019-04-24T00:00:00",
          "2019-04-25T00:00:00",
          "2019-04-26T00:00:00",
          "2019-04-27T00:00:00",
          "2019-04-28T00:00:00",
          "2019-04-29T00:00:00",
          "2019-04-30T00:00:00",
          "2019-05-01T00:00:00",
          "2019-05-02T00:00:00",
          "2019-05-03T00:00:00",
          "2019-05-04T00:00:00",
          "2019-05-05T00:00:00",
          "2019-05-06T00:00:00",
          "2019-05-07T00:00:00",
          "2019-05-08T00:00:00",
          "2019-05-09T00:00:00",
          "2019-05-10T00:00:00",
          "2019-05-11T00:00:00",
          "2019-05-12T00:00:00",
          "2019-05-13T00:00:00",
          "2019-05-14T00:00:00",
          "2019-05-15T00:00:00",
          "2019-05-16T00:00:00",
          "2019-05-17T00:00:00",
          "2019-05-18T00:00:00",
          "2019-05-19T00:00:00",
          "2019-05-20T00:00:00",
          "2019-05-21T00:00:00",
          "2019-05-22T00:00:00",
          "2019-05-23T00:00:00",
          "2019-05-24T00:00:00",
          "2019-05-25T00:00:00",
          "2019-05-26T00:00:00",
          "2019-05-27T00:00:00",
          "2019-05-28T00:00:00",
          "2019-05-29T00:00:00",
          "2019-05-30T00:00:00",
          "2019-05-31T00:00:00",
          "2019-06-01T00:00:00",
          "2019-06-02T00:00:00",
          "2019-06-03T00:00:00",
          "2019-06-04T00:00:00",
          "2019-06-05T00:00:00",
          "2019-06-06T00:00:00",
          "2019-06-07T00:00:00",
          "2019-06-08T00:00:00",
          "2019-06-09T00:00:00",
          "2019-06-10T00:00:00",
          "2019-06-11T00:00:00",
          "2019-06-12T00:00:00",
          "2019-06-13T00:00:00",
          "2019-06-14T00:00:00",
          "2019-06-15T00:00:00",
          "2019-06-16T00:00:00",
          "2019-06-17T00:00:00",
          "2019-06-18T00:00:00",
          "2019-06-19T00:00:00",
          "2019-06-20T00:00:00",
          "2019-06-21T00:00:00",
          "2019-06-22T00:00:00",
          "2019-06-23T00:00:00",
          "2019-06-24T00:00:00",
          "2019-06-25T00:00:00",
          "2019-06-26T00:00:00",
          "2019-06-27T00:00:00",
          "2019-06-28T00:00:00",
          "2019-06-29T00:00:00",
          "2019-06-30T00:00:00",
          "2019-07-01T00:00:00",
          "2019-07-02T00:00:00",
          "2019-07-03T00:00:00",
          "2019-07-04T00:00:00",
          "2019-07-05T00:00:00",
          "2019-07-06T00:00:00",
          "2019-07-07T00:00:00",
          "2019-07-08T00:00:00",
          "2019-07-09T00:00:00",
          "2019-07-10T00:00:00",
          "2019-07-11T00:00:00",
          "2019-07-12T00:00:00",
          "2019-07-13T00:00:00",
          "2019-07-14T00:00:00",
          "2019-07-15T00:00:00",
          "2019-07-16T00:00:00",
          "2019-07-17T00:00:00",
          "2019-07-18T00:00:00",
          "2019-07-19T00:00:00",
          "2019-07-20T00:00:00",
          "2019-07-21T00:00:00",
          "2019-07-22T00:00:00",
          "2019-07-23T00:00:00",
          "2019-07-24T00:00:00",
          "2019-07-25T00:00:00",
          "2019-07-26T00:00:00",
          "2019-07-27T00:00:00",
          "2019-07-28T00:00:00",
          "2019-07-29T00:00:00",
          "2019-07-30T00:00:00",
          "2019-07-31T00:00:00",
          "2019-08-01T00:00:00",
          "2019-08-02T00:00:00",
          "2019-08-03T00:00:00",
          "2019-08-04T00:00:00",
          "2019-08-05T00:00:00",
          "2019-08-06T00:00:00",
          "2019-08-07T00:00:00",
          "2019-08-08T00:00:00",
          "2019-08-09T00:00:00",
          "2019-08-10T00:00:00",
          "2019-08-11T00:00:00",
          "2019-08-12T00:00:00",
          "2019-08-13T00:00:00",
          "2019-08-14T00:00:00",
          "2019-08-15T00:00:00",
          "2019-08-16T00:00:00",
          "2019-08-17T00:00:00",
          "2019-08-18T00:00:00",
          "2019-08-19T00:00:00",
          "2019-08-20T00:00:00",
          "2019-08-21T00:00:00",
          "2019-08-22T00:00:00",
          "2019-08-23T00:00:00",
          "2019-08-24T00:00:00",
          "2019-08-25T00:00:00",
          "2019-08-26T00:00:00",
          "2019-08-27T00:00:00",
          "2019-08-28T00:00:00",
          "2019-08-29T00:00:00",
          "2019-08-30T00:00:00",
          "2019-08-31T00:00:00",
          "2019-09-01T00:00:00",
          "2019-09-02T00:00:00",
          "2019-09-03T00:00:00",
          "2019-09-04T00:00:00",
          "2019-09-05T00:00:00",
          "2019-09-06T00:00:00",
          "2019-09-07T00:00:00",
          "2019-09-08T00:00:00",
          "2019-09-09T00:00:00",
          "2019-09-10T00:00:00",
          "2019-09-11T00:00:00",
          "2019-09-12T00:00:00",
          "2019-09-13T00:00:00",
          "2019-09-14T00:00:00",
          "2019-09-15T00:00:00",
          "2019-09-16T00:00:00",
          "2019-09-17T00:00:00",
          "2019-09-18T00:00:00",
          "2019-09-19T00:00:00",
          "2019-09-20T00:00:00",
          "2019-09-21T00:00:00",
          "2019-09-22T00:00:00",
          "2019-09-23T00:00:00",
          "2019-09-24T00:00:00",
          "2019-09-25T00:00:00",
          "2019-09-26T00:00:00",
          "2019-09-27T00:00:00",
          "2019-09-28T00:00:00",
          "2019-09-29T00:00:00",
          "2019-09-30T00:00:00",
          "2019-10-01T00:00:00",
          "2019-10-02T00:00:00",
          "2019-10-03T00:00:00",
          "2019-10-04T00:00:00",
          "2019-10-05T00:00:00",
          "2019-10-06T00:00:00",
          "2019-10-07T00:00:00",
          "2019-10-08T00:00:00",
          "2019-10-09T00:00:00",
          "2019-10-10T00:00:00",
          "2019-10-11T00:00:00",
          "2019-10-12T00:00:00",
          "2019-10-13T00:00:00",
          "2019-10-14T00:00:00",
          "2019-10-15T00:00:00",
          "2019-10-16T00:00:00",
          "2019-10-17T00:00:00",
          "2019-10-18T00:00:00",
          "2019-10-19T00:00:00",
          "2019-10-20T00:00:00",
          "2019-10-21T00:00:00",
          "2019-10-22T00:00:00",
          "2019-10-23T00:00:00",
          "2019-10-24T00:00:00",
          "2019-10-25T00:00:00",
          "2019-10-26T00:00:00",
          "2019-10-27T00:00:00",
          "2019-10-28T00:00:00",
          "2019-10-29T00:00:00",
          "2019-10-30T00:00:00",
          "2019-10-31T00:00:00",
          "2019-11-01T00:00:00",
          "2019-11-02T00:00:00",
          "2019-11-03T00:00:00",
          "2019-11-04T00:00:00",
          "2019-11-05T00:00:00",
          "2019-11-06T00:00:00",
          "2019-11-07T00:00:00",
          "2019-11-08T00:00:00",
          "2019-11-09T00:00:00",
          "2019-11-10T00:00:00",
          "2019-11-11T00:00:00",
          "2019-11-12T00:00:00",
          "2019-11-13T00:00:00",
          "2019-11-14T00:00:00",
          "2019-11-15T00:00:00",
          "2019-11-16T00:00:00",
          "2019-11-17T00:00:00",
          "2019-11-18T00:00:00",
          "2019-11-19T00:00:00",
          "2019-11-20T00:00:00",
          "2019-11-21T00:00:00",
          "2019-11-22T00:00:00",
          "2019-11-23T00:00:00",
          "2019-11-24T00:00:00",
          "2019-11-25T00:00:00",
          "2019-11-26T00:00:00",
          "2019-11-27T00:00:00",
          "2019-11-28T00:00:00",
          "2019-11-29T00:00:00",
          "2019-11-30T00:00:00",
          "2019-12-01T00:00:00",
          "2019-12-02T00:00:00",
          "2019-12-03T00:00:00",
          "2019-12-04T00:00:00",
          "2019-12-05T00:00:00",
          "2019-12-06T00:00:00",
          "2019-12-07T00:00:00",
          "2019-12-08T00:00:00",
          "2019-12-09T00:00:00",
          "2019-12-10T00:00:00",
          "2019-12-11T00:00:00",
          "2019-12-12T00:00:00",
          "2019-12-13T00:00:00",
          "2019-12-14T00:00:00",
          "2019-12-15T00:00:00",
          "2019-12-16T00:00:00",
          "2019-12-17T00:00:00",
          "2019-12-18T00:00:00",
          "2019-12-19T00:00:00",
          "2019-12-20T00:00:00",
          "2019-12-21T00:00:00",
          "2019-12-22T00:00:00",
          "2019-12-23T00:00:00",
          "2019-12-24T00:00:00",
          "2019-12-25T00:00:00",
          "2019-12-26T00:00:00",
          "2019-12-27T00:00:00",
          "2019-12-28T00:00:00",
          "2019-12-29T00:00:00",
          "2019-12-30T00:00:00",
          "2019-12-31T00:00:00"
         ],
         "xaxis": "x",
         "y": [
          0.1865558912386707,
          0.21510616080751827,
          0.14595170454545456,
          0.11424541607898449,
          0.18823529411764706,
          0.23228346456692914,
          0.14838709677419354,
          0.11051394020826336,
          0.1157190635451505,
          0.18670988654781198,
          0.14979239859469817,
          0.11130978989718372,
          0.13517495395948434,
          0.1620039037085231,
          0.1613121406831248,
          0.1436820652173913,
          0.20810372771474878,
          0.20272904483430798,
          0.1956411556006082,
          0.1695364238410596,
          0.27123383432366305,
          0.26593406593406593,
          0.26791171477079795,
          0.30056087099967005,
          0.21900161030595813,
          0.1069182389937107,
          0.13719841555635579,
          0.19923237962316817,
          0.11434584356366187,
          0.18528301886792453,
          0.224345364472753,
          0.2288605941887039,
          0.1625230202578269,
          0.10792778649921507,
          0.18187681393099,
          0.12151123213070116,
          0.15136226034308778,
          0.1825267944137707,
          0.2278933680104031,
          0.1624087591240876,
          0.23384168482207698,
          0.23417721518987342,
          0.310500564546481,
          0.24095139607032057,
          0.24607329842931938,
          0.22874558870709016,
          0.14455707360070516,
          0.22842438638163104,
          0.2623599208965063,
          0.21514342895263508,
          0.36196535878402264,
          0.2812604760308414,
          0.2581477896095515,
          0.1878814298169137,
          0.20545518951470068,
          0.29823978744603125,
          0.1914822266934943,
          0.16950306330837303,
          0.2378186511777993,
          0.2616973217166828,
          0.27086007702182285,
          0.27018299246501615,
          0.24455040871934605,
          0.16266841932303647,
          0.1788750817527796,
          0.18062659846547316,
          0.19281663516068054,
          0.29034941763727123,
          0.2938970337538357,
          0.12858493539237315,
          0.1348314606741573,
          0.152753108348135,
          0.2759526938239159,
          0.24820256330103158,
          0.14011437908496732,
          0.10928043039677203,
          0.08743686868686869,
          0.08805438653285853,
          0.13389391979301424,
          0.15698041692987996,
          0.24147727272727273,
          0.12090163934426229,
          0.13115306810519217,
          0.17546090273363002,
          0.11989630589760207,
          0.14933592484612893,
          0.13783269961977188,
          0.1430817610062893,
          0.11503697617091208,
          0.15081521739130435,
          0.2720379146919431,
          0.08887447291599092,
          0.1308562197092084,
          0.15840959293152415,
          0.15515610217596973,
          0.12992943129929432,
          0.175809199318569,
          0.18554749132218365,
          0.1812600969305331,
          0.14496149983260798,
          0.18661971830985916,
          0.23864704040087692,
          0.15950659293917482,
          0.39486416077409753,
          0.30129032258064514,
          0.12153449387491941,
          0.09645988957453719,
          0.20717884130982367,
          0.3368877040986338,
          0.2025531914893617,
          0.12947658402203857,
          0.18830556428795975,
          0.11444229529335913,
          0.11760925449871465,
          0.09490886235072282,
          0.25617685305591675,
          0.14846416382252559,
          0.1449763991908294,
          0.23628290516967967,
          0.18823915900131405,
          0.12938525909237206,
          0.2710368736211787,
          0.2186335403726708,
          0.1521472392638037,
          0.20446220446220445,
          0.16790582403965304,
          0.1341658661543388,
          0.20648683365446371,
          0.21552795031055902,
          0.19944683466502766,
          0.1641110650642354,
          0.19228187919463088,
          0.22606547251389747,
          0.1467132422991426,
          0.15158227848101266,
          0.22855392156862744,
          0.1981623277182236,
          0.24535472972972974,
          0.3410519351637446,
          0.23647604327666152,
          0.24345883854499042,
          0.16213683223992503,
          0.288135593220339,
          0.2493150684931507,
          0.10108153078202994,
          0.10978993261989695,
          0.20503355704697987,
          0.24104549854791868,
          0.24975157336866513,
          0.2487452948557089,
          0.16528417818740399,
          0.17906224737267584,
          0.23056566324842873,
          0.16325898389095414,
          0.11097099621689786,
          0.2018348623853211,
          0.18723143032535297,
          0.19670128283445326,
          0.3007548669050457,
          0.27299703264094954,
          0.2984749455337691,
          0.21781874039938556,
          0.21089901477832512,
          0.3026912609615966,
          0.18689903846153846,
          0.21993911719939116,
          0.2873677248677249,
          0.29288574068370804,
          0.3059446000622471,
          0.31863354037267083,
          0.3503125,
          0.30412213740458016,
          0.22179732313575526,
          0.28037995414346545,
          0.24228536510846319,
          0.3313810110974106,
          0.22551113823619165,
          0.21472019464720193,
          0.2257479601087942,
          0.25920185974428517,
          0.2856152512998267,
          0.16611185086551264,
          0.16786079836233367,
          0.16597366597366597,
          0.136,
          0.19115980355119003,
          0.2461839530332681,
          0.28644995172191823,
          0.3079002703514569,
          0.1732045866022933,
          0.1600243383024034,
          0.24549193293261626,
          0.25007550588945937,
          0.15315315315315314,
          0.1768837803320562,
          0.16726726726726726,
          0.19066265060240964,
          0.27802267002518893,
          0.40738362760834673,
          0.29854368932038833,
          0.28199320498301245,
          0.2983974358974359,
          0.24054982817869416,
          0.26778115501519756,
          0.17595661343778246,
          0.14247391952309985,
          0.15611061552185548,
          0.13597628751389404,
          0.1300632911392405,
          0.21875,
          0.2215459525258673,
          0.2528409090909091,
          0.33263535746335626,
          0.2736904061212478,
          0.18068307014322438,
          0.19850187265917604,
          0.1580188679245283,
          0.2311377245508982,
          0.2811284046692607,
          0.31371951219512195,
          0.21397123569122395,
          0.13594384927964537,
          0.1624525916561315,
          0.1478494623655914,
          0.22108433734939759,
          0.23851006308200662,
          0.22079856972586412,
          0.2209165687426557,
          0.2525328330206379,
          0.3217507517540929,
          0.2760902255639098,
          0.2604828462515883,
          0.2538556446637878,
          0.261982732956237,
          0.1943379534060749,
          0.10554699537750385,
          0.120792702107581,
          0.17430922986478542,
          0.1427258805513017,
          0.15527195381343056,
          0.14480712166172108,
          0.1512881965248652,
          0.12955122777307368,
          0.09346938775510204,
          0.17227590803065645,
          0.19869595058339054,
          0.14351851851851852,
          0.09007294640025372,
          0.14209199747952111,
          0.11823480432972523,
          0.17444554783184377,
          0.16522277227722773,
          0.15887251761691223,
          0.15311610249920912,
          0.28149300155520995,
          0.19195331695331697,
          0.10569438754608768,
          0.17545008183306054,
          0.13618198585920688,
          0.1569693094629156,
          0.17883096366508688,
          0.2036685641998735,
          0.1439159975293391,
          0.0880065493246009,
          0.10933940774487472,
          0.1359729895641498,
          0.07479312539783578,
          0.07066246056782334,
          0.1640838650865998,
          0.17733507511430438,
          0.14604882085229623,
          0.12797134483881473,
          0.1125948406676783,
          0.08577735730053611,
          0.11733582321817616,
          0.14522446520036156,
          0.15433023673958646,
          0.09179134654266073,
          0.11287706779111255,
          0.14721886336154777,
          0.10666249609008445,
          0.17575568712994702,
          0.2406060606060606,
          0.29003667481662593,
          0.08771220695230396,
          0.12685125563425628,
          0.10575474540524255,
          0.10537836147592246,
          0.1646360512339894,
          0.23321123321123322,
          0.1646987587042083,
          0.1385176184690158,
          0.21281390856406954,
          0.22057038834951456,
          0.1718213058419244,
          0.1031152647975078,
          0.16154548220261636,
          0.17223572296476305,
          0.12741471434443075,
          0.2101232101232101,
          0.15423675023801967,
          0.18313659359190557,
          0.23586483773837405,
          0.2927007299270073,
          0.14840182648401826,
          0.10895583986793232,
          0.10689767898005885,
          0.0914179104477612,
          0.09914921465968586,
          0.09750566893424037,
          0.16872682323856614,
          0.17721518987341772,
          0.106760098928277,
          0.09645988957453719,
          0.25385647216633134,
          0.221256038647343,
          0.11277955271565496,
          0.12647241165530068,
          0.1392054203880505,
          0.10961145194274029,
          0.11114711600777706,
          0.19808108944599195,
          0.11316544469238125,
          0.14208346607199746,
          0.12791783380018673,
          0.13341568869672638,
          0.0946372239747634,
          0.10887772194304858,
          0.08870151770657674,
          0.16482781678368438,
          0.21092278719397364,
          0.1003996003996004,
          0.10421189752496743,
          0.2652923284893545,
          0.31215127092374456,
          0.3454661558109834,
          0.2572684246112238,
          0.20006559527714005,
          0.14599686028257458,
          0.1844082654978084,
          0.14817987152034262,
          0.13696808510638298,
          0.2707731793391081,
          0.13863337713534823,
          0.25170731707317073,
          0.1438871473354232,
          0.2155091871691062,
          0.14400677678949597,
          0.13982770046388338,
          0.13993066498581783,
          0.24451939291736932,
          0.24613359657782166,
          0.22151088348271447,
          0.21442369607211847,
          0.21425905188503172,
          0.2975778546712803,
          0.2625679347826087,
          0.14072229140722292,
          0.12646566164154105,
          0.21923861318830729,
          0.1838458938830686,
          0.27035213934115865,
          0.18938605619146723,
          0.22935779816513763,
          0.1502843216896832
         ],
         "yaxis": "y"
        },
        {
         "hovertemplate": "Date: <b>%{x}</b> <br>Percentage of delays (%): <b>%{y:.2%}</b>",
         "legendgroup": "2020",
         "line": {
          "color": "#FF9F1C",
          "dash": "solid"
         },
         "marker": {
          "symbol": "circle"
         },
         "mode": "lines",
         "name": "2020",
         "orientation": "v",
         "showlegend": true,
         "type": "scatter",
         "x": [
          "2020-01-01T00:00:00",
          "2020-01-02T00:00:00",
          "2020-01-03T00:00:00",
          "2020-01-04T00:00:00",
          "2020-01-05T00:00:00",
          "2020-01-06T00:00:00",
          "2020-01-07T00:00:00",
          "2020-01-08T00:00:00",
          "2020-01-09T00:00:00",
          "2020-01-10T00:00:00",
          "2020-01-11T00:00:00",
          "2020-01-12T00:00:00",
          "2020-01-13T00:00:00",
          "2020-01-14T00:00:00",
          "2020-01-15T00:00:00",
          "2020-01-16T00:00:00",
          "2020-01-17T00:00:00",
          "2020-01-18T00:00:00",
          "2020-01-19T00:00:00",
          "2020-01-20T00:00:00",
          "2020-01-21T00:00:00",
          "2020-01-22T00:00:00",
          "2020-01-23T00:00:00",
          "2020-01-24T00:00:00",
          "2020-01-25T00:00:00",
          "2020-01-26T00:00:00",
          "2020-01-27T00:00:00",
          "2020-01-28T00:00:00",
          "2020-01-29T00:00:00",
          "2020-01-30T00:00:00",
          "2020-01-31T00:00:00",
          "2020-02-01T00:00:00",
          "2020-02-02T00:00:00",
          "2020-02-03T00:00:00",
          "2020-02-04T00:00:00",
          "2020-02-05T00:00:00",
          "2020-02-06T00:00:00",
          "2020-02-07T00:00:00",
          "2020-02-08T00:00:00",
          "2020-02-09T00:00:00",
          "2020-02-10T00:00:00",
          "2020-02-11T00:00:00",
          "2020-02-12T00:00:00",
          "2020-02-13T00:00:00",
          "2020-02-14T00:00:00",
          "2020-02-15T00:00:00",
          "2020-02-16T00:00:00",
          "2020-02-17T00:00:00",
          "2020-02-18T00:00:00",
          "2020-02-19T00:00:00",
          "2020-02-20T00:00:00",
          "2020-02-21T00:00:00",
          "2020-02-22T00:00:00",
          "2020-02-23T00:00:00",
          "2020-02-24T00:00:00",
          "2020-02-25T00:00:00",
          "2020-02-26T00:00:00",
          "2020-02-27T00:00:00",
          "2020-02-28T00:00:00",
          "2020-02-29T00:00:00",
          "2020-03-01T00:00:00",
          "2020-03-02T00:00:00",
          "2020-03-03T00:00:00",
          "2020-03-04T00:00:00",
          "2020-03-05T00:00:00",
          "2020-03-06T00:00:00",
          "2020-03-07T00:00:00",
          "2020-03-08T00:00:00",
          "2020-03-09T00:00:00",
          "2020-03-10T00:00:00",
          "2020-03-11T00:00:00",
          "2020-03-12T00:00:00",
          "2020-03-13T00:00:00",
          "2020-03-14T00:00:00",
          "2020-03-15T00:00:00",
          "2020-03-16T00:00:00",
          "2020-03-17T00:00:00",
          "2020-03-18T00:00:00",
          "2020-03-19T00:00:00",
          "2020-03-20T00:00:00",
          "2020-03-21T00:00:00",
          "2020-03-22T00:00:00",
          "2020-03-23T00:00:00",
          "2020-03-24T00:00:00",
          "2020-03-25T00:00:00",
          "2020-03-26T00:00:00",
          "2020-03-27T00:00:00",
          "2020-03-28T00:00:00",
          "2020-03-29T00:00:00",
          "2020-03-30T00:00:00",
          "2020-03-31T00:00:00"
         ],
         "xaxis": "x",
         "y": [
          0.1327737504769172,
          0.12064805239572561,
          0.1709577754891864,
          0.20418006430868169,
          0.1720356408498972,
          0.12314493211240922,
          0.06562291805463025,
          0.12786449684490203,
          0.07982261640798226,
          0.14111218257794922,
          0.20847215611613518,
          0.1680140597539543,
          0.13104774110861903,
          0.09705488621151272,
          0.07620941020543406,
          0.2790772188401153,
          0.17933130699088146,
          0.17215777262180976,
          0.09349435138293728,
          0.09983525535420099,
          0.12346089850249584,
          0.09545906529665231,
          0.10481317289423686,
          0.11400444585582725,
          0.0989791389258766,
          0.09500693481276005,
          0.11704509114166933,
          0.06686626746506986,
          0.05658504301786896,
          0.09428571428571429,
          0.134185303514377,
          0.09621380846325167,
          0.06980994152046784,
          0.11146700832799487,
          0.07273331119229492,
          0.0736318407960199,
          0.36536601096420507,
          0.3602080624187256,
          0.09547069271758436,
          0.2093683463449255,
          0.1197452229299363,
          0.08186940669539278,
          0.10316139767054909,
          0.37792,
          0.11968503937007874,
          0.09956709956709957,
          0.07674858223062382,
          0.11304909560723514,
          0.13733631427658896,
          0.08047451106123758,
          0.11569987389659521,
          0.10166824047843878,
          0.08454312553373185,
          0.09196581196581197,
          0.07740717432347388,
          0.09604339502233568,
          0.1597444089456869,
          0.16232339089481945,
          0.08971553610503283,
          0.08874734607218683,
          0.1242320819112628,
          0.08146067415730338,
          0.057225063938618925,
          0.12145618556701031,
          0.07956318252730109,
          0.12927284027346178,
          0.07797594359187059,
          0.10855596888738586,
          0.07555416796753044,
          0.11018310311596531,
          0.0851063829787234,
          0.09085271317829458,
          0.19793621013133209,
          0.10984075132707227,
          0.08436974789915966,
          0.07095132039452752,
          0.08367911479944674,
          0.06630630630630631,
          0.12363636363636364,
          0.11793814432989691,
          0.10945273631840796,
          0.09437751004016064,
          0.08140161725067385,
          0.07562536358347877,
          0.05775266792215945,
          0.050100200400801605,
          0.049964311206281226,
          0.05622489959839357,
          0.038913362701908955,
          0.059001512859304085,
          0.0536
         ],
         "yaxis": "y"
        }
       ],
       "layout": {
        "height": 600,
        "hoverlabel": {
         "align": "auto"
        },
        "hovermode": "x unified",
        "legend": {
         "title": {
          "text": "Year"
         },
         "tracegroupgap": 0
        },
        "plot_bgcolor": "#E4EEF1",
        "template": {
         "data": {
          "bar": [
           {
            "error_x": {
             "color": "#2a3f5f"
            },
            "error_y": {
             "color": "#2a3f5f"
            },
            "marker": {
             "line": {
              "color": "#E5ECF6",
              "width": 0.5
             },
             "pattern": {
              "fillmode": "overlay",
              "size": 10,
              "solidity": 0.2
             }
            },
            "type": "bar"
           }
          ],
          "barpolar": [
           {
            "marker": {
             "line": {
              "color": "#E5ECF6",
              "width": 0.5
             },
             "pattern": {
              "fillmode": "overlay",
              "size": 10,
              "solidity": 0.2
             }
            },
            "type": "barpolar"
           }
          ],
          "carpet": [
           {
            "aaxis": {
             "endlinecolor": "#2a3f5f",
             "gridcolor": "white",
             "linecolor": "white",
             "minorgridcolor": "white",
             "startlinecolor": "#2a3f5f"
            },
            "baxis": {
             "endlinecolor": "#2a3f5f",
             "gridcolor": "white",
             "linecolor": "white",
             "minorgridcolor": "white",
             "startlinecolor": "#2a3f5f"
            },
            "type": "carpet"
           }
          ],
          "choropleth": [
           {
            "colorbar": {
             "outlinewidth": 0,
             "ticks": ""
            },
            "type": "choropleth"
           }
          ],
          "contour": [
           {
            "colorbar": {
             "outlinewidth": 0,
             "ticks": ""
            },
            "colorscale": [
             [
              0,
              "#0d0887"
             ],
             [
              0.1111111111111111,
              "#46039f"
             ],
             [
              0.2222222222222222,
              "#7201a8"
             ],
             [
              0.3333333333333333,
              "#9c179e"
             ],
             [
              0.4444444444444444,
              "#bd3786"
             ],
             [
              0.5555555555555556,
              "#d8576b"
             ],
             [
              0.6666666666666666,
              "#ed7953"
             ],
             [
              0.7777777777777778,
              "#fb9f3a"
             ],
             [
              0.8888888888888888,
              "#fdca26"
             ],
             [
              1,
              "#f0f921"
             ]
            ],
            "type": "contour"
           }
          ],
          "contourcarpet": [
           {
            "colorbar": {
             "outlinewidth": 0,
             "ticks": ""
            },
            "type": "contourcarpet"
           }
          ],
          "heatmap": [
           {
            "colorbar": {
             "outlinewidth": 0,
             "ticks": ""
            },
            "colorscale": [
             [
              0,
              "#0d0887"
             ],
             [
              0.1111111111111111,
              "#46039f"
             ],
             [
              0.2222222222222222,
              "#7201a8"
             ],
             [
              0.3333333333333333,
              "#9c179e"
             ],
             [
              0.4444444444444444,
              "#bd3786"
             ],
             [
              0.5555555555555556,
              "#d8576b"
             ],
             [
              0.6666666666666666,
              "#ed7953"
             ],
             [
              0.7777777777777778,
              "#fb9f3a"
             ],
             [
              0.8888888888888888,
              "#fdca26"
             ],
             [
              1,
              "#f0f921"
             ]
            ],
            "type": "heatmap"
           }
          ],
          "heatmapgl": [
           {
            "colorbar": {
             "outlinewidth": 0,
             "ticks": ""
            },
            "colorscale": [
             [
              0,
              "#0d0887"
             ],
             [
              0.1111111111111111,
              "#46039f"
             ],
             [
              0.2222222222222222,
              "#7201a8"
             ],
             [
              0.3333333333333333,
              "#9c179e"
             ],
             [
              0.4444444444444444,
              "#bd3786"
             ],
             [
              0.5555555555555556,
              "#d8576b"
             ],
             [
              0.6666666666666666,
              "#ed7953"
             ],
             [
              0.7777777777777778,
              "#fb9f3a"
             ],
             [
              0.8888888888888888,
              "#fdca26"
             ],
             [
              1,
              "#f0f921"
             ]
            ],
            "type": "heatmapgl"
           }
          ],
          "histogram": [
           {
            "marker": {
             "pattern": {
              "fillmode": "overlay",
              "size": 10,
              "solidity": 0.2
             }
            },
            "type": "histogram"
           }
          ],
          "histogram2d": [
           {
            "colorbar": {
             "outlinewidth": 0,
             "ticks": ""
            },
            "colorscale": [
             [
              0,
              "#0d0887"
             ],
             [
              0.1111111111111111,
              "#46039f"
             ],
             [
              0.2222222222222222,
              "#7201a8"
             ],
             [
              0.3333333333333333,
              "#9c179e"
             ],
             [
              0.4444444444444444,
              "#bd3786"
             ],
             [
              0.5555555555555556,
              "#d8576b"
             ],
             [
              0.6666666666666666,
              "#ed7953"
             ],
             [
              0.7777777777777778,
              "#fb9f3a"
             ],
             [
              0.8888888888888888,
              "#fdca26"
             ],
             [
              1,
              "#f0f921"
             ]
            ],
            "type": "histogram2d"
           }
          ],
          "histogram2dcontour": [
           {
            "colorbar": {
             "outlinewidth": 0,
             "ticks": ""
            },
            "colorscale": [
             [
              0,
              "#0d0887"
             ],
             [
              0.1111111111111111,
              "#46039f"
             ],
             [
              0.2222222222222222,
              "#7201a8"
             ],
             [
              0.3333333333333333,
              "#9c179e"
             ],
             [
              0.4444444444444444,
              "#bd3786"
             ],
             [
              0.5555555555555556,
              "#d8576b"
             ],
             [
              0.6666666666666666,
              "#ed7953"
             ],
             [
              0.7777777777777778,
              "#fb9f3a"
             ],
             [
              0.8888888888888888,
              "#fdca26"
             ],
             [
              1,
              "#f0f921"
             ]
            ],
            "type": "histogram2dcontour"
           }
          ],
          "mesh3d": [
           {
            "colorbar": {
             "outlinewidth": 0,
             "ticks": ""
            },
            "type": "mesh3d"
           }
          ],
          "parcoords": [
           {
            "line": {
             "colorbar": {
              "outlinewidth": 0,
              "ticks": ""
             }
            },
            "type": "parcoords"
           }
          ],
          "pie": [
           {
            "automargin": true,
            "type": "pie"
           }
          ],
          "scatter": [
           {
            "fillpattern": {
             "fillmode": "overlay",
             "size": 10,
             "solidity": 0.2
            },
            "type": "scatter"
           }
          ],
          "scatter3d": [
           {
            "line": {
             "colorbar": {
              "outlinewidth": 0,
              "ticks": ""
             }
            },
            "marker": {
             "colorbar": {
              "outlinewidth": 0,
              "ticks": ""
             }
            },
            "type": "scatter3d"
           }
          ],
          "scattercarpet": [
           {
            "marker": {
             "colorbar": {
              "outlinewidth": 0,
              "ticks": ""
             }
            },
            "type": "scattercarpet"
           }
          ],
          "scattergeo": [
           {
            "marker": {
             "colorbar": {
              "outlinewidth": 0,
              "ticks": ""
             }
            },
            "type": "scattergeo"
           }
          ],
          "scattergl": [
           {
            "marker": {
             "colorbar": {
              "outlinewidth": 0,
              "ticks": ""
             }
            },
            "type": "scattergl"
           }
          ],
          "scattermapbox": [
           {
            "marker": {
             "colorbar": {
              "outlinewidth": 0,
              "ticks": ""
             }
            },
            "type": "scattermapbox"
           }
          ],
          "scatterpolar": [
           {
            "marker": {
             "colorbar": {
              "outlinewidth": 0,
              "ticks": ""
             }
            },
            "type": "scatterpolar"
           }
          ],
          "scatterpolargl": [
           {
            "marker": {
             "colorbar": {
              "outlinewidth": 0,
              "ticks": ""
             }
            },
            "type": "scatterpolargl"
           }
          ],
          "scatterternary": [
           {
            "marker": {
             "colorbar": {
              "outlinewidth": 0,
              "ticks": ""
             }
            },
            "type": "scatterternary"
           }
          ],
          "surface": [
           {
            "colorbar": {
             "outlinewidth": 0,
             "ticks": ""
            },
            "colorscale": [
             [
              0,
              "#0d0887"
             ],
             [
              0.1111111111111111,
              "#46039f"
             ],
             [
              0.2222222222222222,
              "#7201a8"
             ],
             [
              0.3333333333333333,
              "#9c179e"
             ],
             [
              0.4444444444444444,
              "#bd3786"
             ],
             [
              0.5555555555555556,
              "#d8576b"
             ],
             [
              0.6666666666666666,
              "#ed7953"
             ],
             [
              0.7777777777777778,
              "#fb9f3a"
             ],
             [
              0.8888888888888888,
              "#fdca26"
             ],
             [
              1,
              "#f0f921"
             ]
            ],
            "type": "surface"
           }
          ],
          "table": [
           {
            "cells": {
             "fill": {
              "color": "#EBF0F8"
             },
             "line": {
              "color": "white"
             }
            },
            "header": {
             "fill": {
              "color": "#C8D4E3"
             },
             "line": {
              "color": "white"
             }
            },
            "type": "table"
           }
          ]
         },
         "layout": {
          "annotationdefaults": {
           "arrowcolor": "#2a3f5f",
           "arrowhead": 0,
           "arrowwidth": 1
          },
          "autotypenumbers": "strict",
          "coloraxis": {
           "colorbar": {
            "outlinewidth": 0,
            "ticks": ""
           }
          },
          "colorscale": {
           "diverging": [
            [
             0,
             "#8e0152"
            ],
            [
             0.1,
             "#c51b7d"
            ],
            [
             0.2,
             "#de77ae"
            ],
            [
             0.3,
             "#f1b6da"
            ],
            [
             0.4,
             "#fde0ef"
            ],
            [
             0.5,
             "#f7f7f7"
            ],
            [
             0.6,
             "#e6f5d0"
            ],
            [
             0.7,
             "#b8e186"
            ],
            [
             0.8,
             "#7fbc41"
            ],
            [
             0.9,
             "#4d9221"
            ],
            [
             1,
             "#276419"
            ]
           ],
           "sequential": [
            [
             0,
             "#0d0887"
            ],
            [
             0.1111111111111111,
             "#46039f"
            ],
            [
             0.2222222222222222,
             "#7201a8"
            ],
            [
             0.3333333333333333,
             "#9c179e"
            ],
            [
             0.4444444444444444,
             "#bd3786"
            ],
            [
             0.5555555555555556,
             "#d8576b"
            ],
            [
             0.6666666666666666,
             "#ed7953"
            ],
            [
             0.7777777777777778,
             "#fb9f3a"
            ],
            [
             0.8888888888888888,
             "#fdca26"
            ],
            [
             1,
             "#f0f921"
            ]
           ],
           "sequentialminus": [
            [
             0,
             "#0d0887"
            ],
            [
             0.1111111111111111,
             "#46039f"
            ],
            [
             0.2222222222222222,
             "#7201a8"
            ],
            [
             0.3333333333333333,
             "#9c179e"
            ],
            [
             0.4444444444444444,
             "#bd3786"
            ],
            [
             0.5555555555555556,
             "#d8576b"
            ],
            [
             0.6666666666666666,
             "#ed7953"
            ],
            [
             0.7777777777777778,
             "#fb9f3a"
            ],
            [
             0.8888888888888888,
             "#fdca26"
            ],
            [
             1,
             "#f0f921"
            ]
           ]
          },
          "colorway": [
           "#636efa",
           "#EF553B",
           "#00cc96",
           "#ab63fa",
           "#FFA15A",
           "#19d3f3",
           "#FF6692",
           "#B6E880",
           "#FF97FF",
           "#FECB52"
          ],
          "font": {
           "color": "#2a3f5f"
          },
          "geo": {
           "bgcolor": "white",
           "lakecolor": "white",
           "landcolor": "#E5ECF6",
           "showlakes": true,
           "showland": true,
           "subunitcolor": "white"
          },
          "hoverlabel": {
           "align": "left"
          },
          "hovermode": "closest",
          "mapbox": {
           "style": "light"
          },
          "paper_bgcolor": "white",
          "plot_bgcolor": "#E5ECF6",
          "polar": {
           "angularaxis": {
            "gridcolor": "white",
            "linecolor": "white",
            "ticks": ""
           },
           "bgcolor": "#E5ECF6",
           "radialaxis": {
            "gridcolor": "white",
            "linecolor": "white",
            "ticks": ""
           }
          },
          "scene": {
           "xaxis": {
            "backgroundcolor": "#E5ECF6",
            "gridcolor": "white",
            "gridwidth": 2,
            "linecolor": "white",
            "showbackground": true,
            "ticks": "",
            "zerolinecolor": "white"
           },
           "yaxis": {
            "backgroundcolor": "#E5ECF6",
            "gridcolor": "white",
            "gridwidth": 2,
            "linecolor": "white",
            "showbackground": true,
            "ticks": "",
            "zerolinecolor": "white"
           },
           "zaxis": {
            "backgroundcolor": "#E5ECF6",
            "gridcolor": "white",
            "gridwidth": 2,
            "linecolor": "white",
            "showbackground": true,
            "ticks": "",
            "zerolinecolor": "white"
           }
          },
          "shapedefaults": {
           "line": {
            "color": "#2a3f5f"
           }
          },
          "ternary": {
           "aaxis": {
            "gridcolor": "white",
            "linecolor": "white",
            "ticks": ""
           },
           "baxis": {
            "gridcolor": "white",
            "linecolor": "white",
            "ticks": ""
           },
           "bgcolor": "#E5ECF6",
           "caxis": {
            "gridcolor": "white",
            "linecolor": "white",
            "ticks": ""
           }
          },
          "title": {
           "x": 0.05
          },
          "xaxis": {
           "automargin": true,
           "gridcolor": "white",
           "linecolor": "white",
           "ticks": "",
           "title": {
            "standoff": 15
           },
           "zerolinecolor": "white",
           "zerolinewidth": 2
          },
          "yaxis": {
           "automargin": true,
           "gridcolor": "white",
           "linecolor": "white",
           "ticks": "",
           "title": {
            "standoff": 15
           },
           "zerolinecolor": "white",
           "zerolinewidth": 2
          }
         }
        },
        "title": {
         "font": {
          "size": 24
         },
         "text": "<b>Percentage of delays in 2019 and 2020 by Day"
        },
        "width": 1500,
        "xaxis": {
         "anchor": "y",
         "domain": [
          0,
          1
         ],
         "range": [
          "2019-01-01T00:00:00",
          "2020-04-01T00:00:00"
         ],
         "tickcolor": "gray",
         "ticklen": 15,
         "tickmode": "array",
         "ticks": "outside",
         "tickson": "boundaries",
         "ticktext": [
          "Jan<br>2019",
          "Feb<br>2019",
          "Mar<br>2019",
          "Apr<br>2019",
          "May<br>2019",
          "Jun<br>2019",
          "Jul<br>2019",
          "Aug<br>2019",
          "Sep<br>2019",
          "Oct<br>2019",
          "Nov<br>2019",
          "Dec<br>2019",
          "Jan<br>2020",
          "Feb<br>2020",
          "Mar<br>2020",
          "Apr<br>2020"
         ],
         "tickvals": [
          "2019-01-01T00:00:00",
          "2019-02-01T00:00:00",
          "2019-03-01T00:00:00",
          "2019-04-01T00:00:00",
          "2019-05-01T00:00:00",
          "2019-06-01T00:00:00",
          "2019-07-01T00:00:00",
          "2019-08-01T00:00:00",
          "2019-09-01T00:00:00",
          "2019-10-01T00:00:00",
          "2019-11-01T00:00:00",
          "2019-12-01T00:00:00",
          "2020-01-01T00:00:00",
          "2020-02-01T00:00:00",
          "2020-03-01T00:00:00",
          "2020-04-01T00:00:00"
         ],
         "tickwidth": 1,
         "title": {
          "font": {
           "size": 14
          },
          "text": "<b>Day by day"
         }
        },
        "yaxis": {
         "anchor": "x",
         "domain": [
          0,
          1
         ],
         "range": [
          0,
          0.4573836276083467
         ],
         "tickcolor": "white",
         "tickformat": ".0%",
         "ticklen": 15,
         "ticks": "outside",
         "tickson": "boundaries",
         "tickwidth": 1,
         "title": {
          "font": {
           "size": 14
          },
          "text": "<br><b>Percentage of delays (%)"
         }
        }
       }
      }
     },
     "metadata": {},
     "output_type": "display_data"
    }
   ],
   "source": [
    "day_by_day_reliability_fig = px.line(  data_frame=day_by_day_reliability_df,\n",
    "                                        x='date',\n",
    "                                        y='reliability',\n",
    "                                        color=day_by_day_reliability_df['date'].dt.year,\n",
    "                                        markers=True,\n",
    "                                        height=600, \n",
    "                                        width=1500,\n",
    "                                        title='<b>Percentage of delays in 2019 and 2020 by Day',\n",
    "                                        color_discrete_sequence=['#5995ED', '#FF9F1C'],\n",
    "                                        )\n",
    "\n",
    "day_by_day_reliability_fig.update_layout(xaxis = dict(\n",
    "                                                        title='<b>Day by day',\n",
    "                                                        titlefont=dict(size=14),\n",
    "                                                        tickmode='array',\n",
    "                                                        tickvals = [date for date in first_day_of_month_list],\n",
    "                                                        ticktext = first_day_of_month_list.strftime(\"%b<br>%Y\"),\n",
    "                                                        tickson=\"boundaries\",\n",
    "                                                        ticks=\"outside\",\n",
    "                                                        ticklen=15,\n",
    "                                                        tickwidth=1,\n",
    "                                                        tickcolor='gray', \n",
    "                                                        ),\n",
    "                                         yaxis = dict(\n",
    "                                                        title='<br><b>Percentage of delays (%)',\n",
    "                                                        titlefont=dict(size=14),\n",
    "                                                        range=[0, day_by_day_reliability_df['reliability'].max()+0.05], \n",
    "                                                        tickformat=\".0%\",\n",
    "                                                        tickson=\"boundaries\",\n",
    "                                                        ticks=\"outside\",\n",
    "                                                        ticklen=15,\n",
    "                                                        tickwidth=1,\n",
    "                                                        tickcolor='white',\n",
    "                                                        ),\n",
    "                                         hovermode=\"x unified\", # 'x' / 'closest' / 'x unified'\n",
    "                                         hoverlabel_align = 'auto',\n",
    "                                         legend_title=\"Year\",\n",
    "                                         titlefont=dict(size=24),\n",
    "                                         plot_bgcolor=\"#E4EEF1\"\n",
    "                                        )\n",
    "\n",
    "day_by_day_reliability_fig.update_traces(mode=\"lines\", hovertemplate=\"Date: <b>%{x}</b> <br>Percentage of delays (%): <b>%{y:.2%}</b>\")\n",
    "\n",
    "day_by_day_reliability_fig.update_xaxes(range=[first_day_of_month_list[0], first_day_of_month_list[-1]])\n",
    "\n",
    "day_by_day_reliability_fig.show()"
   ]
  },
  {
   "cell_type": "markdown",
   "metadata": {},
   "source": [
    " # Stworzenie layoutów poszczególnych stron"
   ]
  },
  {
   "cell_type": "markdown",
   "metadata": {},
   "source": [
    " ## Stworzenie layout dla widoku `TOP 10 routes` i dla widoku `TOP 10 airports`"
   ]
  },
  {
   "cell_type": "code",
   "execution_count": 38,
   "metadata": {},
   "outputs": [],
   "source": [
    "top_routes_airports_layout = html.Div([  html.H1(\"TOP 10 reliability routes and airports in 2019 and 2020\", style={'fontFamily': 'verdana', 'color': '#4444'}),\n",
    "                                                html.Div([\n",
    "                                                            html.Div([\n",
    "                                                                        html.H3(\"TOP 10 flight routes by highest delay percentage\", style={'fontFamily': 'verdana', 'color': '#4444'}),\n",
    "                                                                        dash_table.DataTable(\n",
    "                                                                                            id='table-routes',\n",
    "                                                                                            columns=[\n",
    "                                                                                                {\"name\": [\"Origin\"], \"id\": \"Origin\", \"type\": \"text\"},\n",
    "                                                                                                {\"name\": [\"Destination\"], \"id\": \"Destination\", \"type\": \"text\"},\n",
    "                                                                                                {\"name\": [\"Year\"], \"id\": \"Year\", \"type\": \"numeric\"},\n",
    "                                                                                                {\"name\": [\"Reliability\"], \"id\": \"Reliability\", \"type\": \"numeric\"},\n",
    "                                                                                                {\"name\":[\"Rank\"], \"id\":\"Rank\", \"type\": \"numeric\"},],\n",
    "                                                                                            data=top_routes_df.to_dict('records'),\n",
    "                                                                                            style_table = {'width':500,'height':500},\n",
    "                                                                                            style_data_conditional=[\n",
    "                                                                                            {\n",
    "                                                                                                'if': {'row_index': 'odd'},\n",
    "                                                                                                'backgroundColor': 'rgb(200, 220, 240)',\n",
    "                                                                                            },\n",
    "                                                                                            {\n",
    "                                                                                                'if': {'column_type': 'text'},\n",
    "                                                                                                    'textAlign': 'left',\n",
    "                                                                                            },\n",
    "                                                                                            {\n",
    "                                                                                                'if': {'column_type': 'numeric'},\n",
    "                                                                                                    'textAlign': 'center'\n",
    "                                                                                            },\n",
    "                                                                                            {\n",
    "                                                                                                'if': {'column_id': 'Year'},\n",
    "                                                                                                'minWidth': '60px'\n",
    "                                                                                            },\n",
    "                                                                                            ],\n",
    "                                                                                            style_header={\n",
    "                                                                                            'backgroundColor': '#5995ED',\n",
    "                                                                                            'fontWeight': 'bold',\n",
    "                                                                                            'textAlign': 'center'\n",
    "                                                                                            },\n",
    "                                                                                            style_cell={'font_family': 'verdana', 'font_size': '14px',\n",
    "                                                                                                        }\n",
    "                                                                                            ),\n",
    "                                                                    ], style={'display':'inline-block', 'width':'50%', 'height':500}),\n",
    "                                                            html.Div([\n",
    "                                                                        html.H3(\"TOP 10 airports with the highest number of departures by delay percentage\", \n",
    "                                                                                style={'fontFamily': 'verdana', 'color': '#4444', 'width':'70%'}), \n",
    "                                                                        dash_table.DataTable(\n",
    "                                                                                            id='table-airports',\n",
    "                                                                                            columns=[\n",
    "                                                                                                {\"name\": [\"Origin\"], \"id\": \"Origin\", \"type\": \"text\"},\n",
    "                                                                                                {\"name\": [\"Departures\"], \"id\": \"Departures\", \"type\": \"numeric\", \"format\": Format().group(True)},\n",
    "                                                                                                {\"name\": [\"Arrivals\"], \"id\": \"Arrivals\", \"type\": \"numeric\", \"format\": Format().group(True)},\n",
    "                                                                                                {\"name\": [\"Year\"], \"id\": \"Year\", \"type\": \"numeric\"},\n",
    "                                                                                                {\"name\": [\"Reliability\"], \"id\": \"Reliability\", \"type\": \"numeric\"},\n",
    "                                                                                                {\"name\":[\"Rank\"], \"id\":\"Rank\", \"type\": \"numeric\"},],\n",
    "                                                                                            data=top_airports_df.to_dict('records'),\n",
    "                                                                                            style_table = {'width':500,'height':500},\n",
    "                                                                                            style_data_conditional=[\n",
    "                                                                                            {\n",
    "                                                                                                'if': {'row_index': 'odd'},\n",
    "                                                                                                'backgroundColor': 'rgb(200, 220, 240)',\n",
    "                                                                                            },\n",
    "                                                                                            {\n",
    "                                                                                                'if': {'column_type': 'text'},\n",
    "                                                                                                    'textAlign': 'left',\n",
    "                                                                                            },\n",
    "                                                                                             {\n",
    "                                                                                                'if': {'column_id': 'Departures'},\n",
    "                                                                                                'textAlign': 'right',\n",
    "                                                                                                'minWidth': '80px'\n",
    "                                                                                            },\n",
    "                                                                                            {\n",
    "                                                                                                'if': {'column_id': 'Arrivals'},\n",
    "                                                                                                'textAlign': 'right',\n",
    "                                                                                                'minWidth': '80px'\n",
    "                                                                                            },\n",
    "                                                                                            {\n",
    "                                                                                                'if': {'column_id': 'Year'},\n",
    "                                                                                                'textAlign': 'center',\n",
    "                                                                                                'minWidth': '60px'\n",
    "                                                                                            },\n",
    "                                                                                            {\n",
    "                                                                                                'if': {'column_id': 'Reliability'},\n",
    "                                                                                                'textAlign': 'center',\n",
    "                                                                                            },\n",
    "                                                                                            {\n",
    "                                                                                                'if': {'column_id': 'Rank'},\n",
    "                                                                                                'textAlign': 'center',\n",
    "                                                                                            },\n",
    "                                                                                            {\n",
    "                                                                                                'if': {\n",
    "                                                                                                    'filter_query': '{{Departures}} = {}'.format(top_airports_df['Departures'].max()),\n",
    "                                                                                                    'column_id': 'Departures'\n",
    "                                                                                                },\n",
    "                                                                                                'backgroundColor': '#CD5D67',\n",
    "                                                                                            },\n",
    "                                                                                            {\n",
    "                                                                                                'if': {\n",
    "                                                                                                    'filter_query': '{{Departures}} = {}'.format(top_airports_df['Departures'].min()),\n",
    "                                                                                                    'column_id': 'Departures'\n",
    "                                                                                                },\n",
    "                                                                                                'backgroundColor': '#ACF39D',\n",
    "                                                                                            }\n",
    "                                                                                            ],\n",
    "                                                                                            style_header={\n",
    "                                                                                            'backgroundColor': '#5995ED',\n",
    "                                                                                            'fontWeight': 'bold',\n",
    "                                                                                            'textAlign': 'center'\n",
    "                                                                                            },\n",
    "                                                                                            style_cell={'font_family': 'verdana', 'font_size': '14px',\n",
    "                                                                                                        }\n",
    "                                                                                            )\n",
    "                                                                            ], style={'display':'inline-block', 'width':'50%', 'height':500, 'align':'center'})\n",
    "                                                            ], style={'display':'inline-block', 'width':'85%', 'height':500, 'align':'center'})\n",
    "                                                ])"
   ]
  },
  {
   "cell_type": "markdown",
   "metadata": {},
   "source": [
    " ## Stworzenie layout dla widoku `Comparision`"
   ]
  },
  {
   "cell_type": "code",
   "execution_count": 39,
   "metadata": {},
   "outputs": [],
   "source": [
    "comparision_layout = html.Div([  html.H1(\"Comparison of Reliability between 2019 and 2020\", style={'fontFamily': 'verdana', 'color': '#4444'}),\n",
    "                                        html.Div([  \n",
    "                                                    dcc.Dropdown(\n",
    "                                                                id='dropdown',\n",
    "                                                                clearable=False,\n",
    "                                                                value='Month',\n",
    "                                                                options=['Month', 'Day of Week'],\n",
    "                                                                style={'fontFamily': 'verdana',\n",
    "                                                                       'width':'30%',\n",
    "                                                                       'font-size': '14px',\n",
    "                                                                       'border-radius': '10px',\n",
    "                                                                        }\n",
    "                                                    ),\n",
    "                                                    html.Br(style={\"line-height\": \"15\"}),\n",
    "                                                    dcc.Graph(\n",
    "                                                                id='graph1-2',\n",
    "                                                                style={'display':'inline-block',}\n",
    "                                                                ),\n",
    "                                                    ])\n",
    "                                        ])"
   ]
  },
  {
   "cell_type": "markdown",
   "metadata": {},
   "source": [
    " ## Stworzenie layout dla widoku `Day by day`."
   ]
  },
  {
   "cell_type": "code",
   "execution_count": 40,
   "metadata": {},
   "outputs": [],
   "source": [
    "day_by_day_layout = html.Div([  html.H1(\"Day by day Reliability in 2019 and 2020\", style={'fontFamily': 'verdana', 'color': '#4444'}),\n",
    "                                       html.Div([\n",
    "                                                    dcc.Graph(\n",
    "                                                                id='graph3',\n",
    "                                                                figure=day_by_day_reliability_fig\n",
    "                                                                ),\n",
    "                                                    ])\n",
    "                                        ])"
   ]
  },
  {
   "cell_type": "markdown",
   "metadata": {},
   "source": [
    " # Konfigurowanie aplikacji\n",
    " Posiadam już wszystkie niezbędne komponenty do stworzenia oraz uruchomienia aplikacji. Potrzebuję skonfigurować ją tak, aby obsługiwała więcej niż jedną stronę.\n",
    "\n",
    " Chcę, aby możliwe było poruszanie się pomiędzy poniższymi stronami:\n",
    " - `TOP report` - strona domyślna,\n",
    " - `Comparision` - strona dostępna pod adresem: `comparision_reporting`,\n",
    " - `Day by day reporting` - strona dostępna pod adresem: `day_by_day_reporting`\n"
   ]
  },
  {
   "cell_type": "markdown",
   "metadata": {},
   "source": [
    " Przygotowuję layout aplikacji"
   ]
  },
  {
   "cell_type": "code",
   "execution_count": 41,
   "metadata": {},
   "outputs": [],
   "source": [
    "app = Dash()\n",
    "\n",
    "button_style = {\n",
    "                'background-color': '#5995ED',\n",
    "                'border': 'none', \n",
    "                'color': 'white',\n",
    "                'padding': '15px 32px',\n",
    "                'text-align': 'center',\n",
    "                'text-decoration': 'none',\n",
    "                'display': 'inline-block',\n",
    "                'fontFamily': 'verdana',\n",
    "                'font-size': '18px',\n",
    "                'margin': '4px 4px',\n",
    "                'border-radius': '10px',\n",
    "                }\n",
    "\n",
    "\n",
    "app.layout = html.Div([\n",
    "                        dcc.Location(id='url', refresh=False),\n",
    "                        dcc.Link('Top 10', href='/', style=button_style),\n",
    "                        dcc.Link('YoY & WKoWK', href='/2', style=button_style),\n",
    "                        dcc.Link('Day by day Reliability', href='/3', style=button_style),\n",
    "                        html.Div(id='page-content')\n",
    "])"
   ]
  },
  {
   "cell_type": "markdown",
   "metadata": {},
   "source": [
    " Tworzę procedurę odpowiadającą za nawigację pomiędzy poszczególnymi stronami"
   ]
  },
  {
   "cell_type": "code",
   "execution_count": 42,
   "metadata": {},
   "outputs": [],
   "source": [
    "@app.callback(\n",
    "    Output('page-content', 'children'),\n",
    "    [Input('url', 'pathname')])\n",
    "def display_page_content(pathname):\n",
    "    if pathname == '/':\n",
    "        return top_routes_airports_layout\n",
    "    elif pathname == '/2':\n",
    "        return comparision_layout\n",
    "    elif pathname == '/3':\n",
    "        return day_by_day_layout\n",
    "    else:\n",
    "        return html.Div(\"Page does not exist\")\n",
    "    \n",
    "@app.callback(\n",
    "    Output('graph1-2', 'figure'),\n",
    "    [Input('dropdown', 'value')])\n",
    "def choose_graph(value):\n",
    "    if value == 'Month':\n",
    "        return yoy_comparision_fig\n",
    "    elif value == 'Day of Week':\n",
    "        return day_to_day_comparision_fig"
   ]
  },
  {
   "cell_type": "markdown",
   "metadata": {},
   "source": [
    " Uruchamiam aplikację"
   ]
  },
  {
   "cell_type": "code",
   "execution_count": 43,
   "metadata": {},
   "outputs": [
    {
     "data": {
      "text/html": [
       "\n",
       "        <iframe\n",
       "            width=\"100%\"\n",
       "            height=\"650\"\n",
       "            src=\"http://127.0.0.1:8050/\"\n",
       "            frameborder=\"0\"\n",
       "            allowfullscreen\n",
       "            \n",
       "        ></iframe>\n",
       "        "
      ],
      "text/plain": [
       "<IPython.lib.display.IFrame at 0x20243d16e10>"
      ]
     },
     "metadata": {},
     "output_type": "display_data"
    }
   ],
   "source": [
    "thread = threading.Thread(target=app.run_server(port=8050, height='600'))\n",
    "thread.start()"
   ]
  },
  {
   "cell_type": "markdown",
   "metadata": {},
   "source": [
    " # Podsumowanie\n",
    " W tym notatniku stworzyliśmy zgodnie z wymaganiami raport do dyspozycji osób decyzyjnych. Kod źródłowy może w tym momencie zostać przekazany dalej, do działu IT, który następnie wdroży rozwiązanie na serwer dostępny dla każdej zainteresowanej osoby. W praktyce oznacza to koniec naszej pracy nad tym zadaniem. Choć warto dodać, że często po udostępnieniu raportu pojawiają się dodatkowe wymagania oraz komentarze ze względu na informacje, które są tam zawarte.\n",
    "\n",
    " W kolejnym notatniku podsumujemy sobie cały warsztat."
   ]
  }
 ],
 "metadata": {
  "kernelspec": {
   "display_name": "Python 3 (ipykernel)",
   "language": "python",
   "name": "python3"
  },
  "language_info": {
   "codemirror_mode": {
    "name": "ipython",
    "version": 3
   },
   "file_extension": ".py",
   "mimetype": "text/x-python",
   "name": "python",
   "nbconvert_exporter": "python",
   "pygments_lexer": "ipython3",
   "version": "3.11.5"
  },
  "vscode": {
   "interpreter": {
    "hash": "38d75d0df746d7f75dd34c5d1915af59cb55786647bd68b8d9064425d7680b12"
   }
  }
 },
 "nbformat": 4,
 "nbformat_minor": 2
}
